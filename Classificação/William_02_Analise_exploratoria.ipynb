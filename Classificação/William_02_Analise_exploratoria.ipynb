{
  "nbformat": 4,
  "nbformat_minor": 0,
  "metadata": {
    "kernelspec": {
      "display_name": "Python 3",
      "language": "python",
      "name": "python3"
    },
    "language_info": {
      "codemirror_mode": {
        "name": "ipython",
        "version": 3
      },
      "file_extension": ".py",
      "mimetype": "text/x-python",
      "name": "python",
      "nbconvert_exporter": "python",
      "pygments_lexer": "ipython3",
      "version": "3.8.3"
    },
    "latex_envs": {
      "LaTeX_envs_menu_present": true,
      "autoclose": false,
      "autocomplete": true,
      "bibliofile": "biblio.bib",
      "cite_by": "apalike",
      "current_citInitial": 1,
      "eqLabelWithNumbers": true,
      "eqNumInitial": 1,
      "hotkeys": {
        "equation": "Ctrl-E",
        "itemize": "Ctrl-I"
      },
      "labels_anchors": false,
      "latex_user_defs": false,
      "report_style_numbering": false,
      "user_envs_cfg": false
    },
    "colab": {
      "provenance": [],
      "collapsed_sections": []
    }
  },
  "cells": [
    {
      "cell_type": "markdown",
      "metadata": {
        "id": "gwkDPV8fnkVm"
      },
      "source": [
        "# <font color='blue'>Análise exploratória dos dados</font>"
      ]
    },
    {
      "cell_type": "markdown",
      "metadata": {
        "id": "OvLzzE-_Ys-L"
      },
      "source": [
        "## Montando DRIVE"
      ]
    },
    {
      "cell_type": "code",
      "metadata": {
        "colab": {
          "base_uri": "https://localhost:8080/"
        },
        "id": "5YrrNQr7shuU",
        "outputId": "6fd19c00-18f5-4d89-ce7d-8da080533811"
      },
      "source": [
        "from google.colab import drive\n",
        "drive.mount('/content/drive')\n",
        "\n",
        "drive_dados = '/content/drive/MyDrive/RedesNeurais/Classificacao/'"
      ],
      "execution_count": null,
      "outputs": [
        {
          "output_type": "stream",
          "name": "stdout",
          "text": [
            "Drive already mounted at /content/drive; to attempt to forcibly remount, call drive.mount(\"/content/drive\", force_remount=True).\n"
          ]
        }
      ]
    },
    {
      "cell_type": "code",
      "metadata": {
        "id": "p_VNc4ezYxlN"
      },
      "source": [
        "from google.colab import drive\n",
        "drive.mount('/content/drive')\n",
        "\n",
        "drive_dados = '/content/drive/MyDrive/UFSB/Componentes_curriculares/RNA/_01_Classificacao/' # Colocar uma barra no final do endereço"
      ],
      "execution_count": null,
      "outputs": []
    },
    {
      "cell_type": "markdown",
      "metadata": {
        "id": "iTKz0KgOoAcB"
      },
      "source": [
        "## 1) Importando bibliotecas\n",
        "\n",
        "Importar as bibliotecas e o arquivo que serão utilizadas durante as análises. "
      ]
    },
    {
      "cell_type": "code",
      "metadata": {
        "id": "1A9MLz_JnkVt"
      },
      "source": [
        "# Imports bilbliotecas básica\n",
        "# ===========================\n",
        "import numpy as np\n",
        "import matplotlib.pyplot as plt\n",
        "%matplotlib inline \n",
        "import pandas as pd\n",
        "pd.set_option('display.max_columns', None)  \n",
        "pd.set_option('display.expand_frame_repr', False)\n",
        "pd.set_option('max_colwidth', None)\n",
        "\n",
        "# Imports bilbliotecas com funções importantes\n",
        "# ============================================\n",
        "import seaborn as sns\n",
        "from sklearn.preprocessing import LabelEncoder"
      ],
      "execution_count": null,
      "outputs": []
    },
    {
      "cell_type": "markdown",
      "metadata": {
        "id": "Eyk5GkE4nkVv"
      },
      "source": [
        "## 2) Extrai os dados do csv ou txt\n",
        "Um dos grandes problemas que encontramos é mal uso de separador e de encoding, então é importante se atentar a esses argumentos.\n",
        "\n",
        "É muito importante ressaltar que colocar os argumentos de separador e de encoding quando está lendo um arquivo evita problemas como os dados que não tenham sido separados corretamente.\n",
        "\n",
        "Fonte dos dados: Dados pre-processados."
      ]
    },
    {
      "cell_type": "code",
      "metadata": {
        "id": "lsere6i4nkVw",
        "colab": {
          "base_uri": "https://localhost:8080/",
          "height": 221
        },
        "outputId": "826542ae-6c7f-489e-fafc-c26aa8bfb755"
      },
      "source": [
        "# Carregando o dataset\n",
        "dataset = pd.read_csv(drive_dados + \"Dados_pre_processados.csv\", encoding = 'latin-1', sep = ',')\n",
        "dataset.drop(columns = [\"Unnamed: 0\"], inplace=True)\n",
        "# Verificando as primeiras linhas do dataset\n",
        "print(dataset.shape)\n",
        "dataset.head(5)"
      ],
      "execution_count": null,
      "outputs": [
        {
          "output_type": "stream",
          "name": "stdout",
          "text": [
            "(90, 8)\n"
          ]
        },
        {
          "output_type": "execute_result",
          "data": {
            "text/html": [
              "<div>\n",
              "<style scoped>\n",
              "    .dataframe tbody tr th:only-of-type {\n",
              "        vertical-align: middle;\n",
              "    }\n",
              "\n",
              "    .dataframe tbody tr th {\n",
              "        vertical-align: top;\n",
              "    }\n",
              "\n",
              "    .dataframe thead th {\n",
              "        text-align: right;\n",
              "    }\n",
              "</style>\n",
              "<table border=\"1\" class=\"dataframe\">\n",
              "  <thead>\n",
              "    <tr style=\"text-align: right;\">\n",
              "      <th></th>\n",
              "      <th>sex</th>\n",
              "      <th>age</th>\n",
              "      <th>Number_of_Warts</th>\n",
              "      <th>Type</th>\n",
              "      <th>Area</th>\n",
              "      <th>induration_diameter</th>\n",
              "      <th>Result_of_Treatment</th>\n",
              "      <th>label</th>\n",
              "    </tr>\n",
              "  </thead>\n",
              "  <tbody>\n",
              "    <tr>\n",
              "      <th>0</th>\n",
              "      <td>2</td>\n",
              "      <td>23</td>\n",
              "      <td>6</td>\n",
              "      <td>1</td>\n",
              "      <td>19</td>\n",
              "      <td>2</td>\n",
              "      <td>1</td>\n",
              "      <td>1</td>\n",
              "    </tr>\n",
              "    <tr>\n",
              "      <th>1</th>\n",
              "      <td>2</td>\n",
              "      <td>48</td>\n",
              "      <td>7</td>\n",
              "      <td>1</td>\n",
              "      <td>50</td>\n",
              "      <td>25</td>\n",
              "      <td>1</td>\n",
              "      <td>1</td>\n",
              "    </tr>\n",
              "    <tr>\n",
              "      <th>2</th>\n",
              "      <td>2</td>\n",
              "      <td>17</td>\n",
              "      <td>12</td>\n",
              "      <td>3</td>\n",
              "      <td>25</td>\n",
              "      <td>7</td>\n",
              "      <td>1</td>\n",
              "      <td>1</td>\n",
              "    </tr>\n",
              "    <tr>\n",
              "      <th>3</th>\n",
              "      <td>1</td>\n",
              "      <td>54</td>\n",
              "      <td>13</td>\n",
              "      <td>3</td>\n",
              "      <td>43</td>\n",
              "      <td>5</td>\n",
              "      <td>1</td>\n",
              "      <td>1</td>\n",
              "    </tr>\n",
              "    <tr>\n",
              "      <th>4</th>\n",
              "      <td>2</td>\n",
              "      <td>22</td>\n",
              "      <td>5</td>\n",
              "      <td>1</td>\n",
              "      <td>99</td>\n",
              "      <td>8</td>\n",
              "      <td>1</td>\n",
              "      <td>1</td>\n",
              "    </tr>\n",
              "  </tbody>\n",
              "</table>\n",
              "</div>"
            ],
            "text/plain": [
              "   sex  age  Number_of_Warts  Type  Area  induration_diameter  Result_of_Treatment  label\n",
              "0    2   23                6     1    19                    2                    1      1\n",
              "1    2   48                7     1    50                   25                    1      1\n",
              "2    2   17               12     3    25                    7                    1      1\n",
              "3    1   54               13     3    43                    5                    1      1\n",
              "4    2   22                5     1    99                    8                    1      1"
            ]
          },
          "metadata": {},
          "execution_count": 3
        }
      ]
    },
    {
      "cell_type": "markdown",
      "metadata": {
        "id": "pG0EDIz8nkVy"
      },
      "source": [
        "Note que não utilizamos o encoding utf-8, pois com o seu uso podemos ter apenas de 0-127 valores, portanto utilzamos o latin-1, que também é conhecido como ISO-8859–1, e que cobre de 0–255 valores."
      ]
    },
    {
      "cell_type": "markdown",
      "metadata": {
        "tags": [],
        "id": "0zx7zwFMnkVz"
      },
      "source": [
        "## 3) Definindo variáveis contínuas e categóricas (Exceto a saída)\n",
        "Para fins de visualização, dividiremos os dados em variáveis contínuas e categóricas. \n",
        "\n",
        "Trataremos todas as variáveis com menos de 10 entradas únicas como categóricas."
      ]
    },
    {
      "cell_type": "code",
      "metadata": {
        "id": "EBCc9hEfnkV1",
        "colab": {
          "base_uri": "https://localhost:8080/"
        },
        "outputId": "f47723bc-dacd-46e5-bf1e-7af54c35abca"
      },
      "source": [
        "# Verificando Valores Únicos\n",
        "dataset.nunique()"
      ],
      "execution_count": null,
      "outputs": [
        {
          "output_type": "execute_result",
          "data": {
            "text/plain": [
              "sex                     2\n",
              "age                    36\n",
              "Number_of_Warts        16\n",
              "Type                    3\n",
              "Area                   65\n",
              "induration_diameter    12\n",
              "Result_of_Treatment     2\n",
              "label                   2\n",
              "dtype: int64"
            ]
          },
          "metadata": {},
          "execution_count": 4
        }
      ]
    },
    {
      "cell_type": "markdown",
      "metadata": {
        "id": "qmID02BhnkV3"
      },
      "source": [
        "### 3.1) Dividindo o dataset entre variáveis continuas e categoricas e separando as colunas vinculadas a variável target"
      ]
    },
    {
      "cell_type": "code",
      "metadata": {
        "id": "46ZTWZ8dnkV5"
      },
      "source": [
        "# Preparando os dados para a separação entre variáveis contínuas e categóricas\n",
        "n_entradas = 10\n",
        "\n",
        "# Listas vazias para os resultados\n",
        "continuous = []\n",
        "categorical = []\n",
        "\n",
        "# Loop pelas colunas menos as colunas relacionadas ao target\n",
        "targets = ['Result_of_Treatment', 'label']\n",
        "columns = [elemento for elemento in dataset.columns if elemento not in targets]\n",
        "for c in columns:\n",
        "    if dataset.nunique()[c] >= n_entradas:\n",
        "        continuous.append(c)\n",
        "    else:\n",
        "        categorical.append(c)"
      ],
      "execution_count": null,
      "outputs": []
    },
    {
      "cell_type": "markdown",
      "metadata": {
        "id": "ojjVoHJTnkV8"
      },
      "source": [
        "#### 3.1.1) Variáveis contínuas"
      ]
    },
    {
      "cell_type": "code",
      "metadata": {
        "id": "XP2UlpvunkV-",
        "colab": {
          "base_uri": "https://localhost:8080/",
          "height": 221
        },
        "outputId": "6444b886-7f87-48d3-fa32-7aaf63bdfbe9"
      },
      "source": [
        "print(f'{len(continuous)} de {dataset.shape[1]-len(targets)} variáveis de preditoras foram classificadas como continuas no dataset.')\n",
        "dataset[continuous].head()"
      ],
      "execution_count": null,
      "outputs": [
        {
          "output_type": "stream",
          "name": "stdout",
          "text": [
            "4 de 6 variáveis de preditoras foram classificadas como continuas no dataset.\n"
          ]
        },
        {
          "output_type": "execute_result",
          "data": {
            "text/html": [
              "<div>\n",
              "<style scoped>\n",
              "    .dataframe tbody tr th:only-of-type {\n",
              "        vertical-align: middle;\n",
              "    }\n",
              "\n",
              "    .dataframe tbody tr th {\n",
              "        vertical-align: top;\n",
              "    }\n",
              "\n",
              "    .dataframe thead th {\n",
              "        text-align: right;\n",
              "    }\n",
              "</style>\n",
              "<table border=\"1\" class=\"dataframe\">\n",
              "  <thead>\n",
              "    <tr style=\"text-align: right;\">\n",
              "      <th></th>\n",
              "      <th>age</th>\n",
              "      <th>Number_of_Warts</th>\n",
              "      <th>Area</th>\n",
              "      <th>induration_diameter</th>\n",
              "    </tr>\n",
              "  </thead>\n",
              "  <tbody>\n",
              "    <tr>\n",
              "      <th>0</th>\n",
              "      <td>23</td>\n",
              "      <td>6</td>\n",
              "      <td>19</td>\n",
              "      <td>2</td>\n",
              "    </tr>\n",
              "    <tr>\n",
              "      <th>1</th>\n",
              "      <td>48</td>\n",
              "      <td>7</td>\n",
              "      <td>50</td>\n",
              "      <td>25</td>\n",
              "    </tr>\n",
              "    <tr>\n",
              "      <th>2</th>\n",
              "      <td>17</td>\n",
              "      <td>12</td>\n",
              "      <td>25</td>\n",
              "      <td>7</td>\n",
              "    </tr>\n",
              "    <tr>\n",
              "      <th>3</th>\n",
              "      <td>54</td>\n",
              "      <td>13</td>\n",
              "      <td>43</td>\n",
              "      <td>5</td>\n",
              "    </tr>\n",
              "    <tr>\n",
              "      <th>4</th>\n",
              "      <td>22</td>\n",
              "      <td>5</td>\n",
              "      <td>99</td>\n",
              "      <td>8</td>\n",
              "    </tr>\n",
              "  </tbody>\n",
              "</table>\n",
              "</div>"
            ],
            "text/plain": [
              "   age  Number_of_Warts  Area  induration_diameter\n",
              "0   23                6    19                    2\n",
              "1   48                7    50                   25\n",
              "2   17               12    25                    7\n",
              "3   54               13    43                    5\n",
              "4   22                5    99                    8"
            ]
          },
          "metadata": {},
          "execution_count": 6
        }
      ]
    },
    {
      "cell_type": "markdown",
      "metadata": {
        "id": "hcCjHo3unkV_"
      },
      "source": [
        "#### 3.1.2) Variáveis categóricas"
      ]
    },
    {
      "cell_type": "code",
      "metadata": {
        "id": "FW86otgSnkWA",
        "colab": {
          "base_uri": "https://localhost:8080/",
          "height": 221
        },
        "outputId": "27e97c62-8a53-4ffe-81dc-2a5f95e6ad8d"
      },
      "source": [
        "print(f'{len(categorical)} de {dataset.shape[1]-len(targets)} variáveis preditoras foram classificadas como categóricas no dataset.')\n",
        "dataset[categorical].head()"
      ],
      "execution_count": null,
      "outputs": [
        {
          "output_type": "stream",
          "name": "stdout",
          "text": [
            "2 de 6 variáveis preditoras foram classificadas como categóricas no dataset.\n"
          ]
        },
        {
          "output_type": "execute_result",
          "data": {
            "text/html": [
              "<div>\n",
              "<style scoped>\n",
              "    .dataframe tbody tr th:only-of-type {\n",
              "        vertical-align: middle;\n",
              "    }\n",
              "\n",
              "    .dataframe tbody tr th {\n",
              "        vertical-align: top;\n",
              "    }\n",
              "\n",
              "    .dataframe thead th {\n",
              "        text-align: right;\n",
              "    }\n",
              "</style>\n",
              "<table border=\"1\" class=\"dataframe\">\n",
              "  <thead>\n",
              "    <tr style=\"text-align: right;\">\n",
              "      <th></th>\n",
              "      <th>sex</th>\n",
              "      <th>Type</th>\n",
              "    </tr>\n",
              "  </thead>\n",
              "  <tbody>\n",
              "    <tr>\n",
              "      <th>0</th>\n",
              "      <td>2</td>\n",
              "      <td>1</td>\n",
              "    </tr>\n",
              "    <tr>\n",
              "      <th>1</th>\n",
              "      <td>2</td>\n",
              "      <td>1</td>\n",
              "    </tr>\n",
              "    <tr>\n",
              "      <th>2</th>\n",
              "      <td>2</td>\n",
              "      <td>3</td>\n",
              "    </tr>\n",
              "    <tr>\n",
              "      <th>3</th>\n",
              "      <td>1</td>\n",
              "      <td>3</td>\n",
              "    </tr>\n",
              "    <tr>\n",
              "      <th>4</th>\n",
              "      <td>2</td>\n",
              "      <td>1</td>\n",
              "    </tr>\n",
              "  </tbody>\n",
              "</table>\n",
              "</div>"
            ],
            "text/plain": [
              "   sex  Type\n",
              "0    2     1\n",
              "1    2     1\n",
              "2    2     3\n",
              "3    1     3\n",
              "4    2     1"
            ]
          },
          "metadata": {},
          "execution_count": 7
        }
      ]
    },
    {
      "cell_type": "markdown",
      "metadata": {
        "id": "MOwzoVENnkWC"
      },
      "source": [
        "### 3.2) Mudando variáveis de classes (contínua/categórica)"
      ]
    },
    {
      "cell_type": "code",
      "metadata": {
        "id": "iq5I40MtnkWD",
        "colab": {
          "base_uri": "https://localhost:8080/",
          "height": 204
        },
        "outputId": "eb194fc4-e60a-4765-a277-511b1a8c999d"
      },
      "source": [
        "# Remove variáveis da classe continua\n",
        "val_remove = []\n",
        "for classe in val_remove:\n",
        "    if(classe in continuous):\n",
        "        continuous.remove(classe)\n",
        "        categorical.append(classe)\n",
        "    \n",
        "# Variáveis continuas\n",
        "dataset[continuous].head()"
      ],
      "execution_count": null,
      "outputs": [
        {
          "output_type": "execute_result",
          "data": {
            "text/html": [
              "<div>\n",
              "<style scoped>\n",
              "    .dataframe tbody tr th:only-of-type {\n",
              "        vertical-align: middle;\n",
              "    }\n",
              "\n",
              "    .dataframe tbody tr th {\n",
              "        vertical-align: top;\n",
              "    }\n",
              "\n",
              "    .dataframe thead th {\n",
              "        text-align: right;\n",
              "    }\n",
              "</style>\n",
              "<table border=\"1\" class=\"dataframe\">\n",
              "  <thead>\n",
              "    <tr style=\"text-align: right;\">\n",
              "      <th></th>\n",
              "      <th>age</th>\n",
              "      <th>Number_of_Warts</th>\n",
              "      <th>Area</th>\n",
              "      <th>induration_diameter</th>\n",
              "    </tr>\n",
              "  </thead>\n",
              "  <tbody>\n",
              "    <tr>\n",
              "      <th>0</th>\n",
              "      <td>23</td>\n",
              "      <td>6</td>\n",
              "      <td>19</td>\n",
              "      <td>2</td>\n",
              "    </tr>\n",
              "    <tr>\n",
              "      <th>1</th>\n",
              "      <td>48</td>\n",
              "      <td>7</td>\n",
              "      <td>50</td>\n",
              "      <td>25</td>\n",
              "    </tr>\n",
              "    <tr>\n",
              "      <th>2</th>\n",
              "      <td>17</td>\n",
              "      <td>12</td>\n",
              "      <td>25</td>\n",
              "      <td>7</td>\n",
              "    </tr>\n",
              "    <tr>\n",
              "      <th>3</th>\n",
              "      <td>54</td>\n",
              "      <td>13</td>\n",
              "      <td>43</td>\n",
              "      <td>5</td>\n",
              "    </tr>\n",
              "    <tr>\n",
              "      <th>4</th>\n",
              "      <td>22</td>\n",
              "      <td>5</td>\n",
              "      <td>99</td>\n",
              "      <td>8</td>\n",
              "    </tr>\n",
              "  </tbody>\n",
              "</table>\n",
              "</div>"
            ],
            "text/plain": [
              "   age  Number_of_Warts  Area  induration_diameter\n",
              "0   23                6    19                    2\n",
              "1   48                7    50                   25\n",
              "2   17               12    25                    7\n",
              "3   54               13    43                    5\n",
              "4   22                5    99                    8"
            ]
          },
          "metadata": {},
          "execution_count": 8
        }
      ]
    },
    {
      "cell_type": "code",
      "metadata": {
        "id": "KiH1vYmVnkWF",
        "colab": {
          "base_uri": "https://localhost:8080/",
          "height": 204
        },
        "outputId": "d33ea42f-4326-4b46-dd38-2a1a1745dd18"
      },
      "source": [
        "# Remove variáveis da classe categórica\n",
        "val_remove = []\n",
        "for classe in val_remove:\n",
        "    if(classe in categorical):\n",
        "        categorical.remove(classe)\n",
        "        continuous.append(classe)\n",
        "    \n",
        "# Variáveis categóricas\n",
        "dataset[categorical].head()"
      ],
      "execution_count": null,
      "outputs": [
        {
          "output_type": "execute_result",
          "data": {
            "text/html": [
              "<div>\n",
              "<style scoped>\n",
              "    .dataframe tbody tr th:only-of-type {\n",
              "        vertical-align: middle;\n",
              "    }\n",
              "\n",
              "    .dataframe tbody tr th {\n",
              "        vertical-align: top;\n",
              "    }\n",
              "\n",
              "    .dataframe thead th {\n",
              "        text-align: right;\n",
              "    }\n",
              "</style>\n",
              "<table border=\"1\" class=\"dataframe\">\n",
              "  <thead>\n",
              "    <tr style=\"text-align: right;\">\n",
              "      <th></th>\n",
              "      <th>sex</th>\n",
              "      <th>Type</th>\n",
              "    </tr>\n",
              "  </thead>\n",
              "  <tbody>\n",
              "    <tr>\n",
              "      <th>0</th>\n",
              "      <td>2</td>\n",
              "      <td>1</td>\n",
              "    </tr>\n",
              "    <tr>\n",
              "      <th>1</th>\n",
              "      <td>2</td>\n",
              "      <td>1</td>\n",
              "    </tr>\n",
              "    <tr>\n",
              "      <th>2</th>\n",
              "      <td>2</td>\n",
              "      <td>3</td>\n",
              "    </tr>\n",
              "    <tr>\n",
              "      <th>3</th>\n",
              "      <td>1</td>\n",
              "      <td>3</td>\n",
              "    </tr>\n",
              "    <tr>\n",
              "      <th>4</th>\n",
              "      <td>2</td>\n",
              "      <td>1</td>\n",
              "    </tr>\n",
              "  </tbody>\n",
              "</table>\n",
              "</div>"
            ],
            "text/plain": [
              "   sex  Type\n",
              "0    2     1\n",
              "1    2     1\n",
              "2    2     3\n",
              "3    1     3\n",
              "4    2     1"
            ]
          },
          "metadata": {},
          "execution_count": 9
        }
      ]
    },
    {
      "cell_type": "markdown",
      "metadata": {
        "tags": [],
        "id": "4VZStq40nkWG"
      },
      "source": [
        "## 4) Análise das variáveis contínuas"
      ]
    },
    {
      "cell_type": "markdown",
      "metadata": {
        "id": "jJYIm8ihnkWH"
      },
      "source": [
        "### 4.1) Análise BoxPlot"
      ]
    },
    {
      "cell_type": "code",
      "metadata": {
        "id": "DWI-hOlhnkWH",
        "colab": {
          "base_uri": "https://localhost:8080/",
          "height": 409
        },
        "outputId": "a02252d8-722a-426a-91a0-0e8efb59cbce"
      },
      "source": [
        "# Definido faixa de variáveis que serão analisadas\n",
        "inicio = 0\n",
        "total_variáveis = len(continuous)\n",
        "\n",
        "# Tamanho da área de plotagem\n",
        "fig = plt.figure(figsize = (10,total_variáveis*2))\n",
        "\n",
        "\n",
        "# Loop pelas variáveis contínuas\n",
        "for i, col in enumerate(continuous[inicio:inicio+total_variáveis]):\n",
        "    plt.subplot(int(total_variáveis/2)+1, 2, i + 1);\n",
        "    dataset.boxplot(col);\n",
        "    plt.tight_layout()\n",
        "    \n",
        "plt.savefig('boxplot1.png')"
      ],
      "execution_count": null,
      "outputs": [
        {
          "output_type": "display_data",
          "data": {
            "image/png": "[encoded data removed]",
            "text/plain": [
              "<Figure size 720x576 with 4 Axes>"
            ]
          },
          "metadata": {
            "needs_background": "light"
          }
        }
      ]
    },
    {
      "cell_type": "markdown",
      "metadata": {
        "id": "Z8P6_DOpnkWI"
      },
      "source": [
        "#### 4.1.1) Removendo outliers"
      ]
    },
    {
      "cell_type": "code",
      "metadata": {
        "id": "jThlI6QMnkWI",
        "colab": {
          "base_uri": "https://localhost:8080/"
        },
        "outputId": "06099e21-9e7f-4fc5-d073-2c7b2282c852"
      },
      "source": [
        "# Mostra colunas do dataset\n",
        "dataset.columns"
      ],
      "execution_count": null,
      "outputs": [
        {
          "output_type": "execute_result",
          "data": {
            "text/plain": [
              "Index(['sex', 'age', 'Number_of_Warts', 'Type', 'Area', 'induration_diameter',\n",
              "       'Result_of_Treatment', 'label'],\n",
              "      dtype='object')"
            ]
          },
          "metadata": {},
          "execution_count": 11
        }
      ]
    },
    {
      "cell_type": "code",
      "metadata": {
        "id": "gPpkaHqxnkWI",
        "colab": {
          "base_uri": "https://localhost:8080/"
        },
        "outputId": "85daa365-5998-4372-90aa-05879c938599"
      },
      "source": [
        "# identificando outiliers de uma coluna\n",
        "column = 'Area'\n",
        "y=dataset[column]\n",
        "removed_outliers = ~y.between(y.quantile(.05), y.quantile(.95))\n",
        "index_names = dataset[removed_outliers].index # INVERT removed_outliers!!\n",
        "print(f'Devem ser removidos {len(index_names)} outliers que estão nos seguintes indices:')\n",
        "print(index_names) # The resulting dates to drop.\n",
        "print(removed_outliers.value_counts())"
      ],
      "execution_count": null,
      "outputs": [
        {
          "output_type": "stream",
          "name": "stdout",
          "text": [
            "Devem ser removidos 9 outliers que estão nos seguintes indices:\n",
            "Int64Index([9, 28, 43, 44, 53, 58, 60, 65, 74], dtype='int64')\n",
            "False    81\n",
            "True      9\n",
            "Name: Area, dtype: int64\n"
          ]
        }
      ]
    },
    {
      "cell_type": "code",
      "metadata": {
        "id": "588xG0kPnkWJ"
      },
      "source": [
        "# Removendo linhas com outliers\n",
        "# O comando só terá efeito com inplace=True\n",
        "dataset.drop(index_names, inplace=True)"
      ],
      "execution_count": null,
      "outputs": []
    },
    {
      "cell_type": "markdown",
      "metadata": {
        "id": "P4V6K5BknkWL"
      },
      "source": [
        "### 4.2) Matriz de Correlação Entre Variáveis Contínuas."
      ]
    },
    {
      "cell_type": "code",
      "metadata": {
        "id": "bqbxrf-EnkWL",
        "colab": {
          "base_uri": "https://localhost:8080/",
          "height": 595
        },
        "outputId": "415f631b-b381-4e86-9318-3e936d4c0dd8"
      },
      "source": [
        "# Área de plotagem\n",
        "plt.figure(figsize = (10,10))\n",
        "\n",
        "# Matriz de Correlação \n",
        "sns.heatmap(dataset[continuous].corr(), vmax = 1., square = True)"
      ],
      "execution_count": null,
      "outputs": [
        {
          "output_type": "execute_result",
          "data": {
            "text/plain": [
              "<matplotlib.axes._subplots.AxesSubplot at 0x7fd4284d18d0>"
            ]
          },
          "metadata": {},
          "execution_count": 14
        },
        {
          "output_type": "display_data",
          "data": {
            "image/png": "[encoded data removed]",
            "text/plain": [
              "<Figure size 720x720 with 2 Axes>"
            ]
          },
          "metadata": {
            "needs_background": "light"
          }
        }
      ]
    },
    {
      "cell_type": "markdown",
      "metadata": {
        "id": "xwJGPpIknkWL"
      },
      "source": [
        "## 5) Análise das variáveis categóricas"
      ]
    },
    {
      "cell_type": "markdown",
      "metadata": {
        "id": "7UYhVGY4nkWM"
      },
      "source": [
        "### 5.1) Visualização da distribuição na categoria principal"
      ]
    },
    {
      "cell_type": "code",
      "metadata": {
        "id": "dnpaJgVwnkWM",
        "colab": {
          "base_uri": "https://localhost:8080/",
          "height": 530
        },
        "outputId": "833136d8-2b6a-48f5-af03-2c9a16dfaad7"
      },
      "source": [
        "# Countplot Saída\n",
        "target = 'label'\n",
        "plt.figure(figsize = (20,8))\n",
        "plt.subplot(1,2,2)\n",
        "plt.title(\"Classes Saídas\")\n",
        "sns.countplot(x=dataset[target], palette = \"dark\")"
      ],
      "execution_count": null,
      "outputs": [
        {
          "output_type": "execute_result",
          "data": {
            "text/plain": [
              "<matplotlib.axes._subplots.AxesSubplot at 0x7fd427d5aa50>"
            ]
          },
          "metadata": {},
          "execution_count": 15
        },
        {
          "output_type": "display_data",
          "data": {
            "image/png": "[encoded data removed]",
            "text/plain": [
              "<Figure size 1440x576 with 1 Axes>"
            ]
          },
          "metadata": {
            "needs_background": "light"
          }
        }
      ]
    },
    {
      "cell_type": "markdown",
      "metadata": {
        "id": "YH4px_ANnkWM"
      },
      "source": [
        "### 5.2) Visualização da distribuição nas categorias secundárias\n",
        "Analisar como a variável de destino (target) é influenciada por elas."
      ]
    },
    {
      "cell_type": "code",
      "metadata": {
        "id": "D2-ut-BKnkWN",
        "colab": {
          "base_uri": "https://localhost:8080/",
          "height": 204
        },
        "outputId": "21f9d401-06f8-4f49-f572-40a628e6217a"
      },
      "source": [
        "# Variáveis categóricas\n",
        "dataset[categorical].head()"
      ],
      "execution_count": null,
      "outputs": [
        {
          "output_type": "execute_result",
          "data": {
            "text/html": [
              "<div>\n",
              "<style scoped>\n",
              "    .dataframe tbody tr th:only-of-type {\n",
              "        vertical-align: middle;\n",
              "    }\n",
              "\n",
              "    .dataframe tbody tr th {\n",
              "        vertical-align: top;\n",
              "    }\n",
              "\n",
              "    .dataframe thead th {\n",
              "        text-align: right;\n",
              "    }\n",
              "</style>\n",
              "<table border=\"1\" class=\"dataframe\">\n",
              "  <thead>\n",
              "    <tr style=\"text-align: right;\">\n",
              "      <th></th>\n",
              "      <th>sex</th>\n",
              "      <th>Type</th>\n",
              "    </tr>\n",
              "  </thead>\n",
              "  <tbody>\n",
              "    <tr>\n",
              "      <th>0</th>\n",
              "      <td>2</td>\n",
              "      <td>1</td>\n",
              "    </tr>\n",
              "    <tr>\n",
              "      <th>1</th>\n",
              "      <td>2</td>\n",
              "      <td>1</td>\n",
              "    </tr>\n",
              "    <tr>\n",
              "      <th>2</th>\n",
              "      <td>2</td>\n",
              "      <td>3</td>\n",
              "    </tr>\n",
              "    <tr>\n",
              "      <th>3</th>\n",
              "      <td>1</td>\n",
              "      <td>3</td>\n",
              "    </tr>\n",
              "    <tr>\n",
              "      <th>4</th>\n",
              "      <td>2</td>\n",
              "      <td>1</td>\n",
              "    </tr>\n",
              "  </tbody>\n",
              "</table>\n",
              "</div>"
            ],
            "text/plain": [
              "   sex  Type\n",
              "0    2     1\n",
              "1    2     1\n",
              "2    2     3\n",
              "3    1     3\n",
              "4    2     1"
            ]
          },
          "metadata": {},
          "execution_count": 16
        }
      ]
    },
    {
      "cell_type": "code",
      "metadata": {
        "id": "h2HJSo3KnkWP",
        "colab": {
          "base_uri": "https://localhost:8080/",
          "height": 310
        },
        "outputId": "8be41a05-a116-40f1-9fe5-9f3b947d93cc"
      },
      "source": [
        "# Countplot variavel categoria especifica\n",
        "posicao = 0 # Posição da variável na lista categorical\n",
        "sns.countplot(x=dataset[dataset[categorical].columns[posicao]])\n",
        "plt.xlabel('Classes de saídas', fontsize = 11)\n",
        "plt.ylabel('Total de observações', fontsize = 11)\n",
        "plt.title(f'Contagem de Classes para {dataset[categorical].columns[posicao]}\\n')\n",
        "plt.show()"
      ],
      "execution_count": null,
      "outputs": [
        {
          "output_type": "display_data",
          "data": {
            "image/png": "[encoded data removed]",
            "text/plain": [
              "<Figure size 432x288 with 1 Axes>"
            ]
          },
          "metadata": {
            "needs_background": "light"
          }
        }
      ]
    },
    {
      "cell_type": "code",
      "metadata": {
        "id": "DpmcDw7hnkWP",
        "colab": {
          "base_uri": "https://localhost:8080/",
          "height": 347
        },
        "outputId": "c6f1f549-8944-4f41-bffe-7324f1366726"
      },
      "source": [
        "# Stacked Bar Tipo de Variável x Saida\n",
        "posicao = 0 # Posição da variável na lista categorical\n",
        "var_considerada = dataset[categorical].columns[posicao]\n",
        "var_saida = dataset.columns[-1] # Variável de saída considerada\n",
        "pd.crosstab(dataset[var_considerada], dataset[var_saida]).plot(kind = 'bar', \n",
        "                                                   stacked = True, \n",
        "                                                   figsize = (15, 5), \n",
        "                                                   color = ['red', 'green', 'b', 'k'])"
      ],
      "execution_count": null,
      "outputs": [
        {
          "output_type": "execute_result",
          "data": {
            "text/plain": [
              "<matplotlib.axes._subplots.AxesSubplot at 0x7fd4306c90d0>"
            ]
          },
          "metadata": {},
          "execution_count": 18
        },
        {
          "output_type": "display_data",
          "data": {
            "image/png": "[encoded data removed]",
            "text/plain": [
              "<Figure size 1080x360 with 1 Axes>"
            ]
          },
          "metadata": {
            "needs_background": "light"
          }
        }
      ]
    },
    {
      "cell_type": "markdown",
      "metadata": {
        "id": "kdQuc4NankWQ"
      },
      "source": [
        "## 6) Aplica encoder em todas as variáveis categoricas"
      ]
    },
    {
      "cell_type": "code",
      "metadata": {
        "id": "XdxdoACWnkWQ",
        "colab": {
          "base_uri": "https://localhost:8080/"
        },
        "outputId": "c01f067d-c673-4c30-e381-4e34f90b113b"
      },
      "source": [
        "# Cria o encoder para as variáveis categóricas\n",
        "lb = LabelEncoder()\n",
        "\n",
        "# Aplica o encoder nas variáveis que estão com string\n",
        "for var in categorical:\n",
        "    dataset.loc[:,var] = lb.fit_transform(dataset[var])\n",
        "\n",
        "# Verificando valores missing\n",
        "print(dataset.isna().sum())"
      ],
      "execution_count": null,
      "outputs": [
        {
          "output_type": "stream",
          "name": "stdout",
          "text": [
            "sex                    0\n",
            "age                    0\n",
            "Number_of_Warts        0\n",
            "Type                   0\n",
            "Area                   0\n",
            "induration_diameter    0\n",
            "Result_of_Treatment    0\n",
            "label                  0\n",
            "dtype: int64\n"
          ]
        }
      ]
    },
    {
      "cell_type": "code",
      "metadata": {
        "id": "EFTf-2ATnkWR",
        "colab": {
          "base_uri": "https://localhost:8080/",
          "height": 419
        },
        "outputId": "0a5503a0-3fdf-4181-e4cc-47f9dd5194c5"
      },
      "source": [
        "# Remove valores missing eventualmente gerados\n",
        "# O comando só terá efeito com inplace=True\n",
        "dataset.dropna(inplace = False)"
      ],
      "execution_count": null,
      "outputs": [
        {
          "output_type": "execute_result",
          "data": {
            "text/html": [
              "<div>\n",
              "<style scoped>\n",
              "    .dataframe tbody tr th:only-of-type {\n",
              "        vertical-align: middle;\n",
              "    }\n",
              "\n",
              "    .dataframe tbody tr th {\n",
              "        vertical-align: top;\n",
              "    }\n",
              "\n",
              "    .dataframe thead th {\n",
              "        text-align: right;\n",
              "    }\n",
              "</style>\n",
              "<table border=\"1\" class=\"dataframe\">\n",
              "  <thead>\n",
              "    <tr style=\"text-align: right;\">\n",
              "      <th></th>\n",
              "      <th>sex</th>\n",
              "      <th>age</th>\n",
              "      <th>Number_of_Warts</th>\n",
              "      <th>Type</th>\n",
              "      <th>Area</th>\n",
              "      <th>induration_diameter</th>\n",
              "      <th>Result_of_Treatment</th>\n",
              "      <th>label</th>\n",
              "    </tr>\n",
              "  </thead>\n",
              "  <tbody>\n",
              "    <tr>\n",
              "      <th>0</th>\n",
              "      <td>1</td>\n",
              "      <td>23</td>\n",
              "      <td>6</td>\n",
              "      <td>0</td>\n",
              "      <td>19</td>\n",
              "      <td>2</td>\n",
              "      <td>1</td>\n",
              "      <td>1</td>\n",
              "    </tr>\n",
              "    <tr>\n",
              "      <th>1</th>\n",
              "      <td>1</td>\n",
              "      <td>48</td>\n",
              "      <td>7</td>\n",
              "      <td>0</td>\n",
              "      <td>50</td>\n",
              "      <td>25</td>\n",
              "      <td>1</td>\n",
              "      <td>1</td>\n",
              "    </tr>\n",
              "    <tr>\n",
              "      <th>2</th>\n",
              "      <td>1</td>\n",
              "      <td>17</td>\n",
              "      <td>12</td>\n",
              "      <td>2</td>\n",
              "      <td>25</td>\n",
              "      <td>7</td>\n",
              "      <td>1</td>\n",
              "      <td>1</td>\n",
              "    </tr>\n",
              "    <tr>\n",
              "      <th>3</th>\n",
              "      <td>0</td>\n",
              "      <td>54</td>\n",
              "      <td>13</td>\n",
              "      <td>2</td>\n",
              "      <td>43</td>\n",
              "      <td>5</td>\n",
              "      <td>1</td>\n",
              "      <td>1</td>\n",
              "    </tr>\n",
              "    <tr>\n",
              "      <th>4</th>\n",
              "      <td>1</td>\n",
              "      <td>22</td>\n",
              "      <td>5</td>\n",
              "      <td>0</td>\n",
              "      <td>99</td>\n",
              "      <td>8</td>\n",
              "      <td>1</td>\n",
              "      <td>1</td>\n",
              "    </tr>\n",
              "    <tr>\n",
              "      <th>...</th>\n",
              "      <td>...</td>\n",
              "      <td>...</td>\n",
              "      <td>...</td>\n",
              "      <td>...</td>\n",
              "      <td>...</td>\n",
              "      <td>...</td>\n",
              "      <td>...</td>\n",
              "      <td>...</td>\n",
              "    </tr>\n",
              "    <tr>\n",
              "      <th>85</th>\n",
              "      <td>1</td>\n",
              "      <td>51</td>\n",
              "      <td>1</td>\n",
              "      <td>0</td>\n",
              "      <td>65</td>\n",
              "      <td>7</td>\n",
              "      <td>1</td>\n",
              "      <td>1</td>\n",
              "    </tr>\n",
              "    <tr>\n",
              "      <th>86</th>\n",
              "      <td>0</td>\n",
              "      <td>40</td>\n",
              "      <td>8</td>\n",
              "      <td>2</td>\n",
              "      <td>69</td>\n",
              "      <td>5</td>\n",
              "      <td>1</td>\n",
              "      <td>1</td>\n",
              "    </tr>\n",
              "    <tr>\n",
              "      <th>87</th>\n",
              "      <td>1</td>\n",
              "      <td>16</td>\n",
              "      <td>11</td>\n",
              "      <td>0</td>\n",
              "      <td>47</td>\n",
              "      <td>7</td>\n",
              "      <td>1</td>\n",
              "      <td>1</td>\n",
              "    </tr>\n",
              "    <tr>\n",
              "      <th>88</th>\n",
              "      <td>0</td>\n",
              "      <td>20</td>\n",
              "      <td>6</td>\n",
              "      <td>0</td>\n",
              "      <td>45</td>\n",
              "      <td>8</td>\n",
              "      <td>1</td>\n",
              "      <td>1</td>\n",
              "    </tr>\n",
              "    <tr>\n",
              "      <th>89</th>\n",
              "      <td>0</td>\n",
              "      <td>17</td>\n",
              "      <td>2</td>\n",
              "      <td>0</td>\n",
              "      <td>44</td>\n",
              "      <td>8</td>\n",
              "      <td>1</td>\n",
              "      <td>1</td>\n",
              "    </tr>\n",
              "  </tbody>\n",
              "</table>\n",
              "<p>81 rows × 8 columns</p>\n",
              "</div>"
            ],
            "text/plain": [
              "    sex  age  Number_of_Warts  Type  Area  induration_diameter  Result_of_Treatment  label\n",
              "0     1   23                6     0    19                    2                    1      1\n",
              "1     1   48                7     0    50                   25                    1      1\n",
              "2     1   17               12     2    25                    7                    1      1\n",
              "3     0   54               13     2    43                    5                    1      1\n",
              "4     1   22                5     0    99                    8                    1      1\n",
              "..  ...  ...              ...   ...   ...                  ...                  ...    ...\n",
              "85    1   51                1     0    65                    7                    1      1\n",
              "86    0   40                8     2    69                    5                    1      1\n",
              "87    1   16               11     0    47                    7                    1      1\n",
              "88    0   20                6     0    45                    8                    1      1\n",
              "89    0   17                2     0    44                    8                    1      1\n",
              "\n",
              "[81 rows x 8 columns]"
            ]
          },
          "metadata": {},
          "execution_count": 20
        }
      ]
    },
    {
      "cell_type": "code",
      "metadata": {
        "id": "GDOhM3rxnkWR",
        "colab": {
          "base_uri": "https://localhost:8080/"
        },
        "outputId": "02c46bd5-a700-48d4-8ed1-6d1f63a076fc"
      },
      "source": [
        "# Verificando Valores Únicos\n",
        "dataset.nunique()"
      ],
      "execution_count": null,
      "outputs": [
        {
          "output_type": "execute_result",
          "data": {
            "text/plain": [
              "sex                     2\n",
              "age                    36\n",
              "Number_of_Warts        16\n",
              "Type                    3\n",
              "Area                   57\n",
              "induration_diameter    12\n",
              "Result_of_Treatment     2\n",
              "label                   2\n",
              "dtype: int64"
            ]
          },
          "metadata": {},
          "execution_count": 21
        }
      ]
    },
    {
      "cell_type": "code",
      "metadata": {
        "id": "XuM0r4uenkWS",
        "colab": {
          "base_uri": "https://localhost:8080/",
          "height": 419
        },
        "outputId": "75531e91-666e-4782-dbe5-9e874d3f220e"
      },
      "source": [
        "# Variáveis categóricas após encoder\n",
        "dataset[categorical]"
      ],
      "execution_count": null,
      "outputs": [
        {
          "output_type": "execute_result",
          "data": {
            "text/html": [
              "<div>\n",
              "<style scoped>\n",
              "    .dataframe tbody tr th:only-of-type {\n",
              "        vertical-align: middle;\n",
              "    }\n",
              "\n",
              "    .dataframe tbody tr th {\n",
              "        vertical-align: top;\n",
              "    }\n",
              "\n",
              "    .dataframe thead th {\n",
              "        text-align: right;\n",
              "    }\n",
              "</style>\n",
              "<table border=\"1\" class=\"dataframe\">\n",
              "  <thead>\n",
              "    <tr style=\"text-align: right;\">\n",
              "      <th></th>\n",
              "      <th>sex</th>\n",
              "      <th>Type</th>\n",
              "    </tr>\n",
              "  </thead>\n",
              "  <tbody>\n",
              "    <tr>\n",
              "      <th>0</th>\n",
              "      <td>1</td>\n",
              "      <td>0</td>\n",
              "    </tr>\n",
              "    <tr>\n",
              "      <th>1</th>\n",
              "      <td>1</td>\n",
              "      <td>0</td>\n",
              "    </tr>\n",
              "    <tr>\n",
              "      <th>2</th>\n",
              "      <td>1</td>\n",
              "      <td>2</td>\n",
              "    </tr>\n",
              "    <tr>\n",
              "      <th>3</th>\n",
              "      <td>0</td>\n",
              "      <td>2</td>\n",
              "    </tr>\n",
              "    <tr>\n",
              "      <th>4</th>\n",
              "      <td>1</td>\n",
              "      <td>0</td>\n",
              "    </tr>\n",
              "    <tr>\n",
              "      <th>...</th>\n",
              "      <td>...</td>\n",
              "      <td>...</td>\n",
              "    </tr>\n",
              "    <tr>\n",
              "      <th>85</th>\n",
              "      <td>1</td>\n",
              "      <td>0</td>\n",
              "    </tr>\n",
              "    <tr>\n",
              "      <th>86</th>\n",
              "      <td>0</td>\n",
              "      <td>2</td>\n",
              "    </tr>\n",
              "    <tr>\n",
              "      <th>87</th>\n",
              "      <td>1</td>\n",
              "      <td>0</td>\n",
              "    </tr>\n",
              "    <tr>\n",
              "      <th>88</th>\n",
              "      <td>0</td>\n",
              "      <td>0</td>\n",
              "    </tr>\n",
              "    <tr>\n",
              "      <th>89</th>\n",
              "      <td>0</td>\n",
              "      <td>0</td>\n",
              "    </tr>\n",
              "  </tbody>\n",
              "</table>\n",
              "<p>81 rows × 2 columns</p>\n",
              "</div>"
            ],
            "text/plain": [
              "    sex  Type\n",
              "0     1     0\n",
              "1     1     0\n",
              "2     1     2\n",
              "3     0     2\n",
              "4     1     0\n",
              "..  ...   ...\n",
              "85    1     0\n",
              "86    0     2\n",
              "87    1     0\n",
              "88    0     0\n",
              "89    0     0\n",
              "\n",
              "[81 rows x 2 columns]"
            ]
          },
          "metadata": {},
          "execution_count": 22
        }
      ]
    },
    {
      "cell_type": "markdown",
      "metadata": {
        "id": "X7rhjAYCnkWS"
      },
      "source": [
        "## 7) Recomposição da base de dados"
      ]
    },
    {
      "cell_type": "code",
      "metadata": {
        "id": "BETtAxk0nkWT",
        "colab": {
          "base_uri": "https://localhost:8080/"
        },
        "outputId": "230f7ed3-940d-4ff0-bd35-71e4f038d80c"
      },
      "source": [
        "dataset.columns"
      ],
      "execution_count": null,
      "outputs": [
        {
          "output_type": "execute_result",
          "data": {
            "text/plain": [
              "Index(['sex', 'age', 'Number_of_Warts', 'Type', 'Area', 'induration_diameter',\n",
              "       'Result_of_Treatment', 'label'],\n",
              "      dtype='object')"
            ]
          },
          "metadata": {},
          "execution_count": 23
        }
      ]
    },
    {
      "cell_type": "code",
      "metadata": {
        "id": "5InVheuGnkWU"
      },
      "source": [
        "# Definir variáveis de entrada\n",
        "column_label_end = ['label']\n",
        "columns_input = [elemento for elemento in dataset.columns if elemento not in column_label_end]\n",
        "\n",
        "\n",
        "X = dataset[columns_input]\n",
        "y = dataset[column_label_end]\n",
        "\n",
        "X_res = X\n",
        "y_res = y"
      ],
      "execution_count": null,
      "outputs": []
    },
    {
      "cell_type": "code",
      "metadata": {
        "id": "tol1Oc8gnkWU"
      },
      "source": [
        "columns = [elemento for elemento in dataset.columns if not elemento in column_label_end]\n",
        "dados_input = pd.DataFrame(X_res, columns = columns)"
      ],
      "execution_count": null,
      "outputs": []
    },
    {
      "cell_type": "code",
      "metadata": {
        "id": "0kqkNri1nkWU"
      },
      "source": [
        "columns = column_label_end\n",
        "dados_target = pd.DataFrame(y_res, columns = columns)"
      ],
      "execution_count": null,
      "outputs": []
    },
    {
      "cell_type": "code",
      "metadata": {
        "id": "ptmqQ6UUnkWU",
        "colab": {
          "base_uri": "https://localhost:8080/"
        },
        "outputId": "3c308921-c077-4074-c036-c5643a5d7c27"
      },
      "source": [
        "dataset = pd.concat([dados_input, dados_target], axis=1) # Reconstroi pands (dados)\n",
        "dataset.shape"
      ],
      "execution_count": null,
      "outputs": [
        {
          "output_type": "execute_result",
          "data": {
            "text/plain": [
              "(81, 8)"
            ]
          },
          "metadata": {},
          "execution_count": 27
        }
      ]
    },
    {
      "cell_type": "markdown",
      "metadata": {
        "id": "UtqzBeVTnkWU"
      },
      "source": [
        "## 8) Salvar dataset após resultado da análise exploratória"
      ]
    },
    {
      "cell_type": "code",
      "metadata": {
        "id": "qkEJIiKJnkWV",
        "colab": {
          "base_uri": "https://localhost:8080/",
          "height": 419
        },
        "outputId": "244e993b-4cbb-4306-b2f3-5f43bb3c8adc"
      },
      "source": [
        "dataset.to_csv(drive_dados + 'Dados_analise_exploratoria.csv', index = True)\n",
        "dataset"
      ],
      "execution_count": null,
      "outputs": [
        {
          "output_type": "execute_result",
          "data": {
            "text/html": [
              "<div>\n",
              "<style scoped>\n",
              "    .dataframe tbody tr th:only-of-type {\n",
              "        vertical-align: middle;\n",
              "    }\n",
              "\n",
              "    .dataframe tbody tr th {\n",
              "        vertical-align: top;\n",
              "    }\n",
              "\n",
              "    .dataframe thead th {\n",
              "        text-align: right;\n",
              "    }\n",
              "</style>\n",
              "<table border=\"1\" class=\"dataframe\">\n",
              "  <thead>\n",
              "    <tr style=\"text-align: right;\">\n",
              "      <th></th>\n",
              "      <th>sex</th>\n",
              "      <th>age</th>\n",
              "      <th>Number_of_Warts</th>\n",
              "      <th>Type</th>\n",
              "      <th>Area</th>\n",
              "      <th>induration_diameter</th>\n",
              "      <th>Result_of_Treatment</th>\n",
              "      <th>label</th>\n",
              "    </tr>\n",
              "  </thead>\n",
              "  <tbody>\n",
              "    <tr>\n",
              "      <th>0</th>\n",
              "      <td>1</td>\n",
              "      <td>23</td>\n",
              "      <td>6</td>\n",
              "      <td>0</td>\n",
              "      <td>19</td>\n",
              "      <td>2</td>\n",
              "      <td>1</td>\n",
              "      <td>1</td>\n",
              "    </tr>\n",
              "    <tr>\n",
              "      <th>1</th>\n",
              "      <td>1</td>\n",
              "      <td>48</td>\n",
              "      <td>7</td>\n",
              "      <td>0</td>\n",
              "      <td>50</td>\n",
              "      <td>25</td>\n",
              "      <td>1</td>\n",
              "      <td>1</td>\n",
              "    </tr>\n",
              "    <tr>\n",
              "      <th>2</th>\n",
              "      <td>1</td>\n",
              "      <td>17</td>\n",
              "      <td>12</td>\n",
              "      <td>2</td>\n",
              "      <td>25</td>\n",
              "      <td>7</td>\n",
              "      <td>1</td>\n",
              "      <td>1</td>\n",
              "    </tr>\n",
              "    <tr>\n",
              "      <th>3</th>\n",
              "      <td>0</td>\n",
              "      <td>54</td>\n",
              "      <td>13</td>\n",
              "      <td>2</td>\n",
              "      <td>43</td>\n",
              "      <td>5</td>\n",
              "      <td>1</td>\n",
              "      <td>1</td>\n",
              "    </tr>\n",
              "    <tr>\n",
              "      <th>4</th>\n",
              "      <td>1</td>\n",
              "      <td>22</td>\n",
              "      <td>5</td>\n",
              "      <td>0</td>\n",
              "      <td>99</td>\n",
              "      <td>8</td>\n",
              "      <td>1</td>\n",
              "      <td>1</td>\n",
              "    </tr>\n",
              "    <tr>\n",
              "      <th>...</th>\n",
              "      <td>...</td>\n",
              "      <td>...</td>\n",
              "      <td>...</td>\n",
              "      <td>...</td>\n",
              "      <td>...</td>\n",
              "      <td>...</td>\n",
              "      <td>...</td>\n",
              "      <td>...</td>\n",
              "    </tr>\n",
              "    <tr>\n",
              "      <th>85</th>\n",
              "      <td>1</td>\n",
              "      <td>51</td>\n",
              "      <td>1</td>\n",
              "      <td>0</td>\n",
              "      <td>65</td>\n",
              "      <td>7</td>\n",
              "      <td>1</td>\n",
              "      <td>1</td>\n",
              "    </tr>\n",
              "    <tr>\n",
              "      <th>86</th>\n",
              "      <td>0</td>\n",
              "      <td>40</td>\n",
              "      <td>8</td>\n",
              "      <td>2</td>\n",
              "      <td>69</td>\n",
              "      <td>5</td>\n",
              "      <td>1</td>\n",
              "      <td>1</td>\n",
              "    </tr>\n",
              "    <tr>\n",
              "      <th>87</th>\n",
              "      <td>1</td>\n",
              "      <td>16</td>\n",
              "      <td>11</td>\n",
              "      <td>0</td>\n",
              "      <td>47</td>\n",
              "      <td>7</td>\n",
              "      <td>1</td>\n",
              "      <td>1</td>\n",
              "    </tr>\n",
              "    <tr>\n",
              "      <th>88</th>\n",
              "      <td>0</td>\n",
              "      <td>20</td>\n",
              "      <td>6</td>\n",
              "      <td>0</td>\n",
              "      <td>45</td>\n",
              "      <td>8</td>\n",
              "      <td>1</td>\n",
              "      <td>1</td>\n",
              "    </tr>\n",
              "    <tr>\n",
              "      <th>89</th>\n",
              "      <td>0</td>\n",
              "      <td>17</td>\n",
              "      <td>2</td>\n",
              "      <td>0</td>\n",
              "      <td>44</td>\n",
              "      <td>8</td>\n",
              "      <td>1</td>\n",
              "      <td>1</td>\n",
              "    </tr>\n",
              "  </tbody>\n",
              "</table>\n",
              "<p>81 rows × 8 columns</p>\n",
              "</div>"
            ],
            "text/plain": [
              "    sex  age  Number_of_Warts  Type  Area  induration_diameter  Result_of_Treatment  label\n",
              "0     1   23                6     0    19                    2                    1      1\n",
              "1     1   48                7     0    50                   25                    1      1\n",
              "2     1   17               12     2    25                    7                    1      1\n",
              "3     0   54               13     2    43                    5                    1      1\n",
              "4     1   22                5     0    99                    8                    1      1\n",
              "..  ...  ...              ...   ...   ...                  ...                  ...    ...\n",
              "85    1   51                1     0    65                    7                    1      1\n",
              "86    0   40                8     2    69                    5                    1      1\n",
              "87    1   16               11     0    47                    7                    1      1\n",
              "88    0   20                6     0    45                    8                    1      1\n",
              "89    0   17                2     0    44                    8                    1      1\n",
              "\n",
              "[81 rows x 8 columns]"
            ]
          },
          "metadata": {},
          "execution_count": 29
        }
      ]
    }
  ]
}