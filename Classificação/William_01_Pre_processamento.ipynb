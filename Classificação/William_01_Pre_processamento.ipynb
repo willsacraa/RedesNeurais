{
  "nbformat": 4,
  "nbformat_minor": 0,
  "metadata": {
    "kernelspec": {
      "display_name": "Python 3",
      "language": "python",
      "name": "python3"
    },
    "language_info": {
      "codemirror_mode": {
        "name": "ipython",
        "version": 3
      },
      "file_extension": ".py",
      "mimetype": "text/x-python",
      "name": "python",
      "nbconvert_exporter": "python",
      "pygments_lexer": "ipython3",
      "version": "3.8.3"
    },
    "latex_envs": {
      "LaTeX_envs_menu_present": true,
      "autoclose": false,
      "autocomplete": true,
      "bibliofile": "biblio.bib",
      "cite_by": "apalike",
      "current_citInitial": 1,
      "eqLabelWithNumbers": true,
      "eqNumInitial": 1,
      "hotkeys": {
        "equation": "Ctrl-E",
        "itemize": "Ctrl-I"
      },
      "labels_anchors": false,
      "latex_user_defs": false,
      "report_style_numbering": false,
      "user_envs_cfg": false
    },
    "colab": {
      "provenance": [],
      "collapsed_sections": [
        "So3BHNf8YiZM",
        "fgz65-gwYiZN",
        "mOmKOXVpYiZN",
        "Lw3Yn0TIiYn7",
        "j5Vh252xjgl4",
        "Q4Ac5AHHYiZV"
      ],
      "include_colab_link": true
    }
  },
  "cells": [
    {
      "cell_type": "markdown",
      "metadata": {
        "id": "view-in-github",
        "colab_type": "text"
      },
      "source": [
        "<a href=\"https://colab.research.google.com/github/willsacraa/RedesNeurais/blob/main/Classifica%C3%A7%C3%A3o/William_01_Pre_processamento.ipynb\" target=\"_parent\"><img src=\"https://colab.research.google.com/assets/colab-badge.svg\" alt=\"Open In Colab\"/></a>"
      ]
    },
    {
      "cell_type": "markdown",
      "metadata": {
        "id": "C7hLa2tbYiZH"
      },
      "source": [
        "# <font color='blue'>Pré-processamento dos dados para classificação</font>"
      ]
    },
    {
      "cell_type": "markdown",
      "metadata": {
        "id": "OvLzzE-_Ys-L"
      },
      "source": [
        "## Montando DRIVE"
      ]
    },
    {
      "cell_type": "code",
      "metadata": {
        "colab": {
          "base_uri": "https://localhost:8080/"
        },
        "id": "mC9_59oJiH8-",
        "outputId": "6a8e4fe9-d2ca-47c8-bc2b-c67094606ab3"
      },
      "source": [
        "from google.colab import drive\n",
        "drive.mount('/content/drive')\n",
        "\n",
        "drive_dados = '/content/drive/MyDrive/RedesNeurais/Classificacao/'"
      ],
      "execution_count": null,
      "outputs": [
        {
          "output_type": "stream",
          "name": "stdout",
          "text": [
            "Mounted at /content/drive\n"
          ]
        }
      ]
    },
    {
      "cell_type": "code",
      "metadata": {
        "id": "p_VNc4ezYxlN"
      },
      "source": [
        "from google.colab import drive\n",
        "drive.mount('/content/drive')\n",
        "\n",
        "drive_dados = '/content/drive/MyDrive/UFSB/Componentes_curriculares/RNA/_01_Classificacao/' # Colocar uma barra no final do endereço"
      ],
      "execution_count": null,
      "outputs": []
    },
    {
      "cell_type": "markdown",
      "metadata": {
        "id": "IOqFZdkjYr5M"
      },
      "source": [
        "## 1) Importando bibliotecas e definindo colunas do dataset\n",
        "\n",
        "Importar as bibliotecas e o arquivo que serão utilizadas durante as análises. "
      ]
    },
    {
      "cell_type": "code",
      "metadata": {
        "id": "2_L3kftTYiZI"
      },
      "source": [
        "# Imports bilbliotecas básica\n",
        "# ===========================\n",
        "import numpy as np\n",
        "import matplotlib.pyplot as plt\n",
        "%matplotlib inline \n",
        "import pandas as pd\n",
        "pd.set_option('display.max_columns', None)\n",
        "pd.set_option('display.expand_frame_repr', False)\n",
        "pd.set_option('max_colwidth', None)\n",
        "\n",
        "# Imports bilbliotecas com funções importantes\n",
        "# ============================================\n",
        "import seaborn as sns\n",
        "from sklearn.preprocessing import LabelEncoder"
      ],
      "execution_count": null,
      "outputs": []
    },
    {
      "cell_type": "markdown",
      "metadata": {
        "id": "QpJQpkB9ahHK"
      },
      "source": [
        "## Colunas do dataset\n",
        "\n",
        "Fonte dos dados\n",
        "\n",
        "####  Attribute Information:\n",
        "\n",
        "<p>a1 Sex</p>\n",
        "<p>a2 Age</p>\n",
        "<p>a3 Time</p>\n",
        "<p>a4 Number of Warts</p>\n",
        "<p>a5 Type</p>\n",
        "<p>a6 Area</p>\n",
        "<p>a7 Induration Diameter</p>\n",
        "<p>d1 Result of Treatment</p>\n",
        "    \n",
        "    \n",
        "https://archive.ics.uci.edu/ml/datasets/Immunotherapy+Dataset"
      ]
    },
    {
      "cell_type": "code",
      "metadata": {
        "id": "O8DhTj3mPB15"
      },
      "source": [
        "# Definindo das colunas do dataset\n",
        "names_columns = [\"Sex\", \n",
        "                 \"Age\",\n",
        "                 \"Time\", \n",
        "                 \"Number of Warts\",\n",
        "                 \"Type\",\n",
        "                 \"Area\",\n",
        "                 \"Induration Diameter\", \n",
        "                 \"Result of Treatment\"] "
      ],
      "execution_count": null,
      "outputs": []
    },
    {
      "cell_type": "markdown",
      "metadata": {
        "id": "JOyVPp_YYiZL"
      },
      "source": [
        "## 2) Exemplo de extração dos dados de um ou mais \n",
        "## <font color='blue'>arquivos excel"
      ]
    },
    {
      "cell_type": "markdown",
      "metadata": {
        "tags": [],
        "id": "1jPvI3WwYiZL"
      },
      "source": [
        "### 2.1) Lendo um arquivo excel"
      ]
    },
    {
      "cell_type": "code",
      "metadata": {
        "id": "_iJ6F87xYiZL",
        "colab": {
          "base_uri": "https://localhost:8080/",
          "height": 204
        },
        "outputId": "128faff7-073e-4683-d4e6-dd0b9ae12970"
      },
      "source": [
        "arquivo = drive_dados + \"Immunotherapy.xlsx\"\n",
        "dataset = pd.read_excel(arquivo, dtype = str)\n",
        "# Verificando as primeiras linhas do dataset\n",
        "dataset.head(5)"
      ],
      "execution_count": null,
      "outputs": [
        {
          "output_type": "execute_result",
          "data": {
            "text/html": [
              "<div>\n",
              "<style scoped>\n",
              "    .dataframe tbody tr th:only-of-type {\n",
              "        vertical-align: middle;\n",
              "    }\n",
              "\n",
              "    .dataframe tbody tr th {\n",
              "        vertical-align: top;\n",
              "    }\n",
              "\n",
              "    .dataframe thead th {\n",
              "        text-align: right;\n",
              "    }\n",
              "</style>\n",
              "<table border=\"1\" class=\"dataframe\">\n",
              "  <thead>\n",
              "    <tr style=\"text-align: right;\">\n",
              "      <th></th>\n",
              "      <th>sex</th>\n",
              "      <th>age</th>\n",
              "      <th>Time</th>\n",
              "      <th>Number_of_Warts</th>\n",
              "      <th>Type</th>\n",
              "      <th>Area</th>\n",
              "      <th>induration_diameter</th>\n",
              "      <th>Result_of_Treatment</th>\n",
              "    </tr>\n",
              "  </thead>\n",
              "  <tbody>\n",
              "    <tr>\n",
              "      <th>0</th>\n",
              "      <td>1</td>\n",
              "      <td>22</td>\n",
              "      <td>2.25</td>\n",
              "      <td>14</td>\n",
              "      <td>3</td>\n",
              "      <td>51</td>\n",
              "      <td>50</td>\n",
              "      <td>1</td>\n",
              "    </tr>\n",
              "    <tr>\n",
              "      <th>1</th>\n",
              "      <td>1</td>\n",
              "      <td>15</td>\n",
              "      <td>3</td>\n",
              "      <td>2</td>\n",
              "      <td>3</td>\n",
              "      <td>900</td>\n",
              "      <td>70</td>\n",
              "      <td>1</td>\n",
              "    </tr>\n",
              "    <tr>\n",
              "      <th>2</th>\n",
              "      <td>1</td>\n",
              "      <td>16</td>\n",
              "      <td>10.5</td>\n",
              "      <td>2</td>\n",
              "      <td>1</td>\n",
              "      <td>100</td>\n",
              "      <td>25</td>\n",
              "      <td>1</td>\n",
              "    </tr>\n",
              "    <tr>\n",
              "      <th>3</th>\n",
              "      <td>1</td>\n",
              "      <td>27</td>\n",
              "      <td>4.5</td>\n",
              "      <td>9</td>\n",
              "      <td>3</td>\n",
              "      <td>80</td>\n",
              "      <td>30</td>\n",
              "      <td>1</td>\n",
              "    </tr>\n",
              "    <tr>\n",
              "      <th>4</th>\n",
              "      <td>1</td>\n",
              "      <td>20</td>\n",
              "      <td>8</td>\n",
              "      <td>6</td>\n",
              "      <td>1</td>\n",
              "      <td>45</td>\n",
              "      <td>8</td>\n",
              "      <td>1</td>\n",
              "    </tr>\n",
              "  </tbody>\n",
              "</table>\n",
              "</div>"
            ],
            "text/plain": [
              "  sex age  Time Number_of_Warts Type Area induration_diameter Result_of_Treatment\n",
              "0   1  22  2.25              14    3   51                  50                   1\n",
              "1   1  15     3               2    3  900                  70                   1\n",
              "2   1  16  10.5               2    1  100                  25                   1\n",
              "3   1  27   4.5               9    3   80                  30                   1\n",
              "4   1  20     8               6    1   45                   8                   1"
            ]
          },
          "metadata": {},
          "execution_count": 7
        }
      ]
    },
    {
      "cell_type": "markdown",
      "metadata": {
        "id": "DcxH2Mk4YiZM"
      },
      "source": [
        "## 3) Como preparar um dataset: \n",
        "### Passo a passo\n",
        "\n",
        "Ciência de dados na prática: entendendo processos essenciais para limpar e preparar um banco de dados.\n",
        "\n",
        "A ideia é que consigamos montar um checklist do que é necessário fazer para preparar um dataset antes de começar a analisá-lo de fato"
      ]
    },
    {
      "cell_type": "code",
      "metadata": {
        "id": "kGizSI_2YiZM",
        "colab": {
          "base_uri": "https://localhost:8080/"
        },
        "outputId": "02b766ba-34ef-41f5-ac5d-eaded87782bd"
      },
      "source": [
        "# Verificando a quantidade de linhas e colunas\n",
        "print(dataset.shape)"
      ],
      "execution_count": null,
      "outputs": [
        {
          "output_type": "stream",
          "name": "stdout",
          "text": [
            "(90, 8)\n"
          ]
        }
      ]
    },
    {
      "cell_type": "markdown",
      "metadata": {
        "id": "NYhzWiS3YiZM"
      },
      "source": [
        "### 3.1) Verificando o tipo de dados"
      ]
    },
    {
      "cell_type": "code",
      "metadata": {
        "tags": [],
        "colab": {
          "base_uri": "https://localhost:8080/"
        },
        "id": "N5492a_pYiZM",
        "outputId": "61af93bf-4987-48cf-a8af-3afd40a1baef"
      },
      "source": [
        "# Tipos de Dados\n",
        "dataset.dtypes"
      ],
      "execution_count": null,
      "outputs": [
        {
          "output_type": "execute_result",
          "data": {
            "text/plain": [
              "sex                    int32\n",
              "age                    int32\n",
              "Number_of_Warts        int32\n",
              "Type                   int32\n",
              "Area                   int32\n",
              "induration_diameter    int32\n",
              "Result_of_Treatment    int32\n",
              "dtype: object"
            ]
          },
          "metadata": {},
          "execution_count": 26
        }
      ]
    },
    {
      "cell_type": "markdown",
      "metadata": {
        "id": "So3BHNf8YiZM"
      },
      "source": [
        "#### 3.1.1) Mudando o tipo de um atributo"
      ]
    },
    {
      "cell_type": "code",
      "metadata": {
        "id": "yDoF-JTnYiZM"
      },
      "source": [
        "dataset[:] = dataset[:].astype(np.int32)\n",
        "# Tipos possíveis: np.bool_ , np.int_ , np.int64 , np..int32 , np.float64 , np.float_, np.double\n",
        "#                  np.complex128 , np.complex_ , np.cdouble , np.object_ , np.str_ , np.int_ , np.longlong\n",
        "#                  np.unicode_\n",
        "# Alternativa:\n",
        "# ===========\n",
        "# dataset['_nome_coluna_'] = pd.to_numeric(dataset['_nome_coluna_'],errors='coerce')"
      ],
      "execution_count": null,
      "outputs": []
    },
    {
      "cell_type": "markdown",
      "metadata": {
        "id": "eboU5T5bYiZN"
      },
      "source": [
        "### 3.2) Removendo colunas / linhas do DataFrame\n",
        "\n",
        "\n",
        "Sempre que vamos analisar um dataset, concluiremos que nem todas as colunas que estão presentes são úteis.\n",
        "\n",
        "Manter esses dados seria uma demanda desnecessária de recursos de processamento e de memória.\n",
        "Por conta disso, a biblioteca Pandas disponibiliza o método drop() para remover linhas e colunas da tabela."
      ]
    },
    {
      "cell_type": "markdown",
      "metadata": {
        "id": "mOmKOXVpYiZN"
      },
      "source": [
        "#### 3.2.1) Removendo colunas do DataFrame"
      ]
    },
    {
      "cell_type": "code",
      "metadata": {
        "id": "N7dsnDi5YiZN"
      },
      "source": [
        "# EXCLUINDO COLUNAS\n",
        "# A modificação não será gravada no dataset a menos que façamos a atribuição com inplace=True\n",
        "dataset.drop(columns = [\"Time\"], inplace=True)"
      ],
      "execution_count": null,
      "outputs": []
    },
    {
      "cell_type": "markdown",
      "metadata": {
        "id": "k6Qb7aJ1YiZO"
      },
      "source": [
        "### 3.3) Verificando duplicatas de dados\n",
        "\n",
        "Valores duplicados são encontrados com frequência e dependendo da análise que será feita, esses valores podem alterar o resultado final.\n",
        "É importante realizar esse procedimento para garantir que os dados sejam únicos nas análises.\n",
        "\n",
        "O método duplicated() devolve uma Series booleana informando se possui algum valor duplicado.\n",
        "Referente a isso, entramos com o drop_duplicates(), que remove todos os valores repetidos."
      ]
    },
    {
      "cell_type": "code",
      "metadata": {
        "id": "ZSlbQHBwL1uj",
        "colab": {
          "base_uri": "https://localhost:8080/",
          "height": 66
        },
        "outputId": "5c38023f-ac97-49b2-e798-0fb0c7046e32"
      },
      "source": [
        "# Verificando duplicatas das linhas\n",
        "duplicatas = dataset[dataset.duplicated()]\n",
        "print(duplicatas.shape)\n",
        "duplicatas.head()"
      ],
      "execution_count": null,
      "outputs": [
        {
          "output_type": "stream",
          "name": "stdout",
          "text": [
            "(0, 8)\n"
          ]
        },
        {
          "output_type": "execute_result",
          "data": {
            "text/html": [
              "<div>\n",
              "<style scoped>\n",
              "    .dataframe tbody tr th:only-of-type {\n",
              "        vertical-align: middle;\n",
              "    }\n",
              "\n",
              "    .dataframe tbody tr th {\n",
              "        vertical-align: top;\n",
              "    }\n",
              "\n",
              "    .dataframe thead th {\n",
              "        text-align: right;\n",
              "    }\n",
              "</style>\n",
              "<table border=\"1\" class=\"dataframe\">\n",
              "  <thead>\n",
              "    <tr style=\"text-align: right;\">\n",
              "      <th></th>\n",
              "      <th>sex</th>\n",
              "      <th>age</th>\n",
              "      <th>Time</th>\n",
              "      <th>Number_of_Warts</th>\n",
              "      <th>Type</th>\n",
              "      <th>Area</th>\n",
              "      <th>induration_diameter</th>\n",
              "      <th>Result_of_Treatment</th>\n",
              "    </tr>\n",
              "  </thead>\n",
              "  <tbody>\n",
              "  </tbody>\n",
              "</table>\n",
              "</div>"
            ],
            "text/plain": [
              "Empty DataFrame\n",
              "Columns: [sex, age, Time, Number_of_Warts, Type, Area, induration_diameter, Result_of_Treatment]\n",
              "Index: []"
            ]
          },
          "metadata": {},
          "execution_count": 15
        }
      ]
    },
    {
      "cell_type": "markdown",
      "metadata": {
        "tags": [],
        "id": "TeuwpFFdYiZP"
      },
      "source": [
        "### 3.4) Verificando valores nulos (missing)\n",
        "\n",
        "Verificamos se existem valores nulos. \n",
        "Se a base apresenta muitos valores nulos, será necessário tratá-las.\n",
        "\n",
        "Todavia, antes de sair substituindo os valores, é preciso entender o que cada coluna representa, bem como criar colunas novas para marcar aqueles valores que foram incluídos manualmente na base.\n",
        "\n",
        "São algumas das ações que podemos tomar:\n",
        "<ol>\n",
        "<li>Dropar a coluna que contenha dados nulos;</li>\n",
        "<li>Dropar apenas as linhas com dados nulos;</li>\n",
        "<li>Substituir pela média da coluna;</li>\n",
        "<li>Substituir por um valor fixo.</li>\n",
        "</ol>"
      ]
    },
    {
      "cell_type": "code",
      "metadata": {
        "colab": {
          "base_uri": "https://localhost:8080/"
        },
        "id": "p2tfOc-iYiZQ",
        "outputId": "7ee12082-7e7c-49f9-87fc-0f0ea8236291"
      },
      "source": [
        "# Verificando se existem valores nulos\n",
        "dataset.isnull().values.any()"
      ],
      "execution_count": null,
      "outputs": [
        {
          "output_type": "execute_result",
          "data": {
            "text/plain": [
              "False"
            ]
          },
          "metadata": {},
          "execution_count": 17
        }
      ]
    },
    {
      "cell_type": "code",
      "metadata": {
        "colab": {
          "base_uri": "https://localhost:8080/"
        },
        "id": "PET7ArUuYiZQ",
        "outputId": "51742c8e-9a20-45bf-a505-a882143a2e6a"
      },
      "source": [
        "# Verificação da quantidade de valores nulos dentro do DataFrame\n",
        "print(dataset.isna().sum())\n",
        "print(f'\\nTotal de valores missing: {dataset.isna().sum().sum()}')"
      ],
      "execution_count": null,
      "outputs": [
        {
          "output_type": "stream",
          "name": "stdout",
          "text": [
            "sex                    0\n",
            "age                    0\n",
            "Time                   0\n",
            "Number_of_Warts        0\n",
            "Type                   0\n",
            "Area                   0\n",
            "induration_diameter    0\n",
            "Result_of_Treatment    0\n",
            "dtype: int64\n",
            "\n",
            "Total de valores missing: 0\n"
          ]
        }
      ]
    },
    {
      "cell_type": "markdown",
      "metadata": {
        "tags": [],
        "id": "dLWYl1WVYiZS"
      },
      "source": [
        "## 4) Aleatorização do conjunto de dados"
      ]
    },
    {
      "cell_type": "code",
      "metadata": {
        "colab": {
          "base_uri": "https://localhost:8080/"
        },
        "id": "2zzVvb9YYiZS",
        "outputId": "535b96a4-0e36-4d5d-e074-886183f0d69a"
      },
      "source": [
        "ordem = dataset.sample(dataset.shape[0]).index\n",
        "dataset = dataset.iloc[ordem]\n",
        "print(dataset.shape)"
      ],
      "execution_count": null,
      "outputs": [
        {
          "output_type": "stream",
          "name": "stdout",
          "text": [
            "(90, 8)\n"
          ]
        }
      ]
    },
    {
      "cell_type": "markdown",
      "metadata": {
        "tags": [],
        "id": "wGPeROPwYiZS"
      },
      "source": [
        "## 5) Cria o encoder para a variável categórica de saída (label)"
      ]
    },
    {
      "cell_type": "markdown",
      "metadata": {
        "id": "TKMTd8jcYiZS"
      },
      "source": [
        "<font color='red'>a) Verificando as quantidade de ocorrência para cada evento na variável resposta"
      ]
    },
    {
      "cell_type": "code",
      "metadata": {
        "colab": {
          "base_uri": "https://localhost:8080/",
          "height": 142
        },
        "id": "71F4pPAxYiZS",
        "outputId": "6e0aee2c-3713-4204-d990-5a2078ec5778"
      },
      "source": [
        "column_label_ini = 'Result_of_Treatment'\n",
        "target_count = pd.DataFrame(dataset[column_label_ini].value_counts())\n",
        "target_count.reset_index(level=0, inplace=True)\n",
        "target_count.rename(columns={column_label_ini: 'QT', 'index': column_label_ini}, inplace=True)\n",
        "target_count.set_index(column_label_ini, inplace=True)\n",
        "target_count.sort_index(axis=0, inplace=True)\n",
        "target_count"
      ],
      "execution_count": null,
      "outputs": [
        {
          "output_type": "execute_result",
          "data": {
            "text/html": [
              "<div>\n",
              "<style scoped>\n",
              "    .dataframe tbody tr th:only-of-type {\n",
              "        vertical-align: middle;\n",
              "    }\n",
              "\n",
              "    .dataframe tbody tr th {\n",
              "        vertical-align: top;\n",
              "    }\n",
              "\n",
              "    .dataframe thead th {\n",
              "        text-align: right;\n",
              "    }\n",
              "</style>\n",
              "<table border=\"1\" class=\"dataframe\">\n",
              "  <thead>\n",
              "    <tr style=\"text-align: right;\">\n",
              "      <th></th>\n",
              "      <th>QT</th>\n",
              "    </tr>\n",
              "    <tr>\n",
              "      <th>Result_of_Treatment</th>\n",
              "      <th></th>\n",
              "    </tr>\n",
              "  </thead>\n",
              "  <tbody>\n",
              "    <tr>\n",
              "      <th>0</th>\n",
              "      <td>19</td>\n",
              "    </tr>\n",
              "    <tr>\n",
              "      <th>1</th>\n",
              "      <td>71</td>\n",
              "    </tr>\n",
              "  </tbody>\n",
              "</table>\n",
              "</div>"
            ],
            "text/plain": [
              "                     QT\n",
              "Result_of_Treatment    \n",
              "0                    19\n",
              "1                    71"
            ]
          },
          "metadata": {},
          "execution_count": 27
        }
      ]
    },
    {
      "cell_type": "markdown",
      "metadata": {
        "id": "sfoapjdpYiZT"
      },
      "source": [
        "<font color='red'>b) Defini a quantidade minima de ocorrências em cada classe.</font> \n",
        "\n",
        "Apaga ocorrências com menor número."
      ]
    },
    {
      "cell_type": "code",
      "metadata": {
        "colab": {
          "base_uri": "https://localhost:8080/"
        },
        "id": "f87bVPJ_YiZT",
        "outputId": "30f25acc-2527-44a6-f258-cb0bcb6695ad"
      },
      "source": [
        "quant_minima = 0\n",
        "# Desfazendo a indexação\n",
        "target_count.reset_index(level=0, inplace=True)\n",
        "for index in target_count[target_count['QT'] < quant_minima ].index:\n",
        "    indexNames = target_count[column_label_ini][index]\n",
        "    indexDataset = dataset[dataset[column_label_ini] == indexNames].index\n",
        "    dataset.drop(indexDataset , inplace=True)\n",
        "print(dataset.shape)"
      ],
      "execution_count": null,
      "outputs": [
        {
          "output_type": "stream",
          "name": "stdout",
          "text": [
            "(90, 7)\n"
          ]
        }
      ]
    },
    {
      "cell_type": "markdown",
      "metadata": {
        "id": "qUlT_wrVYiZT"
      },
      "source": [
        "<font color='red'>c) Apaga ocorrências de classes indesejadas"
      ]
    },
    {
      "cell_type": "code",
      "metadata": {
        "id": "Aq2pz4C3YiZT"
      },
      "source": [
        "# Apaga valores \n",
        "# A modificação não será gravada no dataset a menos que façamos a atribuição com inplace=True\n",
        "apaga = [1]\n",
        "for i in range(len(apaga)):\n",
        "    dataset.drop([dataset.loc[dataset[column_label_ini] == valor].index for valor in apaga][i], axis = 0, inplace=False)"
      ],
      "execution_count": null,
      "outputs": []
    },
    {
      "cell_type": "markdown",
      "metadata": {
        "id": "EgWgtyJQYiZT"
      },
      "source": [
        "<font color='red'>d) Mostra graficamente as classes existentes antes da alteração do label por encoder."
      ]
    },
    {
      "cell_type": "code",
      "metadata": {
        "colab": {
          "base_uri": "https://localhost:8080/",
          "height": 419
        },
        "id": "yNV6EpvzYiZT",
        "outputId": "56737089-40fd-46fc-d863-b46d52cdfcd9"
      },
      "source": [
        "# Plot \n",
        "FIGSIZE = (12, 6)\n",
        "fig = plt.figure(figsize = FIGSIZE)\n",
        "sns.countplot(x=dataset[column_label_ini], palette = \"dark\")\n",
        "plt.box(False)\n",
        "plt.xlabel('Classes de saídas', fontsize = 11)\n",
        "plt.ylabel('Total de observações', fontsize = 11)\n",
        "plt.title('Contagem de Classes\\n')\n",
        "plt.show()"
      ],
      "execution_count": null,
      "outputs": [
        {
          "output_type": "display_data",
          "data": {
            "image/png": "[encoded data removed]",
            "text/plain": [
              "<Figure size 864x432 with 1 Axes>"
            ]
          },
          "metadata": {
            "needs_background": "light"
          }
        }
      ]
    },
    {
      "cell_type": "markdown",
      "metadata": {
        "id": "JrhM4UCmYiZU"
      },
      "source": [
        "<font color='red'>e) Cria o encoder (label)"
      ]
    },
    {
      "cell_type": "code",
      "metadata": {
        "colab": {
          "base_uri": "https://localhost:8080/",
          "height": 419
        },
        "id": "_wwaN06wYiZU",
        "outputId": "124e932f-3dbc-4d79-c9d1-cada32f0b58c"
      },
      "source": [
        "lb = LabelEncoder()\n",
        "column_label_end = 'label'\n",
        "dataset.loc[:,column_label_end] = lb.fit_transform(dataset[column_label_ini])\n",
        "dataset"
      ],
      "execution_count": null,
      "outputs": [
        {
          "output_type": "execute_result",
          "data": {
            "text/html": [
              "<div>\n",
              "<style scoped>\n",
              "    .dataframe tbody tr th:only-of-type {\n",
              "        vertical-align: middle;\n",
              "    }\n",
              "\n",
              "    .dataframe tbody tr th {\n",
              "        vertical-align: top;\n",
              "    }\n",
              "\n",
              "    .dataframe thead th {\n",
              "        text-align: right;\n",
              "    }\n",
              "</style>\n",
              "<table border=\"1\" class=\"dataframe\">\n",
              "  <thead>\n",
              "    <tr style=\"text-align: right;\">\n",
              "      <th></th>\n",
              "      <th>sex</th>\n",
              "      <th>age</th>\n",
              "      <th>Number_of_Warts</th>\n",
              "      <th>Type</th>\n",
              "      <th>Area</th>\n",
              "      <th>induration_diameter</th>\n",
              "      <th>Result_of_Treatment</th>\n",
              "      <th>label</th>\n",
              "    </tr>\n",
              "  </thead>\n",
              "  <tbody>\n",
              "    <tr>\n",
              "      <th>89</th>\n",
              "      <td>2</td>\n",
              "      <td>23</td>\n",
              "      <td>6</td>\n",
              "      <td>1</td>\n",
              "      <td>19</td>\n",
              "      <td>2</td>\n",
              "      <td>1</td>\n",
              "      <td>1</td>\n",
              "    </tr>\n",
              "    <tr>\n",
              "      <th>32</th>\n",
              "      <td>2</td>\n",
              "      <td>48</td>\n",
              "      <td>7</td>\n",
              "      <td>1</td>\n",
              "      <td>50</td>\n",
              "      <td>25</td>\n",
              "      <td>1</td>\n",
              "      <td>1</td>\n",
              "    </tr>\n",
              "    <tr>\n",
              "      <th>11</th>\n",
              "      <td>2</td>\n",
              "      <td>17</td>\n",
              "      <td>12</td>\n",
              "      <td>3</td>\n",
              "      <td>25</td>\n",
              "      <td>7</td>\n",
              "      <td>1</td>\n",
              "      <td>1</td>\n",
              "    </tr>\n",
              "    <tr>\n",
              "      <th>55</th>\n",
              "      <td>1</td>\n",
              "      <td>54</td>\n",
              "      <td>13</td>\n",
              "      <td>3</td>\n",
              "      <td>43</td>\n",
              "      <td>5</td>\n",
              "      <td>1</td>\n",
              "      <td>1</td>\n",
              "    </tr>\n",
              "    <tr>\n",
              "      <th>38</th>\n",
              "      <td>2</td>\n",
              "      <td>22</td>\n",
              "      <td>5</td>\n",
              "      <td>1</td>\n",
              "      <td>99</td>\n",
              "      <td>8</td>\n",
              "      <td>1</td>\n",
              "      <td>1</td>\n",
              "    </tr>\n",
              "    <tr>\n",
              "      <th>...</th>\n",
              "      <td>...</td>\n",
              "      <td>...</td>\n",
              "      <td>...</td>\n",
              "      <td>...</td>\n",
              "      <td>...</td>\n",
              "      <td>...</td>\n",
              "      <td>...</td>\n",
              "      <td>...</td>\n",
              "    </tr>\n",
              "    <tr>\n",
              "      <th>73</th>\n",
              "      <td>2</td>\n",
              "      <td>51</td>\n",
              "      <td>1</td>\n",
              "      <td>1</td>\n",
              "      <td>65</td>\n",
              "      <td>7</td>\n",
              "      <td>1</td>\n",
              "      <td>1</td>\n",
              "    </tr>\n",
              "    <tr>\n",
              "      <th>85</th>\n",
              "      <td>1</td>\n",
              "      <td>40</td>\n",
              "      <td>8</td>\n",
              "      <td>3</td>\n",
              "      <td>69</td>\n",
              "      <td>5</td>\n",
              "      <td>1</td>\n",
              "      <td>1</td>\n",
              "    </tr>\n",
              "    <tr>\n",
              "      <th>81</th>\n",
              "      <td>2</td>\n",
              "      <td>16</td>\n",
              "      <td>11</td>\n",
              "      <td>1</td>\n",
              "      <td>47</td>\n",
              "      <td>7</td>\n",
              "      <td>1</td>\n",
              "      <td>1</td>\n",
              "    </tr>\n",
              "    <tr>\n",
              "      <th>4</th>\n",
              "      <td>1</td>\n",
              "      <td>20</td>\n",
              "      <td>6</td>\n",
              "      <td>1</td>\n",
              "      <td>45</td>\n",
              "      <td>8</td>\n",
              "      <td>1</td>\n",
              "      <td>1</td>\n",
              "    </tr>\n",
              "    <tr>\n",
              "      <th>64</th>\n",
              "      <td>1</td>\n",
              "      <td>17</td>\n",
              "      <td>2</td>\n",
              "      <td>1</td>\n",
              "      <td>44</td>\n",
              "      <td>8</td>\n",
              "      <td>1</td>\n",
              "      <td>1</td>\n",
              "    </tr>\n",
              "  </tbody>\n",
              "</table>\n",
              "<p>90 rows × 8 columns</p>\n",
              "</div>"
            ],
            "text/plain": [
              "    sex  age  Number_of_Warts  Type  Area  induration_diameter  Result_of_Treatment  label\n",
              "89    2   23                6     1    19                    2                    1      1\n",
              "32    2   48                7     1    50                   25                    1      1\n",
              "11    2   17               12     3    25                    7                    1      1\n",
              "55    1   54               13     3    43                    5                    1      1\n",
              "38    2   22                5     1    99                    8                    1      1\n",
              "..  ...  ...              ...   ...   ...                  ...                  ...    ...\n",
              "73    2   51                1     1    65                    7                    1      1\n",
              "85    1   40                8     3    69                    5                    1      1\n",
              "81    2   16               11     1    47                    7                    1      1\n",
              "4     1   20                6     1    45                    8                    1      1\n",
              "64    1   17                2     1    44                    8                    1      1\n",
              "\n",
              "[90 rows x 8 columns]"
            ]
          },
          "metadata": {},
          "execution_count": 31
        }
      ]
    },
    {
      "cell_type": "markdown",
      "metadata": {
        "id": "42gbxS3FYiZU"
      },
      "source": [
        "<font color='red'>e) Mostra graficamente as classes existentes DEPOIS da alteração da variável de saída por encoder. "
      ]
    },
    {
      "cell_type": "code",
      "metadata": {
        "colab": {
          "base_uri": "https://localhost:8080/",
          "height": 419
        },
        "id": "tej0ogb5YiZU",
        "outputId": "4c27e1e1-10f6-4e70-8ff8-57101cea165e"
      },
      "source": [
        "FIGSIZE = (12, 6)\n",
        "fig = plt.figure(figsize = FIGSIZE)\n",
        "sns.countplot(x=dataset[column_label_end], palette = \"dark\")\n",
        "plt.box(False)\n",
        "plt.xlabel('Classes de saídas', fontsize = 11)\n",
        "plt.ylabel('Total de observações', fontsize = 11)\n",
        "plt.title('Contagem de Classes\\n')\n",
        "plt.show()"
      ],
      "execution_count": null,
      "outputs": [
        {
          "output_type": "display_data",
          "data": {
            "image/png": "[encoded data removed]",
            "text/plain": [
              "<Figure size 864x432 with 1 Axes>"
            ]
          },
          "metadata": {
            "needs_background": "light"
          }
        }
      ]
    },
    {
      "cell_type": "markdown",
      "metadata": {
        "id": "Dop01OGIYiZU"
      },
      "source": [
        "### 6) Salvando o banco de dados após pre-processamento"
      ]
    },
    {
      "cell_type": "code",
      "metadata": {
        "colab": {
          "base_uri": "https://localhost:8080/",
          "height": 419
        },
        "id": "uROT3NDfYiZU",
        "outputId": "42e43069-6386-40b2-b5e5-21ab849379c8"
      },
      "source": [
        "dataset.to_csv(drive_dados + 'Dados_pre_processados.csv', index = True)\n",
        "dataset"
      ],
      "execution_count": null,
      "outputs": [
        {
          "output_type": "execute_result",
          "data": {
            "text/html": [
              "<div>\n",
              "<style scoped>\n",
              "    .dataframe tbody tr th:only-of-type {\n",
              "        vertical-align: middle;\n",
              "    }\n",
              "\n",
              "    .dataframe tbody tr th {\n",
              "        vertical-align: top;\n",
              "    }\n",
              "\n",
              "    .dataframe thead th {\n",
              "        text-align: right;\n",
              "    }\n",
              "</style>\n",
              "<table border=\"1\" class=\"dataframe\">\n",
              "  <thead>\n",
              "    <tr style=\"text-align: right;\">\n",
              "      <th></th>\n",
              "      <th>sex</th>\n",
              "      <th>age</th>\n",
              "      <th>Number_of_Warts</th>\n",
              "      <th>Type</th>\n",
              "      <th>Area</th>\n",
              "      <th>induration_diameter</th>\n",
              "      <th>Result_of_Treatment</th>\n",
              "      <th>label</th>\n",
              "    </tr>\n",
              "  </thead>\n",
              "  <tbody>\n",
              "    <tr>\n",
              "      <th>89</th>\n",
              "      <td>2</td>\n",
              "      <td>23</td>\n",
              "      <td>6</td>\n",
              "      <td>1</td>\n",
              "      <td>19</td>\n",
              "      <td>2</td>\n",
              "      <td>1</td>\n",
              "      <td>1</td>\n",
              "    </tr>\n",
              "    <tr>\n",
              "      <th>32</th>\n",
              "      <td>2</td>\n",
              "      <td>48</td>\n",
              "      <td>7</td>\n",
              "      <td>1</td>\n",
              "      <td>50</td>\n",
              "      <td>25</td>\n",
              "      <td>1</td>\n",
              "      <td>1</td>\n",
              "    </tr>\n",
              "    <tr>\n",
              "      <th>11</th>\n",
              "      <td>2</td>\n",
              "      <td>17</td>\n",
              "      <td>12</td>\n",
              "      <td>3</td>\n",
              "      <td>25</td>\n",
              "      <td>7</td>\n",
              "      <td>1</td>\n",
              "      <td>1</td>\n",
              "    </tr>\n",
              "    <tr>\n",
              "      <th>55</th>\n",
              "      <td>1</td>\n",
              "      <td>54</td>\n",
              "      <td>13</td>\n",
              "      <td>3</td>\n",
              "      <td>43</td>\n",
              "      <td>5</td>\n",
              "      <td>1</td>\n",
              "      <td>1</td>\n",
              "    </tr>\n",
              "    <tr>\n",
              "      <th>38</th>\n",
              "      <td>2</td>\n",
              "      <td>22</td>\n",
              "      <td>5</td>\n",
              "      <td>1</td>\n",
              "      <td>99</td>\n",
              "      <td>8</td>\n",
              "      <td>1</td>\n",
              "      <td>1</td>\n",
              "    </tr>\n",
              "    <tr>\n",
              "      <th>...</th>\n",
              "      <td>...</td>\n",
              "      <td>...</td>\n",
              "      <td>...</td>\n",
              "      <td>...</td>\n",
              "      <td>...</td>\n",
              "      <td>...</td>\n",
              "      <td>...</td>\n",
              "      <td>...</td>\n",
              "    </tr>\n",
              "    <tr>\n",
              "      <th>73</th>\n",
              "      <td>2</td>\n",
              "      <td>51</td>\n",
              "      <td>1</td>\n",
              "      <td>1</td>\n",
              "      <td>65</td>\n",
              "      <td>7</td>\n",
              "      <td>1</td>\n",
              "      <td>1</td>\n",
              "    </tr>\n",
              "    <tr>\n",
              "      <th>85</th>\n",
              "      <td>1</td>\n",
              "      <td>40</td>\n",
              "      <td>8</td>\n",
              "      <td>3</td>\n",
              "      <td>69</td>\n",
              "      <td>5</td>\n",
              "      <td>1</td>\n",
              "      <td>1</td>\n",
              "    </tr>\n",
              "    <tr>\n",
              "      <th>81</th>\n",
              "      <td>2</td>\n",
              "      <td>16</td>\n",
              "      <td>11</td>\n",
              "      <td>1</td>\n",
              "      <td>47</td>\n",
              "      <td>7</td>\n",
              "      <td>1</td>\n",
              "      <td>1</td>\n",
              "    </tr>\n",
              "    <tr>\n",
              "      <th>4</th>\n",
              "      <td>1</td>\n",
              "      <td>20</td>\n",
              "      <td>6</td>\n",
              "      <td>1</td>\n",
              "      <td>45</td>\n",
              "      <td>8</td>\n",
              "      <td>1</td>\n",
              "      <td>1</td>\n",
              "    </tr>\n",
              "    <tr>\n",
              "      <th>64</th>\n",
              "      <td>1</td>\n",
              "      <td>17</td>\n",
              "      <td>2</td>\n",
              "      <td>1</td>\n",
              "      <td>44</td>\n",
              "      <td>8</td>\n",
              "      <td>1</td>\n",
              "      <td>1</td>\n",
              "    </tr>\n",
              "  </tbody>\n",
              "</table>\n",
              "<p>90 rows × 8 columns</p>\n",
              "</div>"
            ],
            "text/plain": [
              "    sex  age  Number_of_Warts  Type  Area  induration_diameter  Result_of_Treatment  label\n",
              "89    2   23                6     1    19                    2                    1      1\n",
              "32    2   48                7     1    50                   25                    1      1\n",
              "11    2   17               12     3    25                    7                    1      1\n",
              "55    1   54               13     3    43                    5                    1      1\n",
              "38    2   22                5     1    99                    8                    1      1\n",
              "..  ...  ...              ...   ...   ...                  ...                  ...    ...\n",
              "73    2   51                1     1    65                    7                    1      1\n",
              "85    1   40                8     3    69                    5                    1      1\n",
              "81    2   16               11     1    47                    7                    1      1\n",
              "4     1   20                6     1    45                    8                    1      1\n",
              "64    1   17                2     1    44                    8                    1      1\n",
              "\n",
              "[90 rows x 8 columns]"
            ]
          },
          "metadata": {},
          "execution_count": 39
        }
      ]
    },
    {
      "cell_type": "markdown",
      "metadata": {
        "id": "IapoyyI0YiZV"
      },
      "source": [
        "### 7) Mostrando a tabela decoder"
      ]
    },
    {
      "cell_type": "code",
      "metadata": {
        "colab": {
          "base_uri": "https://localhost:8080/",
          "height": 142
        },
        "id": "GeA0zd8FYiZV",
        "outputId": "d5c03447-e1cd-4570-d9ad-5daeb26af729"
      },
      "source": [
        "columns=[column_label_end, column_label_ini]\n",
        "tab_decoder = dataset[columns]\n",
        "tab_decoder = tab_decoder.sort_values(by=[column_label_end]).drop_duplicates().set_index(column_label_end)\n",
        "tab_decoder"
      ],
      "execution_count": null,
      "outputs": [
        {
          "output_type": "execute_result",
          "data": {
            "text/html": [
              "<div>\n",
              "<style scoped>\n",
              "    .dataframe tbody tr th:only-of-type {\n",
              "        vertical-align: middle;\n",
              "    }\n",
              "\n",
              "    .dataframe tbody tr th {\n",
              "        vertical-align: top;\n",
              "    }\n",
              "\n",
              "    .dataframe thead th {\n",
              "        text-align: right;\n",
              "    }\n",
              "</style>\n",
              "<table border=\"1\" class=\"dataframe\">\n",
              "  <thead>\n",
              "    <tr style=\"text-align: right;\">\n",
              "      <th></th>\n",
              "      <th>Result_of_Treatment</th>\n",
              "    </tr>\n",
              "    <tr>\n",
              "      <th>label</th>\n",
              "      <th></th>\n",
              "    </tr>\n",
              "  </thead>\n",
              "  <tbody>\n",
              "    <tr>\n",
              "      <th>0</th>\n",
              "      <td>0</td>\n",
              "    </tr>\n",
              "    <tr>\n",
              "      <th>1</th>\n",
              "      <td>1</td>\n",
              "    </tr>\n",
              "  </tbody>\n",
              "</table>\n",
              "</div>"
            ],
            "text/plain": [
              "       Result_of_Treatment\n",
              "label                     \n",
              "0                        0\n",
              "1                        1"
            ]
          },
          "metadata": {},
          "execution_count": 40
        }
      ]
    },
    {
      "cell_type": "markdown",
      "metadata": {
        "id": "Q4Ac5AHHYiZV"
      },
      "source": [
        "#### 7.1) Gravando tabela"
      ]
    },
    {
      "cell_type": "code",
      "metadata": {
        "id": "KKKiyTctYiZV"
      },
      "source": [
        "import pickle\n",
        "# Gravando o modelo\n",
        "#pickle.dump((tab_decoder) , open('tab_decoder_consideradas.sav', 'wb'))\n",
        "pickle.dump((tab_decoder) , open(drive_dados + 'tab_decoder.sav', 'wb'))"
      ],
      "execution_count": null,
      "outputs": []
    }
  ]
}