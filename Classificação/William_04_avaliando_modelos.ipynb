{
  "nbformat": 4,
  "nbformat_minor": 0,
  "metadata": {
    "kernelspec": {
      "display_name": "Python 3",
      "language": "python",
      "name": "python3"
    },
    "language_info": {
      "codemirror_mode": {
        "name": "ipython",
        "version": 3
      },
      "file_extension": ".py",
      "mimetype": "text/x-python",
      "name": "python",
      "nbconvert_exporter": "python",
      "pygments_lexer": "ipython3",
      "version": "3.8.3"
    },
    "latex_envs": {
      "LaTeX_envs_menu_present": true,
      "autoclose": false,
      "autocomplete": true,
      "bibliofile": "biblio.bib",
      "cite_by": "apalike",
      "current_citInitial": 1,
      "eqLabelWithNumbers": true,
      "eqNumInitial": 1,
      "hotkeys": {
        "equation": "Ctrl-E",
        "itemize": "Ctrl-I"
      },
      "labels_anchors": false,
      "latex_user_defs": false,
      "report_style_numbering": false,
      "user_envs_cfg": false
    },
    "colab": {
      "provenance": [],
      "collapsed_sections": []
    }
  },
  "cells": [
    {
      "cell_type": "markdown",
      "metadata": {
        "id": "DsW_IY29uJfI"
      },
      "source": [
        "# <font color='blue'>Avaliando modelos com diversas estruturas</font>"
      ]
    },
    {
      "cell_type": "markdown",
      "metadata": {
        "id": "OvLzzE-_Ys-L"
      },
      "source": [
        "## Montando DRIVE"
      ]
    },
    {
      "cell_type": "code",
      "metadata": {
        "colab": {
          "base_uri": "https://localhost:8080/"
        },
        "id": "WS6ilm2MxCyH",
        "outputId": "651879c4-2ec9-4a0e-ab95-1619024bf92f"
      },
      "source": [
        "from google.colab import drive\n",
        "drive.mount('/content/drive')\n",
        "\n",
        "drive_dados = '/content/drive/MyDrive/RedesNeurais/Classificacao/'"
      ],
      "execution_count": null,
      "outputs": [
        {
          "output_type": "stream",
          "name": "stdout",
          "text": [
            "Mounted at /content/drive\n"
          ]
        }
      ]
    },
    {
      "cell_type": "code",
      "metadata": {
        "id": "p_VNc4ezYxlN"
      },
      "source": [
        "from google.colab import drive\n",
        "drive.mount('/content/drive')\n",
        "\n",
        "drive_dados = '/content/drive/MyDrive/UFSB/Componentes_curriculares/RNA/_01_Classificacao/' # Colocar uma barra no final do endereço"
      ],
      "execution_count": null,
      "outputs": []
    },
    {
      "cell_type": "markdown",
      "metadata": {
        "id": "a-DdNhNjuOPY"
      },
      "source": [
        "## 1) Importando bibliotecas\n",
        "\n",
        "Importar as bibliotecas e o arquivo que serão utilizadas durante as análises. "
      ]
    },
    {
      "cell_type": "code",
      "metadata": {
        "id": "w53J7o8uuJfK"
      },
      "source": [
        "# Imports bilbliotecas básica\n",
        "# ===========================\n",
        "import numpy as np\n",
        "import matplotlib.pyplot as plt\n",
        "%matplotlib inline \n",
        "from IPython.display import display, Image\n",
        "import pandas as pd\n",
        "pd.set_option('display.max_columns', None)  \n",
        "pd.set_option('display.expand_frame_repr', False)\n",
        "pd.set_option('max_colwidth', None)\n",
        "import graphviz\n",
        "\n",
        "# Imports bilbliotecas com funções importantes\n",
        "# ============================================\n",
        "from sklearn import metrics # Calcula \"Confusion Matrix\" para o modelo\n",
        "from sklearn.tree import export_graphviz # Exporta grafo para visualização\n",
        "\n",
        "# modelos utilzados para classificação\n",
        "# ====================================\n",
        "from sklearn.linear_model import LogisticRegression\n",
        "from sklearn.naive_bayes import GaussianNB # modelo Nayve Bayes com distribuição Gausiana\n",
        "from sklearn.neighbors import KNeighborsClassifier\n",
        "from sklearn.tree import DecisionTreeClassifier\n",
        "from sklearn.neural_network import MLPClassifier\n",
        "from sklearn.gaussian_process.kernels import RBF\n",
        "from sklearn.gaussian_process import GaussianProcessClassifier\n",
        "from sklearn.svm import SVC"
      ],
      "execution_count": null,
      "outputs": []
    },
    {
      "cell_type": "markdown",
      "metadata": {
        "id": "XIUnNNA0uJfL"
      },
      "source": [
        "# 2) Lendo os dados"
      ]
    },
    {
      "cell_type": "code",
      "metadata": {
        "id": "GjI1ltaYuJfL",
        "colab": {
          "base_uri": "https://localhost:8080/",
          "height": 419
        },
        "outputId": "58174dbb-6f59-480e-c89b-24bc25090c03"
      },
      "source": [
        "import pickle\n",
        "# Lendo os dados de treinamento \n",
        "train_inputs, train_targets = pickle.load(open(drive_dados + 'dados_treinamento.sav', 'rb'))\n",
        "\n",
        "# Lendo os dados de teste\n",
        "test_inputs, test_targets = pickle.load(open(drive_dados + 'dados_teste.sav', 'rb')) # Final_dados_teste_Combine # Final_dados_teste_bruto\n",
        "train_inputs"
      ],
      "execution_count": null,
      "outputs": [
        {
          "output_type": "execute_result",
          "data": {
            "text/html": [
              "<div>\n",
              "<style scoped>\n",
              "    .dataframe tbody tr th:only-of-type {\n",
              "        vertical-align: middle;\n",
              "    }\n",
              "\n",
              "    .dataframe tbody tr th {\n",
              "        vertical-align: top;\n",
              "    }\n",
              "\n",
              "    .dataframe thead th {\n",
              "        text-align: right;\n",
              "    }\n",
              "</style>\n",
              "<table border=\"1\" class=\"dataframe\">\n",
              "  <thead>\n",
              "    <tr style=\"text-align: right;\">\n",
              "      <th></th>\n",
              "      <th>sex</th>\n",
              "      <th>age</th>\n",
              "      <th>Number_of_Warts</th>\n",
              "      <th>Type</th>\n",
              "      <th>Area</th>\n",
              "      <th>induration_diameter</th>\n",
              "    </tr>\n",
              "  </thead>\n",
              "  <tbody>\n",
              "    <tr>\n",
              "      <th>48</th>\n",
              "      <td>-0.555556</td>\n",
              "      <td>0.483288</td>\n",
              "      <td>-0.243484</td>\n",
              "      <td>0.135802</td>\n",
              "      <td>-0.040978</td>\n",
              "      <td>-0.169572</td>\n",
              "    </tr>\n",
              "    <tr>\n",
              "      <th>19</th>\n",
              "      <td>0.444444</td>\n",
              "      <td>0.434508</td>\n",
              "      <td>-0.132373</td>\n",
              "      <td>0.135802</td>\n",
              "      <td>-0.162447</td>\n",
              "      <td>-0.081336</td>\n",
              "    </tr>\n",
              "    <tr>\n",
              "      <th>70</th>\n",
              "      <td>0.444444</td>\n",
              "      <td>-0.394761</td>\n",
              "      <td>0.312071</td>\n",
              "      <td>-0.364198</td>\n",
              "      <td>-0.066402</td>\n",
              "      <td>-0.110748</td>\n",
              "    </tr>\n",
              "    <tr>\n",
              "      <th>42</th>\n",
              "      <td>-0.555556</td>\n",
              "      <td>-0.199639</td>\n",
              "      <td>-0.243484</td>\n",
              "      <td>-0.364198</td>\n",
              "      <td>-0.080526</td>\n",
              "      <td>-0.110748</td>\n",
              "    </tr>\n",
              "    <tr>\n",
              "      <th>54</th>\n",
              "      <td>0.444444</td>\n",
              "      <td>-0.297200</td>\n",
              "      <td>-0.076818</td>\n",
              "      <td>0.135802</td>\n",
              "      <td>-0.057927</td>\n",
              "      <td>-0.125454</td>\n",
              "    </tr>\n",
              "    <tr>\n",
              "      <th>...</th>\n",
              "      <td>...</td>\n",
              "      <td>...</td>\n",
              "      <td>...</td>\n",
              "      <td>...</td>\n",
              "      <td>...</td>\n",
              "      <td>...</td>\n",
              "    </tr>\n",
              "    <tr>\n",
              "      <th>49</th>\n",
              "      <td>0.444444</td>\n",
              "      <td>0.385727</td>\n",
              "      <td>0.423182</td>\n",
              "      <td>0.135802</td>\n",
              "      <td>-0.012729</td>\n",
              "      <td>0.521605</td>\n",
              "    </tr>\n",
              "    <tr>\n",
              "      <th>52</th>\n",
              "      <td>-0.555556</td>\n",
              "      <td>-0.297200</td>\n",
              "      <td>-0.021262</td>\n",
              "      <td>-0.364198</td>\n",
              "      <td>-0.111599</td>\n",
              "      <td>-0.110748</td>\n",
              "    </tr>\n",
              "    <tr>\n",
              "      <th>62</th>\n",
              "      <td>0.444444</td>\n",
              "      <td>0.044264</td>\n",
              "      <td>-0.076818</td>\n",
              "      <td>-0.364198</td>\n",
              "      <td>-0.024029</td>\n",
              "      <td>0.153958</td>\n",
              "    </tr>\n",
              "    <tr>\n",
              "      <th>45</th>\n",
              "      <td>0.444444</td>\n",
              "      <td>0.532069</td>\n",
              "      <td>-0.021262</td>\n",
              "      <td>-0.364198</td>\n",
              "      <td>0.026819</td>\n",
              "      <td>-0.110748</td>\n",
              "    </tr>\n",
              "    <tr>\n",
              "      <th>16</th>\n",
              "      <td>0.444444</td>\n",
              "      <td>-0.297200</td>\n",
              "      <td>0.089849</td>\n",
              "      <td>0.135802</td>\n",
              "      <td>-0.083351</td>\n",
              "      <td>0.815723</td>\n",
              "    </tr>\n",
              "  </tbody>\n",
              "</table>\n",
              "<p>62 rows × 6 columns</p>\n",
              "</div>"
            ],
            "text/plain": [
              "         sex       age  Number_of_Warts      Type      Area  induration_diameter\n",
              "48 -0.555556  0.483288        -0.243484  0.135802 -0.040978            -0.169572\n",
              "19  0.444444  0.434508        -0.132373  0.135802 -0.162447            -0.081336\n",
              "70  0.444444 -0.394761         0.312071 -0.364198 -0.066402            -0.110748\n",
              "42 -0.555556 -0.199639        -0.243484 -0.364198 -0.080526            -0.110748\n",
              "54  0.444444 -0.297200        -0.076818  0.135802 -0.057927            -0.125454\n",
              "..       ...       ...              ...       ...       ...                  ...\n",
              "49  0.444444  0.385727         0.423182  0.135802 -0.012729             0.521605\n",
              "52 -0.555556 -0.297200        -0.021262 -0.364198 -0.111599            -0.110748\n",
              "62  0.444444  0.044264        -0.076818 -0.364198 -0.024029             0.153958\n",
              "45  0.444444  0.532069        -0.021262 -0.364198  0.026819            -0.110748\n",
              "16  0.444444 -0.297200         0.089849  0.135802 -0.083351             0.815723\n",
              "\n",
              "[62 rows x 6 columns]"
            ]
          },
          "metadata": {},
          "execution_count": 3
        }
      ]
    },
    {
      "cell_type": "code",
      "metadata": {
        "id": "UVeMXqpCuJfL",
        "colab": {
          "base_uri": "https://localhost:8080/",
          "height": 419
        },
        "outputId": "2c892753-ef47-4265-b03e-b85d91819a47"
      },
      "source": [
        "train_targets"
      ],
      "execution_count": null,
      "outputs": [
        {
          "output_type": "execute_result",
          "data": {
            "text/html": [
              "<div>\n",
              "<style scoped>\n",
              "    .dataframe tbody tr th:only-of-type {\n",
              "        vertical-align: middle;\n",
              "    }\n",
              "\n",
              "    .dataframe tbody tr th {\n",
              "        vertical-align: top;\n",
              "    }\n",
              "\n",
              "    .dataframe thead th {\n",
              "        text-align: right;\n",
              "    }\n",
              "</style>\n",
              "<table border=\"1\" class=\"dataframe\">\n",
              "  <thead>\n",
              "    <tr style=\"text-align: right;\">\n",
              "      <th></th>\n",
              "      <th>label</th>\n",
              "    </tr>\n",
              "  </thead>\n",
              "  <tbody>\n",
              "    <tr>\n",
              "      <th>48</th>\n",
              "      <td>1</td>\n",
              "    </tr>\n",
              "    <tr>\n",
              "      <th>19</th>\n",
              "      <td>1</td>\n",
              "    </tr>\n",
              "    <tr>\n",
              "      <th>70</th>\n",
              "      <td>1</td>\n",
              "    </tr>\n",
              "    <tr>\n",
              "      <th>42</th>\n",
              "      <td>1</td>\n",
              "    </tr>\n",
              "    <tr>\n",
              "      <th>54</th>\n",
              "      <td>1</td>\n",
              "    </tr>\n",
              "    <tr>\n",
              "      <th>...</th>\n",
              "      <td>...</td>\n",
              "    </tr>\n",
              "    <tr>\n",
              "      <th>49</th>\n",
              "      <td>1</td>\n",
              "    </tr>\n",
              "    <tr>\n",
              "      <th>52</th>\n",
              "      <td>1</td>\n",
              "    </tr>\n",
              "    <tr>\n",
              "      <th>62</th>\n",
              "      <td>1</td>\n",
              "    </tr>\n",
              "    <tr>\n",
              "      <th>45</th>\n",
              "      <td>1</td>\n",
              "    </tr>\n",
              "    <tr>\n",
              "      <th>16</th>\n",
              "      <td>1</td>\n",
              "    </tr>\n",
              "  </tbody>\n",
              "</table>\n",
              "<p>62 rows × 1 columns</p>\n",
              "</div>"
            ],
            "text/plain": [
              "    label\n",
              "48      1\n",
              "19      1\n",
              "70      1\n",
              "42      1\n",
              "54      1\n",
              "..    ...\n",
              "49      1\n",
              "52      1\n",
              "62      1\n",
              "45      1\n",
              "16      1\n",
              "\n",
              "[62 rows x 1 columns]"
            ]
          },
          "metadata": {},
          "execution_count": 4
        }
      ]
    },
    {
      "cell_type": "markdown",
      "metadata": {
        "id": "LsXL4FTquJfM"
      },
      "source": [
        "## 3) Treinando e verificando a exatidão dos modelos\n",
        "### <font color='blue'> 3.1) Logistic Regression"
      ]
    },
    {
      "cell_type": "code",
      "metadata": {
        "tags": [],
        "id": "dp2cQfviuJfM",
        "colab": {
          "base_uri": "https://localhost:8080/"
        },
        "outputId": "0be5b654-78d6-414c-ea44-822b4aab6275"
      },
      "source": [
        "# Construindo o modelo Classificador\n",
        "# https://scikit-learn.org/stable/modules/generated/sklearn.linear_model.LogisticRegression.html#sklearn.linear_model.LogisticRegression\n",
        "model_LR = LogisticRegression(\n",
        "    penalty='l2', # {‘l1’, ‘l2’, ‘elasticnet’, ‘none’}, default=’l2’\n",
        "    dual=False, \n",
        "    tol=0.0001, \n",
        "    C=1.0, \n",
        "    fit_intercept=True, \n",
        "    intercept_scaling=1, \n",
        "    class_weight=None, \n",
        "    random_state=None, \n",
        "    solver='lbfgs', # {‘newton-cg’, ‘lbfgs’, ‘liblinear’, ‘sag’, ‘saga’}, default=’lbfgs’\n",
        "    max_iter=int(1e4), \n",
        "    multi_class='auto', \n",
        "    verbose=0, \n",
        "    warm_start=False, \n",
        "    n_jobs=None, \n",
        "    l1_ratio=None # float, default=None\n",
        ")\n",
        "\n",
        "# Apresentando os dados ao modelo\n",
        "model_LR.fit(train_inputs, np.ravel(train_targets))"
      ],
      "execution_count": null,
      "outputs": [
        {
          "output_type": "execute_result",
          "data": {
            "text/plain": [
              "LogisticRegression(C=1.0, class_weight=None, dual=False, fit_intercept=True,\n",
              "                   intercept_scaling=1, l1_ratio=None, max_iter=10000,\n",
              "                   multi_class='auto', n_jobs=None, penalty='l2',\n",
              "                   random_state=None, solver='lbfgs', tol=0.0001, verbose=0,\n",
              "                   warm_start=False)"
            ]
          },
          "metadata": {},
          "execution_count": 5
        }
      ]
    },
    {
      "cell_type": "markdown",
      "metadata": {
        "id": "w7biJWrtuJfM"
      },
      "source": [
        "#### 3.1.1) Metricas para conjunto de treinamento"
      ]
    },
    {
      "cell_type": "code",
      "metadata": {
        "id": "fTYQG6dzuJfM",
        "colab": {
          "base_uri": "https://localhost:8080/"
        },
        "outputId": "8a9dc2f2-d130-463e-9068-9e4ef9c85564"
      },
      "source": [
        "# Métricas conjunto de treinamento\n",
        "valores = train_targets.drop_duplicates().sort_values(by=[train_targets.columns[0]]).values\n",
        "target_names = [np.array2string(elemento[0]) for elemento in valores]\n",
        "entrada = train_inputs\n",
        "prev_trein_LR = [np.where(elemento == max(elemento))[0][0] for elemento in model_LR.predict_proba(entrada)]\n",
        "print(metrics.classification_report(train_targets, prev_trein_LR, target_names = target_names, zero_division=0))\n",
        "# Confusion Matrix\n",
        "print('Confusion Matrix:')\n",
        "print('==================')\n",
        "np.set_printoptions(linewidth=np.inf)\n",
        "metrics.confusion_matrix(train_targets, prev_trein_LR)"
      ],
      "execution_count": null,
      "outputs": [
        {
          "output_type": "stream",
          "name": "stdout",
          "text": [
            "              precision    recall  f1-score   support\n",
            "\n",
            "           0       0.00      0.00      0.00        13\n",
            "           1       0.79      1.00      0.88        49\n",
            "\n",
            "    accuracy                           0.79        62\n",
            "   macro avg       0.40      0.50      0.44        62\n",
            "weighted avg       0.62      0.79      0.70        62\n",
            "\n",
            "Confusion Matrix:\n",
            "==================\n"
          ]
        },
        {
          "output_type": "execute_result",
          "data": {
            "text/plain": [
              "array([[ 0, 13],\n",
              "       [ 0, 49]])"
            ]
          },
          "metadata": {},
          "execution_count": 6
        }
      ]
    },
    {
      "cell_type": "markdown",
      "metadata": {
        "id": "52KOfy89uJfM"
      },
      "source": [
        "#### 3.1.2) Metricas para conjunto de teste"
      ]
    },
    {
      "cell_type": "code",
      "metadata": {
        "id": "JwOm8EEVuJfN",
        "colab": {
          "base_uri": "https://localhost:8080/"
        },
        "outputId": "29804c0d-9ef6-456c-8f9a-fe73115d67de"
      },
      "source": [
        "# Métricas conjunto de teste\n",
        "valores = test_targets.drop_duplicates().sort_values(by=[test_targets.columns[0]]).values\n",
        "target_names = [np.array2string(elemento[0]) for elemento in valores]\n",
        "entrada = test_inputs\n",
        "prev_test_LR = [np.where(elemento == max(elemento))[0][0]for elemento in model_LR.predict_proba(entrada)]\n",
        "print(metrics.classification_report(test_targets, prev_test_LR, target_names = target_names, zero_division=0))\n",
        "# Confusion Matrix\n",
        "print('Confusion Matrix:')\n",
        "print('==================')\n",
        "np.set_printoptions(linewidth=np.inf)\n",
        "metrics.confusion_matrix(test_targets, prev_test_LR)"
      ],
      "execution_count": null,
      "outputs": [
        {
          "output_type": "stream",
          "name": "stdout",
          "text": [
            "              precision    recall  f1-score   support\n",
            "\n",
            "           0       0.00      0.00      0.00         5\n",
            "           1       0.74      1.00      0.85        14\n",
            "\n",
            "    accuracy                           0.74        19\n",
            "   macro avg       0.37      0.50      0.42        19\n",
            "weighted avg       0.54      0.74      0.63        19\n",
            "\n",
            "Confusion Matrix:\n",
            "==================\n"
          ]
        },
        {
          "output_type": "execute_result",
          "data": {
            "text/plain": [
              "array([[ 0,  5],\n",
              "       [ 0, 14]])"
            ]
          },
          "metadata": {},
          "execution_count": 7
        }
      ]
    },
    {
      "cell_type": "markdown",
      "metadata": {
        "id": "f2lbnIAGuJfN"
      },
      "source": [
        "### <font color='blue'>3.2) Classificador Multinomial Naive Bayes - Scikit-Learn"
      ]
    },
    {
      "cell_type": "code",
      "metadata": {
        "id": "D_FpGMmXuJfN"
      },
      "source": [
        "# Criando o modelo Multinomial\n",
        "# https://scikit-learn.org/stable/modules/generated/sklearn.naive_bayes.GaussianNB.html?highlight=gaussiannb#sklearn.naive_bayes.GaussianNB\n",
        "model_clf = GaussianNB().fit(train_inputs, np.ravel(train_targets))"
      ],
      "execution_count": null,
      "outputs": []
    },
    {
      "cell_type": "markdown",
      "metadata": {
        "id": "5-02-NFtuJfN"
      },
      "source": [
        "#### 3.2.1) Metricas para conjunto de treinamento"
      ]
    },
    {
      "cell_type": "code",
      "metadata": {
        "id": "5f3iUpHtuJfN",
        "colab": {
          "base_uri": "https://localhost:8080/"
        },
        "outputId": "217c193c-fced-49b8-a913-177d6c79f3b4"
      },
      "source": [
        "# Métricas conjunto de treinamento\n",
        "valores = train_targets.drop_duplicates().sort_values(by=[train_targets.columns[0]]).values\n",
        "target_names = [np.array2string(elemento[0]) for elemento in valores]\n",
        "entrada = train_inputs\n",
        "prev_trein_clf = [np.where(elemento == max(elemento))[0][0] for elemento in model_clf.predict_proba(entrada)]\n",
        "print(metrics.classification_report(train_targets, prev_trein_clf, target_names = target_names, zero_division=0))\n",
        "# Confusion Matrix\n",
        "print('Confusion Matrix:')\n",
        "print('==================')\n",
        "np.set_printoptions(linewidth=np.inf)\n",
        "metrics.confusion_matrix(train_targets, prev_trein_clf)"
      ],
      "execution_count": null,
      "outputs": [
        {
          "output_type": "stream",
          "name": "stdout",
          "text": [
            "              precision    recall  f1-score   support\n",
            "\n",
            "           0       0.20      0.08      0.11        13\n",
            "           1       0.79      0.92      0.85        49\n",
            "\n",
            "    accuracy                           0.74        62\n",
            "   macro avg       0.49      0.50      0.48        62\n",
            "weighted avg       0.67      0.74      0.69        62\n",
            "\n",
            "Confusion Matrix:\n",
            "==================\n"
          ]
        },
        {
          "output_type": "execute_result",
          "data": {
            "text/plain": [
              "array([[ 1, 12],\n",
              "       [ 4, 45]])"
            ]
          },
          "metadata": {},
          "execution_count": 9
        }
      ]
    },
    {
      "cell_type": "markdown",
      "metadata": {
        "tags": [],
        "id": "UxBBk5C-uJfO"
      },
      "source": [
        "#### 3.2.1) Metricas para conjunto de teste"
      ]
    },
    {
      "cell_type": "code",
      "metadata": {
        "id": "WDY2ioCwuJfO",
        "colab": {
          "base_uri": "https://localhost:8080/"
        },
        "outputId": "571b9800-7cf4-4b43-a02a-a93e9b7e136d"
      },
      "source": [
        "# Métricas conjunto de teste\n",
        "valores = test_targets.drop_duplicates().sort_values(by=[test_targets.columns[0]]).values\n",
        "target_names = [np.array2string(elemento[0]) for elemento in valores]\n",
        "entrada = test_inputs\n",
        "prev_test_clf = [np.where(elemento == max(elemento))[0][0]for elemento in model_clf.predict_proba(entrada)]\n",
        "print(metrics.classification_report(test_targets, prev_test_clf, target_names = target_names, zero_division=0))\n",
        "# Confusion Matrix\n",
        "print('Confusion Matrix:')\n",
        "print('==================')\n",
        "np.set_printoptions(linewidth=np.inf)\n",
        "metrics.confusion_matrix(test_targets, prev_test_clf)"
      ],
      "execution_count": null,
      "outputs": [
        {
          "output_type": "stream",
          "name": "stdout",
          "text": [
            "              precision    recall  f1-score   support\n",
            "\n",
            "           0       0.00      0.00      0.00         5\n",
            "           1       0.74      1.00      0.85        14\n",
            "\n",
            "    accuracy                           0.74        19\n",
            "   macro avg       0.37      0.50      0.42        19\n",
            "weighted avg       0.54      0.74      0.63        19\n",
            "\n",
            "Confusion Matrix:\n",
            "==================\n"
          ]
        },
        {
          "output_type": "execute_result",
          "data": {
            "text/plain": [
              "array([[ 0,  5],\n",
              "       [ 0, 14]])"
            ]
          },
          "metadata": {},
          "execution_count": 10
        }
      ]
    },
    {
      "cell_type": "markdown",
      "metadata": {
        "id": "ckdYsrmtuJfO"
      },
      "source": [
        "### <font color='blue'> 3.3) Classificador KNN - Scikit-Learn"
      ]
    },
    {
      "cell_type": "code",
      "metadata": {
        "id": "f317aktzuJfO",
        "colab": {
          "base_uri": "https://localhost:8080/"
        },
        "outputId": "42c98ec9-a17d-4324-c8b1-19da5dc41947"
      },
      "source": [
        "# Construindo o modelo Classificador\n",
        "# # https://scikit-learn.org/stable/modules/generated/sklearn.neighbors.KNeighborsClassifier.html\n",
        "\n",
        "# Range de valores de k que iremos testar\n",
        "kVals = range(1, 40, 1)\n",
        "\n",
        "# Lista vazia para receber as acurácias\n",
        "acuracias = []\n",
        "\n",
        "# Loop em todos os valores de k para testar cada um deles\n",
        "for k in kVals:\n",
        "    # Treinando o modelo KNN com cada valor de k\n",
        "    model_knn = KNeighborsClassifier(n_neighbors = k)\n",
        "    model_knn.fit(train_inputs, np.ravel(train_targets))\n",
        "          \n",
        "    # Avaliando o modelo e atualizando a lista de acurácias\n",
        "    score = model_knn.score(test_inputs, np.ravel(test_targets))\n",
        "    print(\"Com valor de k = %d, a acurácia é = %.2f%%\" % (k, score * 100))\n",
        "    acuracias.append(score)\n",
        "\n",
        "# Obtendo o valor de k que apresentou a maior acurácia\n",
        "i = np.argmax(acuracias)\n",
        "print(\"O valor de k = %d alcançou a mais alta acurácia de %.2f%% nos dados de validação!\" % (kVals[i], \n",
        "                                                                                             acuracias[i] * 100))\n",
        "\n",
        "# Apresentando os dados ao modelo\n",
        "model_knn = KNeighborsClassifier(n_neighbors = kVals[i])\n",
        "model_knn.fit(train_inputs, np.ravel(train_targets))"
      ],
      "execution_count": null,
      "outputs": [
        {
          "output_type": "stream",
          "name": "stdout",
          "text": [
            "Com valor de k = 1, a acurácia é = 47.37%\n",
            "Com valor de k = 2, a acurácia é = 47.37%\n",
            "Com valor de k = 3, a acurácia é = 52.63%\n",
            "Com valor de k = 4, a acurácia é = 52.63%\n",
            "Com valor de k = 5, a acurácia é = 47.37%\n",
            "Com valor de k = 6, a acurácia é = 47.37%\n",
            "Com valor de k = 7, a acurácia é = 52.63%\n",
            "Com valor de k = 8, a acurácia é = 47.37%\n",
            "Com valor de k = 9, a acurácia é = 57.89%\n",
            "Com valor de k = 10, a acurácia é = 47.37%\n",
            "Com valor de k = 11, a acurácia é = 73.68%\n",
            "Com valor de k = 12, a acurácia é = 63.16%\n",
            "Com valor de k = 13, a acurácia é = 73.68%\n",
            "Com valor de k = 14, a acurácia é = 73.68%\n",
            "Com valor de k = 15, a acurácia é = 73.68%\n",
            "Com valor de k = 16, a acurácia é = 73.68%\n",
            "Com valor de k = 17, a acurácia é = 73.68%\n",
            "Com valor de k = 18, a acurácia é = 73.68%\n",
            "Com valor de k = 19, a acurácia é = 73.68%\n",
            "Com valor de k = 20, a acurácia é = 73.68%\n",
            "Com valor de k = 21, a acurácia é = 73.68%\n",
            "Com valor de k = 22, a acurácia é = 73.68%\n",
            "Com valor de k = 23, a acurácia é = 73.68%\n",
            "Com valor de k = 24, a acurácia é = 73.68%\n",
            "Com valor de k = 25, a acurácia é = 73.68%\n",
            "Com valor de k = 26, a acurácia é = 73.68%\n",
            "Com valor de k = 27, a acurácia é = 73.68%\n",
            "Com valor de k = 28, a acurácia é = 73.68%\n",
            "Com valor de k = 29, a acurácia é = 73.68%\n",
            "Com valor de k = 30, a acurácia é = 73.68%\n",
            "Com valor de k = 31, a acurácia é = 73.68%\n",
            "Com valor de k = 32, a acurácia é = 73.68%\n",
            "Com valor de k = 33, a acurácia é = 73.68%\n",
            "Com valor de k = 34, a acurácia é = 73.68%\n",
            "Com valor de k = 35, a acurácia é = 73.68%\n",
            "Com valor de k = 36, a acurácia é = 73.68%\n",
            "Com valor de k = 37, a acurácia é = 73.68%\n",
            "Com valor de k = 38, a acurácia é = 73.68%\n",
            "Com valor de k = 39, a acurácia é = 73.68%\n",
            "O valor de k = 11 alcançou a mais alta acurácia de 73.68% nos dados de validação!\n"
          ]
        },
        {
          "output_type": "execute_result",
          "data": {
            "text/plain": [
              "KNeighborsClassifier(algorithm='auto', leaf_size=30, metric='minkowski',\n",
              "                     metric_params=None, n_jobs=None, n_neighbors=11, p=2,\n",
              "                     weights='uniform')"
            ]
          },
          "metadata": {},
          "execution_count": 11
        }
      ]
    },
    {
      "cell_type": "markdown",
      "metadata": {
        "id": "CUl8E_XQuJfQ"
      },
      "source": [
        "#### 3.3.1) Metricas para conjunto de treinamento"
      ]
    },
    {
      "cell_type": "code",
      "metadata": {
        "id": "O2Es6sIuuJfQ",
        "colab": {
          "base_uri": "https://localhost:8080/"
        },
        "outputId": "579554e5-1693-499c-bf21-404b61b36bc0"
      },
      "source": [
        "# Métricas conjunto de treinamento\n",
        "valores = train_targets.drop_duplicates().sort_values(by=[train_targets.columns[0]]).values\n",
        "target_names = [np.array2string(elemento[0]) for elemento in valores]\n",
        "entrada = train_inputs\n",
        "prev_trein_knn = [np.where(elemento == max(elemento))[0][0] for elemento in model_knn.predict_proba(entrada)]\n",
        "print(metrics.classification_report(train_targets, prev_trein_knn, target_names = target_names, zero_division=0))\n",
        "# Confusion Matrix\n",
        "print('Confusion Matrix:')\n",
        "print('==================')\n",
        "np.set_printoptions(linewidth=np.inf)\n",
        "metrics.confusion_matrix(train_targets, prev_trein_knn)"
      ],
      "execution_count": null,
      "outputs": [
        {
          "output_type": "stream",
          "name": "stdout",
          "text": [
            "              precision    recall  f1-score   support\n",
            "\n",
            "           0       1.00      0.08      0.14        13\n",
            "           1       0.80      1.00      0.89        49\n",
            "\n",
            "    accuracy                           0.81        62\n",
            "   macro avg       0.90      0.54      0.52        62\n",
            "weighted avg       0.84      0.81      0.73        62\n",
            "\n",
            "Confusion Matrix:\n",
            "==================\n"
          ]
        },
        {
          "output_type": "execute_result",
          "data": {
            "text/plain": [
              "array([[ 1, 12],\n",
              "       [ 0, 49]])"
            ]
          },
          "metadata": {},
          "execution_count": 12
        }
      ]
    },
    {
      "cell_type": "markdown",
      "metadata": {
        "id": "4IUXLp2puJfR"
      },
      "source": [
        "#### 3.3.2) Metricas para conjunto de teste"
      ]
    },
    {
      "cell_type": "code",
      "metadata": {
        "id": "MRXho4RguJfR",
        "colab": {
          "base_uri": "https://localhost:8080/"
        },
        "outputId": "27ea6150-254c-4a11-dc30-6832685ef36d"
      },
      "source": [
        "# Métricas conjunto de teste\n",
        "valores = test_targets.drop_duplicates().sort_values(by=[test_targets.columns[0]]).values\n",
        "target_names = [np.array2string(elemento[0]) for elemento in valores]\n",
        "entrada = test_inputs\n",
        "prev_test_knn = [np.where(elemento == max(elemento))[0][0]for elemento in model_knn.predict_proba(entrada)]\n",
        "print(metrics.classification_report(test_targets, prev_test_knn, target_names = target_names, zero_division=0))\n",
        "# Confusion Matrix\n",
        "print('Confusion Matrix:')\n",
        "print('==================')\n",
        "np.set_printoptions(linewidth=np.inf)\n",
        "metrics.confusion_matrix(test_targets, prev_test_knn)"
      ],
      "execution_count": null,
      "outputs": [
        {
          "output_type": "stream",
          "name": "stdout",
          "text": [
            "              precision    recall  f1-score   support\n",
            "\n",
            "           0       0.00      0.00      0.00         5\n",
            "           1       0.74      1.00      0.85        14\n",
            "\n",
            "    accuracy                           0.74        19\n",
            "   macro avg       0.37      0.50      0.42        19\n",
            "weighted avg       0.54      0.74      0.63        19\n",
            "\n",
            "Confusion Matrix:\n",
            "==================\n"
          ]
        },
        {
          "output_type": "execute_result",
          "data": {
            "text/plain": [
              "array([[ 0,  5],\n",
              "       [ 0, 14]])"
            ]
          },
          "metadata": {},
          "execution_count": 13
        }
      ]
    },
    {
      "cell_type": "markdown",
      "metadata": {
        "id": "Ur0m8QimuJfS"
      },
      "source": [
        "### <font color='blue'>3.4) Decision Tree Classifier"
      ]
    },
    {
      "cell_type": "code",
      "metadata": {
        "id": "FR6Eh3lVuJfS",
        "colab": {
          "base_uri": "https://localhost:8080/"
        },
        "outputId": "8dbbb570-ee49-49ad-a48a-e4012572c819"
      },
      "source": [
        "# Construindo o modelo Classificador\n",
        "# http://scikit-learn.org/stable/modules/generated/sklearn.tree.DecisionTreeClassifier.html\n",
        "model_DTC = DecisionTreeClassifier(\n",
        "    criterion='gini', # {“gini”, “entropy”}, default=”gini”\n",
        "    splitter='best', # {“best”, “random”}, default=”best”\n",
        "    max_depth=None, # int, default=None\n",
        "    min_samples_split=2,\n",
        "    min_samples_leaf=1,\n",
        "    min_weight_fraction_leaf=0.0,\n",
        "    max_features=None, # int, float or {“auto”, “sqrt”, “log2”}, default=None\n",
        "    random_state=None, \n",
        "    max_leaf_nodes=None, \n",
        "    min_impurity_decrease=0.0, \n",
        "    min_impurity_split=None, \n",
        "    class_weight=None, \n",
        "    #presort='deprecated', \n",
        "    ccp_alpha=0.0\n",
        ")\n",
        "\n",
        "# Apresentando os dados ao modelo\n",
        "model_DTC.fit(train_inputs, train_targets)"
      ],
      "execution_count": null,
      "outputs": [
        {
          "output_type": "execute_result",
          "data": {
            "text/plain": [
              "DecisionTreeClassifier(ccp_alpha=0.0, class_weight=None, criterion='gini',\n",
              "                       max_depth=None, max_features=None, max_leaf_nodes=None,\n",
              "                       min_impurity_decrease=0.0, min_impurity_split=None,\n",
              "                       min_samples_leaf=1, min_samples_split=2,\n",
              "                       min_weight_fraction_leaf=0.0, presort='deprecated',\n",
              "                       random_state=None, splitter='best')"
            ]
          },
          "metadata": {},
          "execution_count": 14
        }
      ]
    },
    {
      "cell_type": "code",
      "metadata": {
        "id": "JucW2dJ4uJfS"
      },
      "source": [
        "# Definindo o nome do arquivo com a árvore de decisão\n",
        "arquivo = 'model_DTC.dot'\n",
        "labels = train_inputs.columns"
      ],
      "execution_count": null,
      "outputs": []
    },
    {
      "cell_type": "code",
      "metadata": {
        "id": "R_maPt5TuJfS",
        "colab": {
          "base_uri": "https://localhost:8080/",
          "height": 1000
        },
        "outputId": "2daa4d2c-2bd2-41b7-cde3-3606f34b60c7"
      },
      "source": [
        "# Gerando o gráfico da árvore de decisão\n",
        "export_graphviz(model_DTC, out_file = arquivo, feature_names = labels)\n",
        "with open(arquivo) as f:\n",
        "    dot_graph = f.read()\n",
        "graphviz.Source(dot_graph)\n",
        "# Converte aquivo para png\n",
        "!dot -Tpng model_DTC.dot -o model_DTC.png\n",
        "display(Image(filename='model_DTC.png'))"
      ],
      "execution_count": null,
      "outputs": [
        {
          "output_type": "display_data",
          "data": {
            "image/png": "[encoded data removed]",
            "text/plain": [
              "<IPython.core.display.Image object>"
            ]
          },
          "metadata": {}
        }
      ]
    },
    {
      "cell_type": "markdown",
      "metadata": {
        "id": "RLG9atDQuJfT"
      },
      "source": [
        "#### 3.4.1) Metricas para conjunto de treinamento"
      ]
    },
    {
      "cell_type": "code",
      "metadata": {
        "id": "RhSePC3PuJfT",
        "colab": {
          "base_uri": "https://localhost:8080/"
        },
        "outputId": "8f7612f1-a602-4055-be98-dd7aeaaf83f9"
      },
      "source": [
        "# Métricas conjunto de treinamento\n",
        "valores = train_targets.drop_duplicates().sort_values(by=[train_targets.columns[0]]).values\n",
        "target_names = [np.array2string(elemento[0]) for elemento in valores]\n",
        "entrada = train_inputs\n",
        "prev_trein_DTC = [np.where(elemento == max(elemento))[0][0] for elemento in model_DTC.predict_proba(entrada)]\n",
        "print(metrics.classification_report(train_targets, prev_trein_DTC, target_names = target_names, zero_division=0))\n",
        "# Confusion Matrix\n",
        "print('Confusion Matrix:')\n",
        "print('==================')\n",
        "np.set_printoptions(linewidth=np.inf)\n",
        "metrics.confusion_matrix(train_targets, prev_trein_DTC)"
      ],
      "execution_count": null,
      "outputs": [
        {
          "output_type": "stream",
          "name": "stdout",
          "text": [
            "              precision    recall  f1-score   support\n",
            "\n",
            "           0       1.00      1.00      1.00        13\n",
            "           1       1.00      1.00      1.00        49\n",
            "\n",
            "    accuracy                           1.00        62\n",
            "   macro avg       1.00      1.00      1.00        62\n",
            "weighted avg       1.00      1.00      1.00        62\n",
            "\n",
            "Confusion Matrix:\n",
            "==================\n"
          ]
        },
        {
          "output_type": "execute_result",
          "data": {
            "text/plain": [
              "array([[13,  0],\n",
              "       [ 0, 49]])"
            ]
          },
          "metadata": {},
          "execution_count": 17
        }
      ]
    },
    {
      "cell_type": "markdown",
      "metadata": {
        "id": "QjgFCSf_uJfT"
      },
      "source": [
        "#### 3.4.2) Metricas para conjunto de teste"
      ]
    },
    {
      "cell_type": "code",
      "metadata": {
        "id": "bwA7-edWuJfU",
        "colab": {
          "base_uri": "https://localhost:8080/"
        },
        "outputId": "d3cfbcb9-8848-481d-8a8d-fad8420e1154"
      },
      "source": [
        "# Métricas conjunto de teste\n",
        "entrada = test_inputs\n",
        "valores = test_targets.drop_duplicates().sort_values(by=[test_targets.columns[0]]).values\n",
        "target_names = [np.array2string(elemento[0]) for elemento in valores]\n",
        "prev_test_DTC = [np.where(elemento == max(elemento))[0][0] for elemento in model_DTC.predict_proba(entrada)]\n",
        "print(metrics.classification_report(test_targets, prev_test_DTC, target_names = target_names, zero_division=0))\n",
        "# Confusion Matrix\n",
        "print('Confusion Matrix:')\n",
        "print('==================')\n",
        "np.set_printoptions(linewidth=np.inf)\n",
        "metrics.confusion_matrix(test_targets, prev_test_DTC)"
      ],
      "execution_count": null,
      "outputs": [
        {
          "output_type": "stream",
          "name": "stdout",
          "text": [
            "              precision    recall  f1-score   support\n",
            "\n",
            "           0       0.20      0.20      0.20         5\n",
            "           1       0.71      0.71      0.71        14\n",
            "\n",
            "    accuracy                           0.58        19\n",
            "   macro avg       0.46      0.46      0.46        19\n",
            "weighted avg       0.58      0.58      0.58        19\n",
            "\n",
            "Confusion Matrix:\n",
            "==================\n"
          ]
        },
        {
          "output_type": "execute_result",
          "data": {
            "text/plain": [
              "array([[ 1,  4],\n",
              "       [ 4, 10]])"
            ]
          },
          "metadata": {},
          "execution_count": 18
        }
      ]
    },
    {
      "cell_type": "markdown",
      "metadata": {
        "id": "HelVKz_LuJfU"
      },
      "source": [
        "### <font color='blue'> 3.5) Gaussian Process Classifier"
      ]
    },
    {
      "cell_type": "code",
      "metadata": {
        "id": "olXKeiAcuJfU",
        "colab": {
          "base_uri": "https://localhost:8080/"
        },
        "outputId": "6209218a-c620-4244-d880-0844ee1ceeb7"
      },
      "source": [
        "# Construindo o modelo Classificador\n",
        "# https://scikit-learn.org/stable/modules/generated/sklearn.gaussian_process.GaussianProcessClassifier.html?highlight=gaussianprocessclassifier#sklearn.gaussian_process.GaussianProcessClassifier\n",
        "kernel = 1.0 * RBF(1.0)\n",
        "model_GPC = GaussianProcessClassifier(kernel=None,  \n",
        "    optimizer='fmin_l_bfgs_b', \n",
        "    n_restarts_optimizer=0, \n",
        "    max_iter_predict=100, \n",
        "    warm_start=False, \n",
        "    copy_X_train=True, \n",
        "    random_state=None, \n",
        "    multi_class='one_vs_rest', \n",
        "    n_jobs=None)\n",
        "# Apresentando os dados ao model\n",
        "model_GPC.fit(train_inputs, np.ravel(train_targets))"
      ],
      "execution_count": null,
      "outputs": [
        {
          "output_type": "execute_result",
          "data": {
            "text/plain": [
              "GaussianProcessClassifier(copy_X_train=True, kernel=None, max_iter_predict=100,\n",
              "                          multi_class='one_vs_rest', n_jobs=None,\n",
              "                          n_restarts_optimizer=0, optimizer='fmin_l_bfgs_b',\n",
              "                          random_state=None, warm_start=False)"
            ]
          },
          "metadata": {},
          "execution_count": 19
        }
      ]
    },
    {
      "cell_type": "markdown",
      "metadata": {
        "id": "dNZbPNL3uJfV"
      },
      "source": [
        "#### 3.5.1) Metricas para conjunto de treinamento"
      ]
    },
    {
      "cell_type": "code",
      "metadata": {
        "id": "tPGgUMMNuJfV",
        "colab": {
          "base_uri": "https://localhost:8080/"
        },
        "outputId": "e001ef86-927e-4e5a-db85-128e7d5124b3"
      },
      "source": [
        "# Métricas conjunto de treinamento\n",
        "valores = train_targets.drop_duplicates().sort_values(by=[train_targets.columns[0]]).values\n",
        "target_names = [np.array2string(elemento[0]) for elemento in valores]\n",
        "entrada = train_inputs\n",
        "prev_trein_GPC = [np.where(elemento == max(elemento))[0][0] for elemento in model_GPC.predict_proba(entrada)]\n",
        "print(metrics.classification_report(train_targets, prev_trein_GPC, target_names = target_names, zero_division=0))\n",
        "# Confusion Matrix\n",
        "print('Confusion Matrix:')\n",
        "print('==================')\n",
        "np.set_printoptions(linewidth=np.inf)\n",
        "metrics.confusion_matrix(train_targets, prev_trein_GPC)"
      ],
      "execution_count": null,
      "outputs": [
        {
          "output_type": "stream",
          "name": "stdout",
          "text": [
            "              precision    recall  f1-score   support\n",
            "\n",
            "           0       0.00      0.00      0.00        13\n",
            "           1       0.79      1.00      0.88        49\n",
            "\n",
            "    accuracy                           0.79        62\n",
            "   macro avg       0.40      0.50      0.44        62\n",
            "weighted avg       0.62      0.79      0.70        62\n",
            "\n",
            "Confusion Matrix:\n",
            "==================\n"
          ]
        },
        {
          "output_type": "execute_result",
          "data": {
            "text/plain": [
              "array([[ 0, 13],\n",
              "       [ 0, 49]])"
            ]
          },
          "metadata": {},
          "execution_count": 20
        }
      ]
    },
    {
      "cell_type": "markdown",
      "metadata": {
        "id": "XJkRpbNouJfV"
      },
      "source": [
        "#### 3.5.2) Metricas para conjunto de teste"
      ]
    },
    {
      "cell_type": "code",
      "metadata": {
        "id": "SWldPvkeuJfV",
        "colab": {
          "base_uri": "https://localhost:8080/"
        },
        "outputId": "5e5786d5-7dec-42eb-89ea-04d9a3aea2b6"
      },
      "source": [
        "# Métricas conjunto de teste\n",
        "valores = test_targets.drop_duplicates().sort_values(by=[test_targets.columns[0]]).values\n",
        "target_names = [np.array2string(elemento[0]) for elemento in valores]\n",
        "entrada = test_inputs\n",
        "prev_test_GPC = [np.where(elemento == max(elemento))[0][0] for elemento in model_GPC.predict_proba(entrada)]\n",
        "print(metrics.classification_report(test_targets, prev_test_GPC, target_names = target_names, zero_division=0))\n",
        "# Confusion Matrix\n",
        "print('Confusion Matrix:')\n",
        "print('==================')\n",
        "np.set_printoptions(linewidth=np.inf)\n",
        "metrics.confusion_matrix(test_targets, prev_test_GPC)"
      ],
      "execution_count": null,
      "outputs": [
        {
          "output_type": "stream",
          "name": "stdout",
          "text": [
            "              precision    recall  f1-score   support\n",
            "\n",
            "           0       0.00      0.00      0.00         5\n",
            "           1       0.74      1.00      0.85        14\n",
            "\n",
            "    accuracy                           0.74        19\n",
            "   macro avg       0.37      0.50      0.42        19\n",
            "weighted avg       0.54      0.74      0.63        19\n",
            "\n",
            "Confusion Matrix:\n",
            "==================\n"
          ]
        },
        {
          "output_type": "execute_result",
          "data": {
            "text/plain": [
              "array([[ 0,  5],\n",
              "       [ 0, 14]])"
            ]
          },
          "metadata": {},
          "execution_count": 21
        }
      ]
    },
    {
      "cell_type": "markdown",
      "metadata": {
        "id": "oCKUv7khuJfW"
      },
      "source": [
        "### <font color='blue'>3.6) Support Vector Classification"
      ]
    },
    {
      "cell_type": "code",
      "metadata": {
        "id": "Gd6Uu5l4uJfW",
        "colab": {
          "base_uri": "https://localhost:8080/"
        },
        "outputId": "af06db75-f876-4a24-ee6d-fecf415ffc32"
      },
      "source": [
        "# Construindo o modelo Classificador\n",
        "# https://scikit-learn.org/stable/modules/generated/sklearn.svm.SVC.html#sklearn.svm.SVC\n",
        "model_SVC = SVC(C=1.0, \n",
        "                kernel='rbf', \n",
        "                degree=3, \n",
        "                gamma='auto', \n",
        "                coef0=0.0, \n",
        "                shrinking=True, \n",
        "                probability=False, \n",
        "                tol=0.001, \n",
        "                cache_size=200, \n",
        "                class_weight=None, \n",
        "                verbose=False, \n",
        "                max_iter=-1, \n",
        "                decision_function_shape='ovr', \n",
        "                break_ties=False, \n",
        "                random_state=None)\n",
        "# Apresentando os dados ao modelo\n",
        "model_SVC.fit(train_inputs, np.ravel(train_targets))"
      ],
      "execution_count": null,
      "outputs": [
        {
          "output_type": "execute_result",
          "data": {
            "text/plain": [
              "SVC(C=1.0, break_ties=False, cache_size=200, class_weight=None, coef0=0.0,\n",
              "    decision_function_shape='ovr', degree=3, gamma='auto', kernel='rbf',\n",
              "    max_iter=-1, probability=False, random_state=None, shrinking=True,\n",
              "    tol=0.001, verbose=False)"
            ]
          },
          "metadata": {},
          "execution_count": 22
        }
      ]
    },
    {
      "cell_type": "markdown",
      "metadata": {
        "id": "3_9kss5uuJfW"
      },
      "source": [
        "#### 3.6.1) Metricas para conjunto de treinamento"
      ]
    },
    {
      "cell_type": "code",
      "metadata": {
        "id": "MQAxvFCquJfX",
        "colab": {
          "base_uri": "https://localhost:8080/"
        },
        "outputId": "f92a3a4d-6586-4914-8e41-d52e75a089f5"
      },
      "source": [
        "# Métricas conjunto de treinamento\n",
        "valores = train_targets.drop_duplicates().sort_values(by=[train_targets.columns[0]]).values\n",
        "target_names = [np.array2string(elemento[0]) for elemento in valores]\n",
        "entrada = train_inputs\n",
        "prev_trein_SVC = [elemento for elemento in model_SVC.predict(entrada)]\n",
        "print(metrics.classification_report(train_targets, prev_trein_SVC, target_names = target_names, zero_division=0))\n",
        "# Confusion Matrix\n",
        "print('Confusion Matrix:')\n",
        "print('==================')\n",
        "np.set_printoptions(linewidth=np.inf)\n",
        "metrics.confusion_matrix(train_targets, prev_trein_SVC)"
      ],
      "execution_count": null,
      "outputs": [
        {
          "output_type": "stream",
          "name": "stdout",
          "text": [
            "              precision    recall  f1-score   support\n",
            "\n",
            "           0       0.00      0.00      0.00        13\n",
            "           1       0.79      1.00      0.88        49\n",
            "\n",
            "    accuracy                           0.79        62\n",
            "   macro avg       0.40      0.50      0.44        62\n",
            "weighted avg       0.62      0.79      0.70        62\n",
            "\n",
            "Confusion Matrix:\n",
            "==================\n"
          ]
        },
        {
          "output_type": "execute_result",
          "data": {
            "text/plain": [
              "array([[ 0, 13],\n",
              "       [ 0, 49]])"
            ]
          },
          "metadata": {},
          "execution_count": 23
        }
      ]
    },
    {
      "cell_type": "markdown",
      "metadata": {
        "id": "P6jGSkOouJfX"
      },
      "source": [
        "#### 3.6.2) Metricas para conjunto de teste"
      ]
    },
    {
      "cell_type": "code",
      "metadata": {
        "id": "giauyMJCuJfX",
        "colab": {
          "base_uri": "https://localhost:8080/"
        },
        "outputId": "4809a08a-6242-486a-93ba-af69fe3f1c2d"
      },
      "source": [
        "# Métricas conjunto de teste\n",
        "valores = test_targets.drop_duplicates().sort_values(by=[test_targets.columns[0]]).values\n",
        "target_names = [np.array2string(elemento[0]) for elemento in valores]\n",
        "entrada = test_inputs\n",
        "prev_test_SVC = [elemento for elemento in model_SVC.predict(entrada)]\n",
        "print(metrics.classification_report(test_targets, prev_test_SVC, target_names = target_names, zero_division=0))\n",
        "# Confusion Matrix\n",
        "print('Confusion Matrix:')\n",
        "print('==================')\n",
        "np.set_printoptions(linewidth=np.inf)\n",
        "metrics.confusion_matrix(test_targets, prev_test_SVC)"
      ],
      "execution_count": null,
      "outputs": [
        {
          "output_type": "stream",
          "name": "stdout",
          "text": [
            "              precision    recall  f1-score   support\n",
            "\n",
            "           0       0.00      0.00      0.00         5\n",
            "           1       0.74      1.00      0.85        14\n",
            "\n",
            "    accuracy                           0.74        19\n",
            "   macro avg       0.37      0.50      0.42        19\n",
            "weighted avg       0.54      0.74      0.63        19\n",
            "\n",
            "Confusion Matrix:\n",
            "==================\n"
          ]
        },
        {
          "output_type": "execute_result",
          "data": {
            "text/plain": [
              "array([[ 0,  5],\n",
              "       [ 0, 14]])"
            ]
          },
          "metadata": {},
          "execution_count": 24
        }
      ]
    },
    {
      "cell_type": "markdown",
      "metadata": {
        "id": "OLVsqLf3uJfY"
      },
      "source": [
        "### <font color='blue'>3.7) Multi-layer Perceptron Classifier"
      ]
    },
    {
      "cell_type": "code",
      "metadata": {
        "id": "c-JjGovauJfY",
        "colab": {
          "base_uri": "https://localhost:8080/"
        },
        "outputId": "8591cc42-8934-43c3-b88e-2b6ade0bc129"
      },
      "source": [
        "# Construindo o modelo Classificador\n",
        "# https://scikit-learn.org/stable/modules/generated/sklearn.neural_network.MLPClassifier.html?highlight=mlpclassifier#sklearn.neural_network.MLPClassifier\n",
        "model_MPLC = MLPClassifier(\n",
        "    hidden_layer_sizes=(1,), # tuple, length = n_layers - 2, default=(100,) The ith element represents the number of neurons in the ith hidden layer.\n",
        "    activation='logistic', # {‘identity’, ‘logistic’, ‘tanh’, ‘relu’}, default=’relu’ Activation function for the hidden layer.\n",
        "    solver='lbfgs', # {‘lbfgs’, ‘sgd’, ‘adam’}, default=’adam’ The solver for weight optimization.\n",
        "    alpha=0.0001, # float, default=0.0001, L2 penalty (regularization term) parameter.\n",
        "    batch_size='auto', \n",
        "    learning_rate='adaptive', # {‘constant’, ‘invscaling’, ‘adaptive’}, default=’constant’, Learning rate schedule for weight updates.\n",
        "    learning_rate_init = 0.01,\n",
        "    power_t=0.5,\n",
        "    max_iter=int(2E10), # int, default=200, Maximum number of iterations. \n",
        "    shuffle=True,\n",
        "    random_state=None, \n",
        "    tol=1e-10, # Erro desejado\n",
        "    verbose=False, \n",
        "    warm_start=False, \n",
        "    momentum=0.9, \n",
        "    nesterovs_momentum=True, \n",
        "    early_stopping=False, \n",
        "    validation_fraction=0, # Fração separada para conjunto de validação\n",
        "    beta_1=0.9, \n",
        "    beta_2=0.999, \n",
        "    epsilon=1e-08, \n",
        "    n_iter_no_change=10, \n",
        "    max_fun=15000\n",
        ")\n",
        "# Apresentando os dados ao model\n",
        "model_MPLC.fit(train_inputs, np.ravel(train_targets))"
      ],
      "execution_count": null,
      "outputs": [
        {
          "output_type": "execute_result",
          "data": {
            "text/plain": [
              "MLPClassifier(activation='logistic', alpha=0.0001, batch_size='auto',\n",
              "              beta_1=0.9, beta_2=0.999, early_stopping=False, epsilon=1e-08,\n",
              "              hidden_layer_sizes=(1,), learning_rate='adaptive',\n",
              "              learning_rate_init=0.01, max_fun=15000, max_iter=20000000000,\n",
              "              momentum=0.9, n_iter_no_change=10, nesterovs_momentum=True,\n",
              "              power_t=0.5, random_state=None, shuffle=True, solver='lbfgs',\n",
              "              tol=1e-10, validation_fraction=0, verbose=False,\n",
              "              warm_start=False)"
            ]
          },
          "metadata": {},
          "execution_count": 25
        }
      ]
    },
    {
      "cell_type": "markdown",
      "metadata": {
        "id": "rpp2bJSxuJfY"
      },
      "source": [
        "#### 3.7.1) Metricas para conjunto de treinamento"
      ]
    },
    {
      "cell_type": "code",
      "metadata": {
        "id": "iKpvIg7uuJfZ",
        "colab": {
          "base_uri": "https://localhost:8080/"
        },
        "outputId": "a74a9330-62f4-410c-d65e-5440505d06d2"
      },
      "source": [
        "# Métricas conjunto de treinamento\n",
        "valores = train_targets.drop_duplicates().sort_values(by=[train_targets.columns[0]]).values\n",
        "target_names = [np.array2string(elemento[0]) for elemento in valores]\n",
        "entrada = train_inputs\n",
        "prev_trein_MPLC = [np.where(elemento == max(elemento))[0][0] for elemento in model_MPLC.predict_proba(entrada)]\n",
        "print(metrics.classification_report(train_targets, prev_trein_MPLC, target_names = target_names, zero_division=0))\n",
        "# Confusion Matrix\n",
        "print('Confusion Matrix:')\n",
        "print('==================')\n",
        "np.set_printoptions(linewidth=np.inf)\n",
        "metrics.confusion_matrix(train_targets, prev_trein_MPLC)"
      ],
      "execution_count": null,
      "outputs": [
        {
          "output_type": "stream",
          "name": "stdout",
          "text": [
            "              precision    recall  f1-score   support\n",
            "\n",
            "           0       0.00      0.00      0.00        13\n",
            "           1       0.79      1.00      0.88        49\n",
            "\n",
            "    accuracy                           0.79        62\n",
            "   macro avg       0.40      0.50      0.44        62\n",
            "weighted avg       0.62      0.79      0.70        62\n",
            "\n",
            "Confusion Matrix:\n",
            "==================\n"
          ]
        },
        {
          "output_type": "execute_result",
          "data": {
            "text/plain": [
              "array([[ 0, 13],\n",
              "       [ 0, 49]])"
            ]
          },
          "metadata": {},
          "execution_count": 26
        }
      ]
    },
    {
      "cell_type": "markdown",
      "metadata": {
        "tags": [],
        "id": "-7c4jgQnuJfZ"
      },
      "source": [
        "#### 3.7.2) Metricas para conjunto de teste"
      ]
    },
    {
      "cell_type": "code",
      "metadata": {
        "id": "uzIHnw7iuJfZ",
        "colab": {
          "base_uri": "https://localhost:8080/"
        },
        "outputId": "ae63a7f1-aa79-43de-f1fa-187437a93a9b"
      },
      "source": [
        "# Métricas conjunto de teste\n",
        "valores = test_targets.drop_duplicates().sort_values(by=[test_targets.columns[0]]).values\n",
        "target_names = [np.array2string(elemento[0]) for elemento in valores]\n",
        "entrada = test_inputs\n",
        "prev_test_MPLC = [np.where(elemento == max(elemento))[0][0] for elemento in model_MPLC.predict_proba(entrada)]\n",
        "print(metrics.classification_report(test_targets, prev_test_MPLC, target_names = target_names, zero_division=0))\n",
        "# Confusion Matrix\n",
        "print('Confusion Matrix:')\n",
        "print('==================')\n",
        "np.set_printoptions(linewidth=np.inf)\n",
        "metrics.confusion_matrix(test_targets, prev_test_MPLC)"
      ],
      "execution_count": null,
      "outputs": [
        {
          "output_type": "stream",
          "name": "stdout",
          "text": [
            "              precision    recall  f1-score   support\n",
            "\n",
            "           0       0.00      0.00      0.00         5\n",
            "           1       0.74      1.00      0.85        14\n",
            "\n",
            "    accuracy                           0.74        19\n",
            "   macro avg       0.37      0.50      0.42        19\n",
            "weighted avg       0.54      0.74      0.63        19\n",
            "\n",
            "Confusion Matrix:\n",
            "==================\n"
          ]
        },
        {
          "output_type": "execute_result",
          "data": {
            "text/plain": [
              "array([[ 0,  5],\n",
              "       [ 0, 14]])"
            ]
          },
          "metadata": {},
          "execution_count": 27
        }
      ]
    },
    {
      "cell_type": "markdown",
      "metadata": {
        "id": "U0S2n8QDuJfc"
      },
      "source": [
        "# Gravando o modelo"
      ]
    },
    {
      "cell_type": "code",
      "metadata": {
        "id": "LRvmCMICuJfc"
      },
      "source": [
        "import pickle\n",
        "model = model_knn\n",
        "# Gravando o modelo\n",
        "pickle.dump((model, train_inputs, train_targets, test_inputs, test_targets) , open(drive_dados + 'model_reduzido_2_back.sav', 'wb'))"
      ],
      "execution_count": null,
      "outputs": []
    }
  ]
}