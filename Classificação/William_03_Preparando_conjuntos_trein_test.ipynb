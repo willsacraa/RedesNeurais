{
  "nbformat": 4,
  "nbformat_minor": 0,
  "metadata": {
    "kernelspec": {
      "display_name": "Python 3",
      "language": "python",
      "name": "python3"
    },
    "language_info": {
      "codemirror_mode": {
        "name": "ipython",
        "version": 3
      },
      "file_extension": ".py",
      "mimetype": "text/x-python",
      "name": "python",
      "nbconvert_exporter": "python",
      "pygments_lexer": "ipython3",
      "version": "3.8.3"
    },
    "latex_envs": {
      "LaTeX_envs_menu_present": true,
      "autoclose": false,
      "autocomplete": true,
      "bibliofile": "biblio.bib",
      "cite_by": "apalike",
      "current_citInitial": 1,
      "eqLabelWithNumbers": true,
      "eqNumInitial": 1,
      "hotkeys": {
        "equation": "Ctrl-E",
        "itemize": "Ctrl-I"
      },
      "labels_anchors": false,
      "latex_user_defs": false,
      "report_style_numbering": false,
      "user_envs_cfg": false
    },
    "colab": {
      "provenance": [],
      "collapsed_sections": [],
      "include_colab_link": true
    }
  },
  "cells": [
    {
      "cell_type": "markdown",
      "metadata": {
        "id": "view-in-github",
        "colab_type": "text"
      },
      "source": [
        "<a href=\"https://colab.research.google.com/github/willsacraa/RedesNeurais/blob/main/Classifica%C3%A7%C3%A3o/William_03_Preparando_conjuntos_trein_test.ipynb\" target=\"_parent\"><img src=\"https://colab.research.google.com/assets/colab-badge.svg\" alt=\"Open In Colab\"/></a>"
      ]
    },
    {
      "cell_type": "markdown",
      "metadata": {
        "id": "2zUugC9vp1nI"
      },
      "source": [
        "# <font color='blue'>Preparação conjunto de treinamento e teste</font>"
      ]
    },
    {
      "cell_type": "markdown",
      "metadata": {
        "id": "OvLzzE-_Ys-L"
      },
      "source": [
        "## Montando DRIVE"
      ]
    },
    {
      "cell_type": "code",
      "metadata": {
        "colab": {
          "base_uri": "https://localhost:8080/"
        },
        "id": "FVNeZGWmwATC",
        "outputId": "0612c27b-b991-43ab-d55b-d5486b19b610"
      },
      "source": [
        "from google.colab import drive\n",
        "drive.mount('/content/drive')\n",
        "\n",
        "drive_dados = '/content/drive/MyDrive/RedesNeurais/Classificacao/'"
      ],
      "execution_count": null,
      "outputs": [
        {
          "output_type": "stream",
          "name": "stdout",
          "text": [
            "Mounted at /content/drive\n"
          ]
        }
      ]
    },
    {
      "cell_type": "code",
      "metadata": {
        "colab": {
          "base_uri": "https://localhost:8080/"
        },
        "id": "p_VNc4ezYxlN",
        "outputId": "2684dbfa-fbde-45d8-cb8c-0d2504d79eec"
      },
      "source": [
        "from google.colab import drive\n",
        "drive.mount('/content/drive')\n",
        "\n",
        "drive_dados = '/content/drive/MyDrive/UFSB/Componentes_curriculares/RNA/_01_Classificacao/' # Colocar uma barra no final do endereço"
      ],
      "execution_count": null,
      "outputs": [
        {
          "output_type": "stream",
          "name": "stdout",
          "text": [
            "Mounted at /content/drive\n"
          ]
        }
      ]
    },
    {
      "cell_type": "markdown",
      "metadata": {
        "id": "qAN0qjGKp8r4"
      },
      "source": [
        "## 1) Importando bibliotecas\n",
        "\n",
        "Importar as bibliotecas e o arquivo que serão utilizadas durante as análises. "
      ]
    },
    {
      "cell_type": "code",
      "metadata": {
        "colab": {
          "base_uri": "https://localhost:8080/"
        },
        "id": "fktgJ9HSp1nN",
        "outputId": "4c0fdf1b-a019-48ab-a7d6-7d72c239d14c"
      },
      "source": [
        "# Imports bilbliotecas básica\n",
        "# ===========================\n",
        "import numpy as np\n",
        "import pandas as pd\n",
        "pd.set_option('display.max_columns', None)  \n",
        "pd.set_option('display.expand_frame_repr', False)\n",
        "pd.set_option('max_colwidth', None)\n",
        "import matplotlib.pyplot as plt\n",
        "%matplotlib inline \n",
        "import seaborn as sns\n",
        "\n",
        "# Imports bilbliotecas com funções importantes\n",
        "# ============================================\n",
        "from sklearn.preprocessing import MinMaxScaler # Normalização [0, 1]\n",
        "from sklearn.preprocessing import StandardScaler # Normalização\n",
        "!pip install pyclustertend\n",
        "from pyclustertend import hopkins # pyclustertend is a python package to do cluster tendency. Cluster tendency consist to assess if clustering algorithms are relevant for a dataset."
      ],
      "execution_count": null,
      "outputs": [
        {
          "output_type": "stream",
          "name": "stdout",
          "text": [
            "Collecting pyclustertend\n",
            "  Downloading pyclustertend-1.4.9-py3-none-any.whl (9.8 kB)\n",
            "Installing collected packages: pyclustertend\n",
            "Successfully installed pyclustertend-1.4.9\n"
          ]
        }
      ]
    },
    {
      "cell_type": "markdown",
      "metadata": {
        "id": "DteqTtPap1nR"
      },
      "source": [
        "## 2) Extrai os dados do csv ou txt\n",
        "\n",
        "Um dos grandes problemas que encontramos é mal uso de separador e de encoding, então é importante se atentar a esses argumentos.\n",
        "\n",
        "É muito importante ressaltar que colocar os argumentos de separador e de encoding quando está lendo um arquivo evita problemas como os dados que não tenham sido separados corretamente.\n",
        "\n",
        "Fonte dos dados: Dados pre-processados."
      ]
    },
    {
      "cell_type": "code",
      "metadata": {
        "colab": {
          "base_uri": "https://localhost:8080/",
          "height": 436
        },
        "id": "9bdEonq4p1nS",
        "outputId": "b03dbd17-37fa-4d12-fd64-9de1284523f9"
      },
      "source": [
        "# Carregando o dataset\n",
        "dataset = pd.read_csv(drive_dados + \"Dados_analise_exploratoria.csv\", encoding = 'latin-1', sep = ',')\n",
        "dataset.drop(columns = [\"Unnamed: 0\"], inplace=True)\n",
        "print(dataset.shape)\n",
        "# Verificando as primeiras linhas do dataset\n",
        "dataset"
      ],
      "execution_count": null,
      "outputs": [
        {
          "output_type": "stream",
          "name": "stdout",
          "text": [
            "(81, 8)\n"
          ]
        },
        {
          "output_type": "execute_result",
          "data": {
            "text/html": [
              "<div>\n",
              "<style scoped>\n",
              "    .dataframe tbody tr th:only-of-type {\n",
              "        vertical-align: middle;\n",
              "    }\n",
              "\n",
              "    .dataframe tbody tr th {\n",
              "        vertical-align: top;\n",
              "    }\n",
              "\n",
              "    .dataframe thead th {\n",
              "        text-align: right;\n",
              "    }\n",
              "</style>\n",
              "<table border=\"1\" class=\"dataframe\">\n",
              "  <thead>\n",
              "    <tr style=\"text-align: right;\">\n",
              "      <th></th>\n",
              "      <th>sex</th>\n",
              "      <th>age</th>\n",
              "      <th>Number_of_Warts</th>\n",
              "      <th>Type</th>\n",
              "      <th>Area</th>\n",
              "      <th>induration_diameter</th>\n",
              "      <th>Result_of_Treatment</th>\n",
              "      <th>label</th>\n",
              "    </tr>\n",
              "  </thead>\n",
              "  <tbody>\n",
              "    <tr>\n",
              "      <th>0</th>\n",
              "      <td>1</td>\n",
              "      <td>23</td>\n",
              "      <td>6</td>\n",
              "      <td>0</td>\n",
              "      <td>19</td>\n",
              "      <td>2</td>\n",
              "      <td>1</td>\n",
              "      <td>1</td>\n",
              "    </tr>\n",
              "    <tr>\n",
              "      <th>1</th>\n",
              "      <td>1</td>\n",
              "      <td>48</td>\n",
              "      <td>7</td>\n",
              "      <td>0</td>\n",
              "      <td>50</td>\n",
              "      <td>25</td>\n",
              "      <td>1</td>\n",
              "      <td>1</td>\n",
              "    </tr>\n",
              "    <tr>\n",
              "      <th>2</th>\n",
              "      <td>1</td>\n",
              "      <td>17</td>\n",
              "      <td>12</td>\n",
              "      <td>2</td>\n",
              "      <td>25</td>\n",
              "      <td>7</td>\n",
              "      <td>1</td>\n",
              "      <td>1</td>\n",
              "    </tr>\n",
              "    <tr>\n",
              "      <th>3</th>\n",
              "      <td>0</td>\n",
              "      <td>54</td>\n",
              "      <td>13</td>\n",
              "      <td>2</td>\n",
              "      <td>43</td>\n",
              "      <td>5</td>\n",
              "      <td>1</td>\n",
              "      <td>1</td>\n",
              "    </tr>\n",
              "    <tr>\n",
              "      <th>4</th>\n",
              "      <td>1</td>\n",
              "      <td>22</td>\n",
              "      <td>5</td>\n",
              "      <td>0</td>\n",
              "      <td>99</td>\n",
              "      <td>8</td>\n",
              "      <td>1</td>\n",
              "      <td>1</td>\n",
              "    </tr>\n",
              "    <tr>\n",
              "      <th>...</th>\n",
              "      <td>...</td>\n",
              "      <td>...</td>\n",
              "      <td>...</td>\n",
              "      <td>...</td>\n",
              "      <td>...</td>\n",
              "      <td>...</td>\n",
              "      <td>...</td>\n",
              "      <td>...</td>\n",
              "    </tr>\n",
              "    <tr>\n",
              "      <th>76</th>\n",
              "      <td>1</td>\n",
              "      <td>51</td>\n",
              "      <td>1</td>\n",
              "      <td>0</td>\n",
              "      <td>65</td>\n",
              "      <td>7</td>\n",
              "      <td>1</td>\n",
              "      <td>1</td>\n",
              "    </tr>\n",
              "    <tr>\n",
              "      <th>77</th>\n",
              "      <td>0</td>\n",
              "      <td>40</td>\n",
              "      <td>8</td>\n",
              "      <td>2</td>\n",
              "      <td>69</td>\n",
              "      <td>5</td>\n",
              "      <td>1</td>\n",
              "      <td>1</td>\n",
              "    </tr>\n",
              "    <tr>\n",
              "      <th>78</th>\n",
              "      <td>1</td>\n",
              "      <td>16</td>\n",
              "      <td>11</td>\n",
              "      <td>0</td>\n",
              "      <td>47</td>\n",
              "      <td>7</td>\n",
              "      <td>1</td>\n",
              "      <td>1</td>\n",
              "    </tr>\n",
              "    <tr>\n",
              "      <th>79</th>\n",
              "      <td>0</td>\n",
              "      <td>20</td>\n",
              "      <td>6</td>\n",
              "      <td>0</td>\n",
              "      <td>45</td>\n",
              "      <td>8</td>\n",
              "      <td>1</td>\n",
              "      <td>1</td>\n",
              "    </tr>\n",
              "    <tr>\n",
              "      <th>80</th>\n",
              "      <td>0</td>\n",
              "      <td>17</td>\n",
              "      <td>2</td>\n",
              "      <td>0</td>\n",
              "      <td>44</td>\n",
              "      <td>8</td>\n",
              "      <td>1</td>\n",
              "      <td>1</td>\n",
              "    </tr>\n",
              "  </tbody>\n",
              "</table>\n",
              "<p>81 rows × 8 columns</p>\n",
              "</div>"
            ],
            "text/plain": [
              "    sex  age  Number_of_Warts  Type  Area  induration_diameter  Result_of_Treatment  label\n",
              "0     1   23                6     0    19                    2                    1      1\n",
              "1     1   48                7     0    50                   25                    1      1\n",
              "2     1   17               12     2    25                    7                    1      1\n",
              "3     0   54               13     2    43                    5                    1      1\n",
              "4     1   22                5     0    99                    8                    1      1\n",
              "..  ...  ...              ...   ...   ...                  ...                  ...    ...\n",
              "76    1   51                1     0    65                    7                    1      1\n",
              "77    0   40                8     2    69                    5                    1      1\n",
              "78    1   16               11     0    47                    7                    1      1\n",
              "79    0   20                6     0    45                    8                    1      1\n",
              "80    0   17                2     0    44                    8                    1      1\n",
              "\n",
              "[81 rows x 8 columns]"
            ]
          },
          "metadata": {},
          "execution_count": 5
        }
      ]
    },
    {
      "cell_type": "markdown",
      "metadata": {
        "id": "Lo0udo_Ep1nV"
      },
      "source": [
        "Note que não utilizamos o encoding utf-8, pois com o seu uso podemos ter apenas de 0-127 valores, portanto utilzamos o latin-1, que também é conhecido como ISO-8859–1, e que cobre de 0–255 valores."
      ]
    },
    {
      "cell_type": "markdown",
      "metadata": {
        "id": "4UaHGpbDp1nW"
      },
      "source": [
        "## 3) Definindo atributos (variáveis de entrada) e targets (variável de saida)"
      ]
    },
    {
      "cell_type": "code",
      "metadata": {
        "colab": {
          "base_uri": "https://localhost:8080/"
        },
        "id": "qMWawKUvp1nY",
        "outputId": "2381a7a0-2cce-4f9d-d545-cd6ebee6b954"
      },
      "source": [
        "# Gerando número de observações e variáveis\n",
        "observations = len(dataset)\n",
        "variables = dataset.columns\n",
        "total_variaveis = len(variables)\n",
        "var_output = 2 # COLOCAR AQUI O NUMERO DE VARIÁVEIS DE SAÍDA (Últimas colunas)\n",
        "variables_out = dataset.columns[:-var_output]\n",
        "print('O banco de dados contem %d variáveis.' % total_variaveis)\n",
        "print(f'Estão registradas {observations} observações.\\n')\n",
        "print(f'Identificadas {total_variaveis-var_output} variáveis preditoras que são:\\n{variables[0:total_variaveis-var_output]}\\n')\n",
        "print(f'Identificada(s) {var_output} variáve(l/is) explanatória(s) que é(são):\\n{variables[total_variaveis-var_output:]}')"
      ],
      "execution_count": null,
      "outputs": [
        {
          "output_type": "stream",
          "name": "stdout",
          "text": [
            "O banco de dados contem 8 variáveis.\n",
            "Estão registradas 81 observações.\n",
            "\n",
            "Identificadas 6 variáveis preditoras que são:\n",
            "Index(['sex', 'age', 'Number_of_Warts', 'Type', 'Area', 'induration_diameter'], dtype='object')\n",
            "\n",
            "Identificada(s) 2 variáve(l/is) explanatória(s) que é(são):\n",
            "Index(['Result_of_Treatment', 'label'], dtype='object')\n"
          ]
        }
      ]
    },
    {
      "cell_type": "code",
      "metadata": {
        "id": "vqpXHxbMp1na",
        "colab": {
          "base_uri": "https://localhost:8080/",
          "height": 419
        },
        "outputId": "c0acf209-4f31-4c01-a50f-caf21c248f39"
      },
      "source": [
        "# Coletando entradas e saídas\n",
        "var_entrada=['sex', 'age', 'Number_of_Warts', 'Type', 'Area', 'induration_diameter'] # Variáveis consideradas na entrada\n",
        "var_saida=['label'] # Variáveis consideradas na saida \n",
        "dataset = dataset[var_entrada + var_saida]\n",
        "dataset"
      ],
      "execution_count": null,
      "outputs": [
        {
          "output_type": "execute_result",
          "data": {
            "text/html": [
              "<div>\n",
              "<style scoped>\n",
              "    .dataframe tbody tr th:only-of-type {\n",
              "        vertical-align: middle;\n",
              "    }\n",
              "\n",
              "    .dataframe tbody tr th {\n",
              "        vertical-align: top;\n",
              "    }\n",
              "\n",
              "    .dataframe thead th {\n",
              "        text-align: right;\n",
              "    }\n",
              "</style>\n",
              "<table border=\"1\" class=\"dataframe\">\n",
              "  <thead>\n",
              "    <tr style=\"text-align: right;\">\n",
              "      <th></th>\n",
              "      <th>sex</th>\n",
              "      <th>age</th>\n",
              "      <th>Number_of_Warts</th>\n",
              "      <th>Type</th>\n",
              "      <th>Area</th>\n",
              "      <th>induration_diameter</th>\n",
              "      <th>label</th>\n",
              "    </tr>\n",
              "  </thead>\n",
              "  <tbody>\n",
              "    <tr>\n",
              "      <th>0</th>\n",
              "      <td>1</td>\n",
              "      <td>23</td>\n",
              "      <td>6</td>\n",
              "      <td>0</td>\n",
              "      <td>19</td>\n",
              "      <td>2</td>\n",
              "      <td>1</td>\n",
              "    </tr>\n",
              "    <tr>\n",
              "      <th>1</th>\n",
              "      <td>1</td>\n",
              "      <td>48</td>\n",
              "      <td>7</td>\n",
              "      <td>0</td>\n",
              "      <td>50</td>\n",
              "      <td>25</td>\n",
              "      <td>1</td>\n",
              "    </tr>\n",
              "    <tr>\n",
              "      <th>2</th>\n",
              "      <td>1</td>\n",
              "      <td>17</td>\n",
              "      <td>12</td>\n",
              "      <td>2</td>\n",
              "      <td>25</td>\n",
              "      <td>7</td>\n",
              "      <td>1</td>\n",
              "    </tr>\n",
              "    <tr>\n",
              "      <th>3</th>\n",
              "      <td>0</td>\n",
              "      <td>54</td>\n",
              "      <td>13</td>\n",
              "      <td>2</td>\n",
              "      <td>43</td>\n",
              "      <td>5</td>\n",
              "      <td>1</td>\n",
              "    </tr>\n",
              "    <tr>\n",
              "      <th>4</th>\n",
              "      <td>1</td>\n",
              "      <td>22</td>\n",
              "      <td>5</td>\n",
              "      <td>0</td>\n",
              "      <td>99</td>\n",
              "      <td>8</td>\n",
              "      <td>1</td>\n",
              "    </tr>\n",
              "    <tr>\n",
              "      <th>...</th>\n",
              "      <td>...</td>\n",
              "      <td>...</td>\n",
              "      <td>...</td>\n",
              "      <td>...</td>\n",
              "      <td>...</td>\n",
              "      <td>...</td>\n",
              "      <td>...</td>\n",
              "    </tr>\n",
              "    <tr>\n",
              "      <th>76</th>\n",
              "      <td>1</td>\n",
              "      <td>51</td>\n",
              "      <td>1</td>\n",
              "      <td>0</td>\n",
              "      <td>65</td>\n",
              "      <td>7</td>\n",
              "      <td>1</td>\n",
              "    </tr>\n",
              "    <tr>\n",
              "      <th>77</th>\n",
              "      <td>0</td>\n",
              "      <td>40</td>\n",
              "      <td>8</td>\n",
              "      <td>2</td>\n",
              "      <td>69</td>\n",
              "      <td>5</td>\n",
              "      <td>1</td>\n",
              "    </tr>\n",
              "    <tr>\n",
              "      <th>78</th>\n",
              "      <td>1</td>\n",
              "      <td>16</td>\n",
              "      <td>11</td>\n",
              "      <td>0</td>\n",
              "      <td>47</td>\n",
              "      <td>7</td>\n",
              "      <td>1</td>\n",
              "    </tr>\n",
              "    <tr>\n",
              "      <th>79</th>\n",
              "      <td>0</td>\n",
              "      <td>20</td>\n",
              "      <td>6</td>\n",
              "      <td>0</td>\n",
              "      <td>45</td>\n",
              "      <td>8</td>\n",
              "      <td>1</td>\n",
              "    </tr>\n",
              "    <tr>\n",
              "      <th>80</th>\n",
              "      <td>0</td>\n",
              "      <td>17</td>\n",
              "      <td>2</td>\n",
              "      <td>0</td>\n",
              "      <td>44</td>\n",
              "      <td>8</td>\n",
              "      <td>1</td>\n",
              "    </tr>\n",
              "  </tbody>\n",
              "</table>\n",
              "<p>81 rows × 7 columns</p>\n",
              "</div>"
            ],
            "text/plain": [
              "    sex  age  Number_of_Warts  Type  Area  induration_diameter  label\n",
              "0     1   23                6     0    19                    2      1\n",
              "1     1   48                7     0    50                   25      1\n",
              "2     1   17               12     2    25                    7      1\n",
              "3     0   54               13     2    43                    5      1\n",
              "4     1   22                5     0    99                    8      1\n",
              "..  ...  ...              ...   ...   ...                  ...    ...\n",
              "76    1   51                1     0    65                    7      1\n",
              "77    0   40                8     2    69                    5      1\n",
              "78    1   16               11     0    47                    7      1\n",
              "79    0   20                6     0    45                    8      1\n",
              "80    0   17                2     0    44                    8      1\n",
              "\n",
              "[81 rows x 7 columns]"
            ]
          },
          "metadata": {},
          "execution_count": 8
        }
      ]
    },
    {
      "cell_type": "markdown",
      "metadata": {
        "id": "XLegC-dLp1nd"
      },
      "source": [
        "## 4) Aplicando Normalização da entrada\n",
        "\n",
        "### <font color='blue'> Entrada <font color='black'>(Escolha uma das opções)"
      ]
    },
    {
      "cell_type": "code",
      "metadata": {
        "id": "WtL2bvBtp1ni",
        "colab": {
          "base_uri": "https://localhost:8080/"
        },
        "outputId": "b183a3e3-6efc-427a-b839-0703121071b2"
      },
      "source": [
        "# Normalizando pela media [-1 a 1]\n",
        "dataset[var_entrada] = (dataset[var_entrada] - dataset[var_entrada].mean()) / (dataset[var_entrada].max() - dataset[var_entrada].min())"
      ],
      "execution_count": null,
      "outputs": [
        {
          "output_type": "stream",
          "name": "stderr",
          "text": [
            "/usr/local/lib/python3.7/dist-packages/pandas/core/frame.py:3069: SettingWithCopyWarning: \n",
            "A value is trying to be set on a copy of a slice from a DataFrame.\n",
            "Try using .loc[row_indexer,col_indexer] = value instead\n",
            "\n",
            "See the caveats in the documentation: https://pandas.pydata.org/pandas-docs/stable/user_guide/indexing.html#returning-a-view-versus-a-copy\n",
            "  self[k1] = value[k2]\n"
          ]
        }
      ]
    },
    {
      "cell_type": "markdown",
      "metadata": {
        "tags": [],
        "id": "N6HoZws6p1nj"
      },
      "source": [
        "## 5) Aleatorização do conjunto de dados"
      ]
    },
    {
      "cell_type": "code",
      "metadata": {
        "colab": {
          "base_uri": "https://localhost:8080/",
          "height": 436
        },
        "id": "76B3lDNPp1nj",
        "outputId": "55454c95-29c9-41a7-fa12-3ed5a00b2491"
      },
      "source": [
        "ordem = dataset.sample(dataset.shape[0]).index\n",
        "dataset = dataset.iloc[ordem]\n",
        "print(dataset.shape)\n",
        "dataset"
      ],
      "execution_count": null,
      "outputs": [
        {
          "output_type": "stream",
          "name": "stdout",
          "text": [
            "(81, 7)\n"
          ]
        },
        {
          "output_type": "execute_result",
          "data": {
            "text/html": [
              "<div>\n",
              "<style scoped>\n",
              "    .dataframe tbody tr th:only-of-type {\n",
              "        vertical-align: middle;\n",
              "    }\n",
              "\n",
              "    .dataframe tbody tr th {\n",
              "        vertical-align: top;\n",
              "    }\n",
              "\n",
              "    .dataframe thead th {\n",
              "        text-align: right;\n",
              "    }\n",
              "</style>\n",
              "<table border=\"1\" class=\"dataframe\">\n",
              "  <thead>\n",
              "    <tr style=\"text-align: right;\">\n",
              "      <th></th>\n",
              "      <th>sex</th>\n",
              "      <th>age</th>\n",
              "      <th>Number_of_Warts</th>\n",
              "      <th>Type</th>\n",
              "      <th>Area</th>\n",
              "      <th>induration_diameter</th>\n",
              "      <th>label</th>\n",
              "    </tr>\n",
              "  </thead>\n",
              "  <tbody>\n",
              "    <tr>\n",
              "      <th>28</th>\n",
              "      <td>-0.555556</td>\n",
              "      <td>-0.053297</td>\n",
              "      <td>0.312071</td>\n",
              "      <td>0.635802</td>\n",
              "      <td>0.009870</td>\n",
              "      <td>-0.110748</td>\n",
              "      <td>1</td>\n",
              "    </tr>\n",
              "    <tr>\n",
              "      <th>15</th>\n",
              "      <td>0.444444</td>\n",
              "      <td>0.263776</td>\n",
              "      <td>0.089849</td>\n",
              "      <td>0.135802</td>\n",
              "      <td>0.004220</td>\n",
              "      <td>-0.081336</td>\n",
              "      <td>0</td>\n",
              "    </tr>\n",
              "    <tr>\n",
              "      <th>64</th>\n",
              "      <td>-0.555556</td>\n",
              "      <td>-0.224029</td>\n",
              "      <td>-0.187929</td>\n",
              "      <td>0.635802</td>\n",
              "      <td>-0.069226</td>\n",
              "      <td>-0.169572</td>\n",
              "      <td>1</td>\n",
              "    </tr>\n",
              "    <tr>\n",
              "      <th>33</th>\n",
              "      <td>0.444444</td>\n",
              "      <td>-0.394761</td>\n",
              "      <td>-0.299040</td>\n",
              "      <td>-0.364198</td>\n",
              "      <td>-0.046628</td>\n",
              "      <td>-0.110748</td>\n",
              "      <td>1</td>\n",
              "    </tr>\n",
              "    <tr>\n",
              "      <th>44</th>\n",
              "      <td>-0.555556</td>\n",
              "      <td>0.166215</td>\n",
              "      <td>0.423182</td>\n",
              "      <td>-0.364198</td>\n",
              "      <td>0.043768</td>\n",
              "      <td>-0.125454</td>\n",
              "      <td>0</td>\n",
              "    </tr>\n",
              "    <tr>\n",
              "      <th>...</th>\n",
              "      <td>...</td>\n",
              "      <td>...</td>\n",
              "      <td>...</td>\n",
              "      <td>...</td>\n",
              "      <td>...</td>\n",
              "      <td>...</td>\n",
              "      <td>...</td>\n",
              "    </tr>\n",
              "    <tr>\n",
              "      <th>43</th>\n",
              "      <td>0.444444</td>\n",
              "      <td>0.532069</td>\n",
              "      <td>-0.299040</td>\n",
              "      <td>0.135802</td>\n",
              "      <td>-0.117249</td>\n",
              "      <td>0.153958</td>\n",
              "      <td>1</td>\n",
              "    </tr>\n",
              "    <tr>\n",
              "      <th>14</th>\n",
              "      <td>0.444444</td>\n",
              "      <td>0.483288</td>\n",
              "      <td>-0.021262</td>\n",
              "      <td>-0.364198</td>\n",
              "      <td>0.023994</td>\n",
              "      <td>-0.184277</td>\n",
              "      <td>1</td>\n",
              "    </tr>\n",
              "    <tr>\n",
              "      <th>31</th>\n",
              "      <td>-0.555556</td>\n",
              "      <td>0.019874</td>\n",
              "      <td>0.145405</td>\n",
              "      <td>-0.364198</td>\n",
              "      <td>-0.080526</td>\n",
              "      <td>0.521605</td>\n",
              "      <td>0</td>\n",
              "    </tr>\n",
              "    <tr>\n",
              "      <th>1</th>\n",
              "      <td>0.444444</td>\n",
              "      <td>0.410117</td>\n",
              "      <td>0.034294</td>\n",
              "      <td>-0.364198</td>\n",
              "      <td>-0.060752</td>\n",
              "      <td>0.153958</td>\n",
              "      <td>1</td>\n",
              "    </tr>\n",
              "    <tr>\n",
              "      <th>23</th>\n",
              "      <td>0.444444</td>\n",
              "      <td>0.239386</td>\n",
              "      <td>0.256516</td>\n",
              "      <td>0.135802</td>\n",
              "      <td>-0.142673</td>\n",
              "      <td>-0.125454</td>\n",
              "      <td>0</td>\n",
              "    </tr>\n",
              "  </tbody>\n",
              "</table>\n",
              "<p>81 rows × 7 columns</p>\n",
              "</div>"
            ],
            "text/plain": [
              "         sex       age  Number_of_Warts      Type      Area  induration_diameter  label\n",
              "28 -0.555556 -0.053297         0.312071  0.635802  0.009870            -0.110748      1\n",
              "15  0.444444  0.263776         0.089849  0.135802  0.004220            -0.081336      0\n",
              "64 -0.555556 -0.224029        -0.187929  0.635802 -0.069226            -0.169572      1\n",
              "33  0.444444 -0.394761        -0.299040 -0.364198 -0.046628            -0.110748      1\n",
              "44 -0.555556  0.166215         0.423182 -0.364198  0.043768            -0.125454      0\n",
              "..       ...       ...              ...       ...       ...                  ...    ...\n",
              "43  0.444444  0.532069        -0.299040  0.135802 -0.117249             0.153958      1\n",
              "14  0.444444  0.483288        -0.021262 -0.364198  0.023994            -0.184277      1\n",
              "31 -0.555556  0.019874         0.145405 -0.364198 -0.080526             0.521605      0\n",
              "1   0.444444  0.410117         0.034294 -0.364198 -0.060752             0.153958      1\n",
              "23  0.444444  0.239386         0.256516  0.135802 -0.142673            -0.125454      0\n",
              "\n",
              "[81 rows x 7 columns]"
            ]
          },
          "metadata": {},
          "execution_count": 12
        }
      ]
    },
    {
      "cell_type": "markdown",
      "metadata": {
        "id": "YAhcyMyXp1nk"
      },
      "source": [
        "## 6) Divisão do conjunto de dados em treinamento e teste\n",
        "\n",
        "Extrai subconjunto garantindo a presença de todas classes no conjunto de tese"
      ]
    },
    {
      "cell_type": "code",
      "metadata": {
        "colab": {
          "base_uri": "https://localhost:8080/"
        },
        "id": "DiYnXwBUp1nk",
        "outputId": "1f98de2f-6d3b-4469-a6e5-2600eaefe6a1"
      },
      "source": [
        "# Determinação do percentual do conjunto de treinamento\n",
        "frac = 0.80 # Fração reservada para a extração do conjunto treinamento\n",
        "index_sample = []\n",
        "for label_test in np.unique(dataset[var_saida]):\n",
        "    posicoes = np.where(dataset[var_saida] == label_test)[0]\n",
        "    contador = 0\n",
        "    for pos in posicoes:\n",
        "        contador += 1\n",
        "        if contador <  np.round(frac * posicoes.size) or contador == 1: # Coloca no mínimo um padrâo no conjunto.\n",
        "            index_sample.append(dataset[pos:pos+1].index[0])\n",
        "\n",
        "dataset_treinamento = dataset.iloc[index_sample]\n",
        "dataset_teste = dataset.drop(dataset_treinamento.index)\n",
        "dataset = dataset_treinamento\n",
        "print(f'O conjunto de teste tem {dataset_teste.shape}. \\nO conjunto de treinamento tem {dataset_treinamento.shape}')"
      ],
      "execution_count": null,
      "outputs": [
        {
          "output_type": "stream",
          "name": "stdout",
          "text": [
            "O conjunto de teste tem (19, 7). \n",
            "O conjunto de treinamento tem (62, 7)\n"
          ]
        }
      ]
    },
    {
      "cell_type": "markdown",
      "metadata": {
        "tags": [],
        "id": "LXHn4Xsip1nx"
      },
      "source": [
        "## 7) Avaliando a Tendência de Cluster\n",
        "\n",
        "<p>Estatística Hopkins para o conjunto de dados</p>\n",
        "<p>Valores > .5 significam que o dataset não é \"clusterizável\"</p>\n",
        "<p>Valores < .5 significam que o dataset é \"clusterizável\"</p>\n",
        "<p>Quanto mais próximo de zero, melhor.</p>"
      ]
    },
    {
      "cell_type": "code",
      "metadata": {
        "colab": {
          "base_uri": "https://localhost:8080/"
        },
        "id": "_KC586cTp1ny",
        "outputId": "08e3d1ef-3981-4e8f-b9ab-25cb15fe8b4b"
      },
      "source": [
        "hopkins(dataset[var_entrada],dataset.shape[0])"
      ],
      "execution_count": null,
      "outputs": [
        {
          "output_type": "execute_result",
          "data": {
            "text/plain": [
              "0.32366189922326494"
            ]
          },
          "metadata": {},
          "execution_count": 14
        }
      ]
    },
    {
      "cell_type": "markdown",
      "metadata": {
        "id": "O1_n5xBap1nz"
      },
      "source": [
        "## 8) Gravando dados"
      ]
    },
    {
      "cell_type": "code",
      "metadata": {
        "id": "VEWNHVp8p1nz"
      },
      "source": [
        "train_inputs = dataset[var_entrada]\n",
        "train_targets = dataset[var_saida]\n",
        "test_inputs = dataset_teste[var_entrada]\n",
        "test_targets = dataset_teste[var_saida]"
      ],
      "execution_count": null,
      "outputs": []
    },
    {
      "cell_type": "code",
      "metadata": {
        "id": "FGxkZas0p1nz"
      },
      "source": [
        "import pickle\n",
        "# Gravando os dados para o modelo\n",
        "pickle.dump((train_inputs, train_targets), open(drive_dados + 'dados_treinamento.sav', 'wb'))\n",
        "pickle.dump((test_inputs, test_targets), open(drive_dados + 'dados_teste.sav', 'wb'))"
      ],
      "execution_count": null,
      "outputs": []
    },
    {
      "cell_type": "code",
      "metadata": {
        "colab": {
          "base_uri": "https://localhost:8080/",
          "height": 419
        },
        "id": "nkNknywSp1n0",
        "outputId": "44d15257-28a2-41eb-e14b-857ab9c06ce8"
      },
      "source": [
        "train_inputs"
      ],
      "execution_count": null,
      "outputs": [
        {
          "output_type": "execute_result",
          "data": {
            "text/html": [
              "<div>\n",
              "<style scoped>\n",
              "    .dataframe tbody tr th:only-of-type {\n",
              "        vertical-align: middle;\n",
              "    }\n",
              "\n",
              "    .dataframe tbody tr th {\n",
              "        vertical-align: top;\n",
              "    }\n",
              "\n",
              "    .dataframe thead th {\n",
              "        text-align: right;\n",
              "    }\n",
              "</style>\n",
              "<table border=\"1\" class=\"dataframe\">\n",
              "  <thead>\n",
              "    <tr style=\"text-align: right;\">\n",
              "      <th></th>\n",
              "      <th>sex</th>\n",
              "      <th>age</th>\n",
              "      <th>Number_of_Warts</th>\n",
              "      <th>Type</th>\n",
              "      <th>Area</th>\n",
              "      <th>induration_diameter</th>\n",
              "    </tr>\n",
              "  </thead>\n",
              "  <tbody>\n",
              "    <tr>\n",
              "      <th>48</th>\n",
              "      <td>-0.555556</td>\n",
              "      <td>0.483288</td>\n",
              "      <td>-0.243484</td>\n",
              "      <td>0.135802</td>\n",
              "      <td>-0.040978</td>\n",
              "      <td>-0.169572</td>\n",
              "    </tr>\n",
              "    <tr>\n",
              "      <th>19</th>\n",
              "      <td>0.444444</td>\n",
              "      <td>0.434508</td>\n",
              "      <td>-0.132373</td>\n",
              "      <td>0.135802</td>\n",
              "      <td>-0.162447</td>\n",
              "      <td>-0.081336</td>\n",
              "    </tr>\n",
              "    <tr>\n",
              "      <th>70</th>\n",
              "      <td>0.444444</td>\n",
              "      <td>-0.394761</td>\n",
              "      <td>0.312071</td>\n",
              "      <td>-0.364198</td>\n",
              "      <td>-0.066402</td>\n",
              "      <td>-0.110748</td>\n",
              "    </tr>\n",
              "    <tr>\n",
              "      <th>42</th>\n",
              "      <td>-0.555556</td>\n",
              "      <td>-0.199639</td>\n",
              "      <td>-0.243484</td>\n",
              "      <td>-0.364198</td>\n",
              "      <td>-0.080526</td>\n",
              "      <td>-0.110748</td>\n",
              "    </tr>\n",
              "    <tr>\n",
              "      <th>54</th>\n",
              "      <td>0.444444</td>\n",
              "      <td>-0.297200</td>\n",
              "      <td>-0.076818</td>\n",
              "      <td>0.135802</td>\n",
              "      <td>-0.057927</td>\n",
              "      <td>-0.125454</td>\n",
              "    </tr>\n",
              "    <tr>\n",
              "      <th>...</th>\n",
              "      <td>...</td>\n",
              "      <td>...</td>\n",
              "      <td>...</td>\n",
              "      <td>...</td>\n",
              "      <td>...</td>\n",
              "      <td>...</td>\n",
              "    </tr>\n",
              "    <tr>\n",
              "      <th>49</th>\n",
              "      <td>0.444444</td>\n",
              "      <td>0.385727</td>\n",
              "      <td>0.423182</td>\n",
              "      <td>0.135802</td>\n",
              "      <td>-0.012729</td>\n",
              "      <td>0.521605</td>\n",
              "    </tr>\n",
              "    <tr>\n",
              "      <th>52</th>\n",
              "      <td>-0.555556</td>\n",
              "      <td>-0.297200</td>\n",
              "      <td>-0.021262</td>\n",
              "      <td>-0.364198</td>\n",
              "      <td>-0.111599</td>\n",
              "      <td>-0.110748</td>\n",
              "    </tr>\n",
              "    <tr>\n",
              "      <th>62</th>\n",
              "      <td>0.444444</td>\n",
              "      <td>0.044264</td>\n",
              "      <td>-0.076818</td>\n",
              "      <td>-0.364198</td>\n",
              "      <td>-0.024029</td>\n",
              "      <td>0.153958</td>\n",
              "    </tr>\n",
              "    <tr>\n",
              "      <th>45</th>\n",
              "      <td>0.444444</td>\n",
              "      <td>0.532069</td>\n",
              "      <td>-0.021262</td>\n",
              "      <td>-0.364198</td>\n",
              "      <td>0.026819</td>\n",
              "      <td>-0.110748</td>\n",
              "    </tr>\n",
              "    <tr>\n",
              "      <th>16</th>\n",
              "      <td>0.444444</td>\n",
              "      <td>-0.297200</td>\n",
              "      <td>0.089849</td>\n",
              "      <td>0.135802</td>\n",
              "      <td>-0.083351</td>\n",
              "      <td>0.815723</td>\n",
              "    </tr>\n",
              "  </tbody>\n",
              "</table>\n",
              "<p>62 rows × 6 columns</p>\n",
              "</div>"
            ],
            "text/plain": [
              "         sex       age  Number_of_Warts      Type      Area  induration_diameter\n",
              "48 -0.555556  0.483288        -0.243484  0.135802 -0.040978            -0.169572\n",
              "19  0.444444  0.434508        -0.132373  0.135802 -0.162447            -0.081336\n",
              "70  0.444444 -0.394761         0.312071 -0.364198 -0.066402            -0.110748\n",
              "42 -0.555556 -0.199639        -0.243484 -0.364198 -0.080526            -0.110748\n",
              "54  0.444444 -0.297200        -0.076818  0.135802 -0.057927            -0.125454\n",
              "..       ...       ...              ...       ...       ...                  ...\n",
              "49  0.444444  0.385727         0.423182  0.135802 -0.012729             0.521605\n",
              "52 -0.555556 -0.297200        -0.021262 -0.364198 -0.111599            -0.110748\n",
              "62  0.444444  0.044264        -0.076818 -0.364198 -0.024029             0.153958\n",
              "45  0.444444  0.532069        -0.021262 -0.364198  0.026819            -0.110748\n",
              "16  0.444444 -0.297200         0.089849  0.135802 -0.083351             0.815723\n",
              "\n",
              "[62 rows x 6 columns]"
            ]
          },
          "metadata": {},
          "execution_count": 17
        }
      ]
    },
    {
      "cell_type": "code",
      "metadata": {
        "id": "-75SlZJ9p1n0",
        "colab": {
          "base_uri": "https://localhost:8080/",
          "height": 419
        },
        "outputId": "dcbf3743-3bd0-4548-e782-f5a9ea34d86a"
      },
      "source": [
        "train_targets"
      ],
      "execution_count": null,
      "outputs": [
        {
          "output_type": "execute_result",
          "data": {
            "text/html": [
              "<div>\n",
              "<style scoped>\n",
              "    .dataframe tbody tr th:only-of-type {\n",
              "        vertical-align: middle;\n",
              "    }\n",
              "\n",
              "    .dataframe tbody tr th {\n",
              "        vertical-align: top;\n",
              "    }\n",
              "\n",
              "    .dataframe thead th {\n",
              "        text-align: right;\n",
              "    }\n",
              "</style>\n",
              "<table border=\"1\" class=\"dataframe\">\n",
              "  <thead>\n",
              "    <tr style=\"text-align: right;\">\n",
              "      <th></th>\n",
              "      <th>label</th>\n",
              "    </tr>\n",
              "  </thead>\n",
              "  <tbody>\n",
              "    <tr>\n",
              "      <th>48</th>\n",
              "      <td>1</td>\n",
              "    </tr>\n",
              "    <tr>\n",
              "      <th>19</th>\n",
              "      <td>1</td>\n",
              "    </tr>\n",
              "    <tr>\n",
              "      <th>70</th>\n",
              "      <td>1</td>\n",
              "    </tr>\n",
              "    <tr>\n",
              "      <th>42</th>\n",
              "      <td>1</td>\n",
              "    </tr>\n",
              "    <tr>\n",
              "      <th>54</th>\n",
              "      <td>1</td>\n",
              "    </tr>\n",
              "    <tr>\n",
              "      <th>...</th>\n",
              "      <td>...</td>\n",
              "    </tr>\n",
              "    <tr>\n",
              "      <th>49</th>\n",
              "      <td>1</td>\n",
              "    </tr>\n",
              "    <tr>\n",
              "      <th>52</th>\n",
              "      <td>1</td>\n",
              "    </tr>\n",
              "    <tr>\n",
              "      <th>62</th>\n",
              "      <td>1</td>\n",
              "    </tr>\n",
              "    <tr>\n",
              "      <th>45</th>\n",
              "      <td>1</td>\n",
              "    </tr>\n",
              "    <tr>\n",
              "      <th>16</th>\n",
              "      <td>1</td>\n",
              "    </tr>\n",
              "  </tbody>\n",
              "</table>\n",
              "<p>62 rows × 1 columns</p>\n",
              "</div>"
            ],
            "text/plain": [
              "    label\n",
              "48      1\n",
              "19      1\n",
              "70      1\n",
              "42      1\n",
              "54      1\n",
              "..    ...\n",
              "49      1\n",
              "52      1\n",
              "62      1\n",
              "45      1\n",
              "16      1\n",
              "\n",
              "[62 rows x 1 columns]"
            ]
          },
          "metadata": {},
          "execution_count": 18
        }
      ]
    }
  ]
}