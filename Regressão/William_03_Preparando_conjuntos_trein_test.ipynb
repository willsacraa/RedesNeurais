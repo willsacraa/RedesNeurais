{
  "nbformat": 4,
  "nbformat_minor": 0,
  "metadata": {
    "kernelspec": {
      "display_name": "Python 3",
      "language": "python",
      "name": "python3"
    },
    "language_info": {
      "codemirror_mode": {
        "name": "ipython",
        "version": 3
      },
      "file_extension": ".py",
      "mimetype": "text/x-python",
      "name": "python",
      "nbconvert_exporter": "python",
      "pygments_lexer": "ipython3",
      "version": "3.8.8"
    },
    "latex_envs": {
      "LaTeX_envs_menu_present": true,
      "autoclose": false,
      "autocomplete": true,
      "bibliofile": "biblio.bib",
      "cite_by": "apalike",
      "current_citInitial": 1,
      "eqLabelWithNumbers": true,
      "eqNumInitial": 1,
      "hotkeys": {
        "equation": "Ctrl-E",
        "itemize": "Ctrl-I"
      },
      "labels_anchors": false,
      "latex_user_defs": false,
      "report_style_numbering": false,
      "user_envs_cfg": false
    },
    "colab": {
      "provenance": [],
      "collapsed_sections": []
    }
  },
  "cells": [
    {
      "cell_type": "markdown",
      "metadata": {
        "id": "8N12lLLNyCts"
      },
      "source": [
        "# <font color='blue'>Preparação conjunto de treinamento e teste</font>"
      ]
    },
    {
      "cell_type": "markdown",
      "metadata": {
        "id": "OvLzzE-_Ys-L"
      },
      "source": [
        "## Montando DRIVE"
      ]
    },
    {
      "cell_type": "markdown",
      "metadata": {
        "id": "JhLVCpFjaKW8"
      },
      "source": [
        "Corrigir, pelo professor, a próxima célula para o destino correto do Drive"
      ]
    },
    {
      "cell_type": "code",
      "metadata": {
        "id": "p_VNc4ezYxlN"
      },
      "source": [
        "from google.colab import drive\n",
        "drive.mount('/content/drive')\n",
        "\n",
        "drive_dados = '/content/drive/MyDrive/UFSB/Componentes_curriculares/RNA/_02_Regressao/' # Colocar uma barra no final do endereço"
      ],
      "execution_count": null,
      "outputs": []
    },
    {
      "cell_type": "markdown",
      "metadata": {
        "id": "1DlbEHY7yCtu"
      },
      "source": [
        "## 1) Importando bibliotecas\n",
        "\n",
        "Importar as bibliotecas e o arquivo que serão utilizadas durante as análises.\n"
      ]
    },
    {
      "cell_type": "code",
      "metadata": {
        "id": "Oj9u_mQyyCtv"
      },
      "source": [
        "# Imports bilbliotecas básica\n",
        "# ===========================\n",
        "import numpy as np\n",
        "import pandas as pd\n",
        "pd.set_option('display.max_columns', None)  \n",
        "pd.set_option('display.expand_frame_repr', False)\n",
        "pd.set_option('max_colwidth', None)\n",
        "\n",
        "# Imports bilbliotecas com funções importantes\n",
        "# ============================================\n",
        "from sklearn.preprocessing import MinMaxScaler # Normalização [0, 1]\n",
        "from sklearn.preprocessing import StandardScaler # Normalização"
      ],
      "execution_count": null,
      "outputs": []
    },
    {
      "cell_type": "markdown",
      "metadata": {
        "id": "JNLBSESJyCtw"
      },
      "source": [
        "## 2) Extrai os dados do csv ou txt\n",
        "\n",
        "Um dos grandes problemas que encontramos é mal uso de separador e de encoding, então é importante se atentar a esses argumentos.\n",
        "\n",
        "É muito importante ressaltar que colocar os argumentos de separador e de encoding quando está lendo um arquivo evita problemas como os dados que não tenham sido separados corretamente.\n",
        "\n",
        "Fonte dos dados: Dados pre-processados."
      ]
    },
    {
      "cell_type": "code",
      "metadata": {
        "colab": {
          "base_uri": "https://localhost:8080/",
          "height": 238
        },
        "id": "vTCaTnivyCtw",
        "outputId": "bca45955-56f2-42d6-a567-431865fac18b"
      },
      "source": [
        "# Carregando o dataset\n",
        "dataset = pd.read_csv(drive_dados + \"Dados_analise_exploratoria.csv\", encoding = 'latin-1', sep = ',')\n",
        "dataset.drop(columns = [\"Unnamed: 0\"], inplace=True)\n",
        "print(dataset.shape)\n",
        "# Verificando as primeiras linhas do dataset\n",
        "dataset.head()"
      ],
      "execution_count": null,
      "outputs": [
        {
          "output_type": "stream",
          "name": "stdout",
          "text": [
            "(954, 9)\n"
          ]
        },
        {
          "output_type": "execute_result",
          "data": {
            "text/html": [
              "<div>\n",
              "<style scoped>\n",
              "    .dataframe tbody tr th:only-of-type {\n",
              "        vertical-align: middle;\n",
              "    }\n",
              "\n",
              "    .dataframe tbody tr th {\n",
              "        vertical-align: top;\n",
              "    }\n",
              "\n",
              "    .dataframe thead th {\n",
              "        text-align: right;\n",
              "    }\n",
              "</style>\n",
              "<table border=\"1\" class=\"dataframe\">\n",
              "  <thead>\n",
              "    <tr style=\"text-align: right;\">\n",
              "      <th></th>\n",
              "      <th>Cimento (X1)</th>\n",
              "      <th>Escoria de alto-forno (X2)</th>\n",
              "      <th>Cinzas (X3)</th>\n",
              "      <th>Agua (X4)</th>\n",
              "      <th>Superplastificante (X5)</th>\n",
              "      <th>Agregado grosso (X6)</th>\n",
              "      <th>Agregado fino (X7)</th>\n",
              "      <th>Idade (X8)</th>\n",
              "      <th>Forca de compressao do Concreto (Y1)</th>\n",
              "    </tr>\n",
              "  </thead>\n",
              "  <tbody>\n",
              "    <tr>\n",
              "      <th>0</th>\n",
              "      <td>540.0</td>\n",
              "      <td>0.0</td>\n",
              "      <td>0.0</td>\n",
              "      <td>162.0</td>\n",
              "      <td>2.5</td>\n",
              "      <td>1040.0</td>\n",
              "      <td>676.0</td>\n",
              "      <td>4</td>\n",
              "      <td>79.986111</td>\n",
              "    </tr>\n",
              "    <tr>\n",
              "      <th>1</th>\n",
              "      <td>540.0</td>\n",
              "      <td>0.0</td>\n",
              "      <td>0.0</td>\n",
              "      <td>162.0</td>\n",
              "      <td>2.5</td>\n",
              "      <td>1055.0</td>\n",
              "      <td>676.0</td>\n",
              "      <td>4</td>\n",
              "      <td>61.887366</td>\n",
              "    </tr>\n",
              "    <tr>\n",
              "      <th>2</th>\n",
              "      <td>332.5</td>\n",
              "      <td>142.5</td>\n",
              "      <td>0.0</td>\n",
              "      <td>228.0</td>\n",
              "      <td>0.0</td>\n",
              "      <td>932.0</td>\n",
              "      <td>594.0</td>\n",
              "      <td>11</td>\n",
              "      <td>40.269535</td>\n",
              "    </tr>\n",
              "    <tr>\n",
              "      <th>3</th>\n",
              "      <td>332.5</td>\n",
              "      <td>142.5</td>\n",
              "      <td>0.0</td>\n",
              "      <td>228.0</td>\n",
              "      <td>0.0</td>\n",
              "      <td>932.0</td>\n",
              "      <td>594.0</td>\n",
              "      <td>13</td>\n",
              "      <td>41.052780</td>\n",
              "    </tr>\n",
              "    <tr>\n",
              "      <th>4</th>\n",
              "      <td>198.6</td>\n",
              "      <td>132.4</td>\n",
              "      <td>0.0</td>\n",
              "      <td>192.0</td>\n",
              "      <td>0.0</td>\n",
              "      <td>978.4</td>\n",
              "      <td>825.5</td>\n",
              "      <td>12</td>\n",
              "      <td>44.296075</td>\n",
              "    </tr>\n",
              "  </tbody>\n",
              "</table>\n",
              "</div>"
            ],
            "text/plain": [
              "   Cimento (X1)  Escoria de alto-forno (X2)  Cinzas (X3)  Agua (X4)  Superplastificante (X5)  Agregado grosso (X6)  Agregado fino (X7)  Idade (X8)  Forca de compressao do Concreto (Y1)\n",
              "0         540.0                         0.0          0.0      162.0                      2.5                1040.0               676.0           4                             79.986111\n",
              "1         540.0                         0.0          0.0      162.0                      2.5                1055.0               676.0           4                             61.887366\n",
              "2         332.5                       142.5          0.0      228.0                      0.0                 932.0               594.0          11                             40.269535\n",
              "3         332.5                       142.5          0.0      228.0                      0.0                 932.0               594.0          13                             41.052780\n",
              "4         198.6                       132.4          0.0      192.0                      0.0                 978.4               825.5          12                             44.296075"
            ]
          },
          "metadata": {},
          "execution_count": 4
        }
      ]
    },
    {
      "cell_type": "markdown",
      "metadata": {
        "id": "xhN6HoR5yCtw"
      },
      "source": [
        "Note que não utilizamos o encoding utf-8, pois com o seu uso podemos ter apenas de 0-127 valores, portanto utilzamos o latin-1, que também é conhecido como ISO-8859–1, e que cobre de 0–255 valores."
      ]
    },
    {
      "cell_type": "markdown",
      "metadata": {
        "id": "Y3-tITq0yCtw"
      },
      "source": [
        "## 3) Definindo atributos (variáveis de entrada) e targets (variável de saida)"
      ]
    },
    {
      "cell_type": "code",
      "metadata": {
        "colab": {
          "base_uri": "https://localhost:8080/"
        },
        "id": "TA6etkdeyCtx",
        "outputId": "03e564c3-25fc-44c3-bf19-e4c565595f5c"
      },
      "source": [
        "# Gerando número de observações e variáveis\n",
        "observations = len(dataset)\n",
        "variables = dataset.columns\n",
        "total_variaveis = len(variables)\n",
        "var_output = 1 # COLOCAR AQUI O NUMERO DE VARIÁVEIS DE SAÍDA (Últimas colunas)\n",
        "variables_out = dataset.columns[:-var_output]\n",
        "print('O banco de dados contem %d variáveis.' % total_variaveis)\n",
        "print(f'Estão registradas {observations} observações.\\n')\n",
        "print(f'Identificadas {total_variaveis-var_output} variáveis preditoras que são:\\n{variables[0:total_variaveis-var_output]}\\n')\n",
        "print(f'Identificada(s) {var_output} variáve(l/is) explanatória(s) que é(são):\\n{variables[total_variaveis-var_output:]}')"
      ],
      "execution_count": null,
      "outputs": [
        {
          "output_type": "stream",
          "name": "stdout",
          "text": [
            "O banco de dados contem 9 variáveis.\n",
            "Estão registradas 954 observações.\n",
            "\n",
            "Identificadas 8 variáveis preditoras que são:\n",
            "Index(['Cimento (X1)', 'Escoria de alto-forno (X2)', 'Cinzas (X3)',\n",
            "       'Agua (X4)', 'Superplastificante (X5)', 'Agregado grosso (X6)',\n",
            "       'Agregado fino (X7)', 'Idade (X8)'],\n",
            "      dtype='object')\n",
            "\n",
            "Identificada(s) 1 variáve(l/is) explanatória(s) que é(são):\n",
            "Index(['Forca de compressao do Concreto (Y1)'], dtype='object')\n"
          ]
        }
      ]
    },
    {
      "cell_type": "code",
      "metadata": {
        "id": "Yqp_z0spyCtx",
        "colab": {
          "base_uri": "https://localhost:8080/",
          "height": 436
        },
        "outputId": "b045527b-7faf-4572-9e73-64e6890964ff"
      },
      "source": [
        "# Coletando x e y\n",
        "var_entrada=['Cimento (X1)', 'Escoria de alto-forno (X2)', 'Cinzas (X3)',\n",
        "       'Agua (X4)', 'Superplastificante (X5)', 'Agregado grosso (X6)',\n",
        "       'Agregado fino (X7)', 'Idade (X8)'] # Variáveis consideradas na entrada\n",
        "var_saida=['Forca de compressao do Concreto (Y1)'] # Variáveis consideradas na saida \n",
        "dataset = dataset[var_entrada + var_saida]\n",
        "dataset"
      ],
      "execution_count": null,
      "outputs": [
        {
          "output_type": "execute_result",
          "data": {
            "text/html": [
              "<div>\n",
              "<style scoped>\n",
              "    .dataframe tbody tr th:only-of-type {\n",
              "        vertical-align: middle;\n",
              "    }\n",
              "\n",
              "    .dataframe tbody tr th {\n",
              "        vertical-align: top;\n",
              "    }\n",
              "\n",
              "    .dataframe thead th {\n",
              "        text-align: right;\n",
              "    }\n",
              "</style>\n",
              "<table border=\"1\" class=\"dataframe\">\n",
              "  <thead>\n",
              "    <tr style=\"text-align: right;\">\n",
              "      <th></th>\n",
              "      <th>Cimento (X1)</th>\n",
              "      <th>Escoria de alto-forno (X2)</th>\n",
              "      <th>Cinzas (X3)</th>\n",
              "      <th>Agua (X4)</th>\n",
              "      <th>Superplastificante (X5)</th>\n",
              "      <th>Agregado grosso (X6)</th>\n",
              "      <th>Agregado fino (X7)</th>\n",
              "      <th>Idade (X8)</th>\n",
              "      <th>Forca de compressao do Concreto (Y1)</th>\n",
              "    </tr>\n",
              "  </thead>\n",
              "  <tbody>\n",
              "    <tr>\n",
              "      <th>0</th>\n",
              "      <td>540.0</td>\n",
              "      <td>0.0</td>\n",
              "      <td>0.0</td>\n",
              "      <td>162.0</td>\n",
              "      <td>2.5</td>\n",
              "      <td>1040.0</td>\n",
              "      <td>676.0</td>\n",
              "      <td>4</td>\n",
              "      <td>79.986111</td>\n",
              "    </tr>\n",
              "    <tr>\n",
              "      <th>1</th>\n",
              "      <td>540.0</td>\n",
              "      <td>0.0</td>\n",
              "      <td>0.0</td>\n",
              "      <td>162.0</td>\n",
              "      <td>2.5</td>\n",
              "      <td>1055.0</td>\n",
              "      <td>676.0</td>\n",
              "      <td>4</td>\n",
              "      <td>61.887366</td>\n",
              "    </tr>\n",
              "    <tr>\n",
              "      <th>2</th>\n",
              "      <td>332.5</td>\n",
              "      <td>142.5</td>\n",
              "      <td>0.0</td>\n",
              "      <td>228.0</td>\n",
              "      <td>0.0</td>\n",
              "      <td>932.0</td>\n",
              "      <td>594.0</td>\n",
              "      <td>11</td>\n",
              "      <td>40.269535</td>\n",
              "    </tr>\n",
              "    <tr>\n",
              "      <th>3</th>\n",
              "      <td>332.5</td>\n",
              "      <td>142.5</td>\n",
              "      <td>0.0</td>\n",
              "      <td>228.0</td>\n",
              "      <td>0.0</td>\n",
              "      <td>932.0</td>\n",
              "      <td>594.0</td>\n",
              "      <td>13</td>\n",
              "      <td>41.052780</td>\n",
              "    </tr>\n",
              "    <tr>\n",
              "      <th>4</th>\n",
              "      <td>198.6</td>\n",
              "      <td>132.4</td>\n",
              "      <td>0.0</td>\n",
              "      <td>192.0</td>\n",
              "      <td>0.0</td>\n",
              "      <td>978.4</td>\n",
              "      <td>825.5</td>\n",
              "      <td>12</td>\n",
              "      <td>44.296075</td>\n",
              "    </tr>\n",
              "    <tr>\n",
              "      <th>...</th>\n",
              "      <td>...</td>\n",
              "      <td>...</td>\n",
              "      <td>...</td>\n",
              "      <td>...</td>\n",
              "      <td>...</td>\n",
              "      <td>...</td>\n",
              "      <td>...</td>\n",
              "      <td>...</td>\n",
              "      <td>...</td>\n",
              "    </tr>\n",
              "    <tr>\n",
              "      <th>949</th>\n",
              "      <td>276.4</td>\n",
              "      <td>116.0</td>\n",
              "      <td>90.3</td>\n",
              "      <td>179.6</td>\n",
              "      <td>8.9</td>\n",
              "      <td>870.1</td>\n",
              "      <td>768.3</td>\n",
              "      <td>4</td>\n",
              "      <td>44.284354</td>\n",
              "    </tr>\n",
              "    <tr>\n",
              "      <th>950</th>\n",
              "      <td>322.2</td>\n",
              "      <td>0.0</td>\n",
              "      <td>115.6</td>\n",
              "      <td>196.0</td>\n",
              "      <td>10.4</td>\n",
              "      <td>817.9</td>\n",
              "      <td>813.4</td>\n",
              "      <td>4</td>\n",
              "      <td>31.178794</td>\n",
              "    </tr>\n",
              "    <tr>\n",
              "      <th>951</th>\n",
              "      <td>148.5</td>\n",
              "      <td>139.4</td>\n",
              "      <td>108.6</td>\n",
              "      <td>192.7</td>\n",
              "      <td>6.1</td>\n",
              "      <td>892.4</td>\n",
              "      <td>780.0</td>\n",
              "      <td>4</td>\n",
              "      <td>23.696601</td>\n",
              "    </tr>\n",
              "    <tr>\n",
              "      <th>952</th>\n",
              "      <td>159.1</td>\n",
              "      <td>186.7</td>\n",
              "      <td>0.0</td>\n",
              "      <td>175.6</td>\n",
              "      <td>11.3</td>\n",
              "      <td>989.6</td>\n",
              "      <td>788.9</td>\n",
              "      <td>4</td>\n",
              "      <td>32.768036</td>\n",
              "    </tr>\n",
              "    <tr>\n",
              "      <th>953</th>\n",
              "      <td>260.9</td>\n",
              "      <td>100.5</td>\n",
              "      <td>78.3</td>\n",
              "      <td>200.6</td>\n",
              "      <td>8.6</td>\n",
              "      <td>864.5</td>\n",
              "      <td>761.5</td>\n",
              "      <td>4</td>\n",
              "      <td>32.401235</td>\n",
              "    </tr>\n",
              "  </tbody>\n",
              "</table>\n",
              "<p>954 rows × 9 columns</p>\n",
              "</div>"
            ],
            "text/plain": [
              "     Cimento (X1)  Escoria de alto-forno (X2)  Cinzas (X3)  Agua (X4)  Superplastificante (X5)  Agregado grosso (X6)  Agregado fino (X7)  Idade (X8)  Forca de compressao do Concreto (Y1)\n",
              "0           540.0                         0.0          0.0      162.0                      2.5                1040.0               676.0           4                             79.986111\n",
              "1           540.0                         0.0          0.0      162.0                      2.5                1055.0               676.0           4                             61.887366\n",
              "2           332.5                       142.5          0.0      228.0                      0.0                 932.0               594.0          11                             40.269535\n",
              "3           332.5                       142.5          0.0      228.0                      0.0                 932.0               594.0          13                             41.052780\n",
              "4           198.6                       132.4          0.0      192.0                      0.0                 978.4               825.5          12                             44.296075\n",
              "..            ...                         ...          ...        ...                      ...                   ...                 ...         ...                                   ...\n",
              "949         276.4                       116.0         90.3      179.6                      8.9                 870.1               768.3           4                             44.284354\n",
              "950         322.2                         0.0        115.6      196.0                     10.4                 817.9               813.4           4                             31.178794\n",
              "951         148.5                       139.4        108.6      192.7                      6.1                 892.4               780.0           4                             23.696601\n",
              "952         159.1                       186.7          0.0      175.6                     11.3                 989.6               788.9           4                             32.768036\n",
              "953         260.9                       100.5         78.3      200.6                      8.6                 864.5               761.5           4                             32.401235\n",
              "\n",
              "[954 rows x 9 columns]"
            ]
          },
          "metadata": {},
          "execution_count": 8
        }
      ]
    },
    {
      "cell_type": "markdown",
      "metadata": {
        "id": "IDA0DtQwyCtx"
      },
      "source": [
        "## 4) Aplicando Normalização da entrada / saida\n",
        "\n",
        "### <font color='blue'> Entrada"
      ]
    },
    {
      "cell_type": "code",
      "metadata": {
        "id": "ozH4iLoHyCtx"
      },
      "source": [
        "# 2) Aplicando Padronização\n",
        "standardization = StandardScaler()\n",
        "X_array = standardization.fit_transform(dataset[var_entrada])\n",
        "dataset[var_entrada] = pd.DataFrame(X_array,columns = dataset[var_entrada].columns).set_index(dataset.index)"
      ],
      "execution_count": null,
      "outputs": []
    },
    {
      "cell_type": "markdown",
      "metadata": {
        "id": "DsWWQVoAyCty"
      },
      "source": [
        "### <font color='blue'> Saida "
      ]
    },
    {
      "cell_type": "code",
      "metadata": {
        "id": "L3kafHTJyCty"
      },
      "source": [
        "# 2) Aplicando Padronização\n",
        "standardization = StandardScaler()\n",
        "Y_array = standardization.fit_transform(dataset[var_saida])\n",
        "dataset[var_saida] = pd.DataFrame(Y_array,columns = dataset[var_saida].columns).set_index(dataset.index)"
      ],
      "execution_count": null,
      "outputs": []
    },
    {
      "cell_type": "markdown",
      "metadata": {
        "id": "vc1sMzxJyCty"
      },
      "source": [
        "## 5) Aleatorização do conjunto de dados"
      ]
    },
    {
      "cell_type": "code",
      "metadata": {
        "colab": {
          "base_uri": "https://localhost:8080/",
          "height": 453
        },
        "id": "ZkvNaFGZyCty",
        "outputId": "e760e14e-8d21-4435-bbff-f8ba75a69813"
      },
      "source": [
        "ordem = dataset.sample(dataset.shape[0]).index\n",
        "dataset = dataset.iloc[ordem]\n",
        "print(dataset.shape)\n",
        "dataset"
      ],
      "execution_count": null,
      "outputs": [
        {
          "output_type": "stream",
          "name": "stdout",
          "text": [
            "(954, 9)\n"
          ]
        },
        {
          "output_type": "execute_result",
          "data": {
            "text/html": [
              "<div>\n",
              "<style scoped>\n",
              "    .dataframe tbody tr th:only-of-type {\n",
              "        vertical-align: middle;\n",
              "    }\n",
              "\n",
              "    .dataframe tbody tr th {\n",
              "        vertical-align: top;\n",
              "    }\n",
              "\n",
              "    .dataframe thead th {\n",
              "        text-align: right;\n",
              "    }\n",
              "</style>\n",
              "<table border=\"1\" class=\"dataframe\">\n",
              "  <thead>\n",
              "    <tr style=\"text-align: right;\">\n",
              "      <th></th>\n",
              "      <th>Cimento (X1)</th>\n",
              "      <th>Escoria de alto-forno (X2)</th>\n",
              "      <th>Cinzas (X3)</th>\n",
              "      <th>Agua (X4)</th>\n",
              "      <th>Superplastificante (X5)</th>\n",
              "      <th>Agregado grosso (X6)</th>\n",
              "      <th>Agregado fino (X7)</th>\n",
              "      <th>Idade (X8)</th>\n",
              "      <th>Forca de compressao do Concreto (Y1)</th>\n",
              "    </tr>\n",
              "  </thead>\n",
              "  <tbody>\n",
              "    <tr>\n",
              "      <th>587</th>\n",
              "      <td>-1.491319</td>\n",
              "      <td>1.302470</td>\n",
              "      <td>-0.877906</td>\n",
              "      <td>0.969853</td>\n",
              "      <td>-1.097872</td>\n",
              "      <td>-0.244473</td>\n",
              "      <td>0.365793</td>\n",
              "      <td>0.716281</td>\n",
              "      <td>-0.086204</td>\n",
              "    </tr>\n",
              "    <tr>\n",
              "      <th>119</th>\n",
              "      <td>0.440344</td>\n",
              "      <td>1.631729</td>\n",
              "      <td>-0.877906</td>\n",
              "      <td>-1.372023</td>\n",
              "      <td>1.906014</td>\n",
              "      <td>-1.638928</td>\n",
              "      <td>1.395931</td>\n",
              "      <td>1.115191</td>\n",
              "      <td>2.105788</td>\n",
              "    </tr>\n",
              "    <tr>\n",
              "      <th>878</th>\n",
              "      <td>-1.191035</td>\n",
              "      <td>0.854631</td>\n",
              "      <td>0.894115</td>\n",
              "      <td>-0.254978</td>\n",
              "      <td>0.582624</td>\n",
              "      <td>-1.440471</td>\n",
              "      <td>0.672397</td>\n",
              "      <td>-0.081538</td>\n",
              "      <td>-0.523182</td>\n",
              "    </tr>\n",
              "    <tr>\n",
              "      <th>286</th>\n",
              "      <td>-0.594011</td>\n",
              "      <td>-0.814689</td>\n",
              "      <td>1.862298</td>\n",
              "      <td>-1.416607</td>\n",
              "      <td>1.036357</td>\n",
              "      <td>1.008040</td>\n",
              "      <td>0.061113</td>\n",
              "      <td>-0.480448</td>\n",
              "      <td>-0.052477</td>\n",
              "    </tr>\n",
              "    <tr>\n",
              "      <th>678</th>\n",
              "      <td>2.027419</td>\n",
              "      <td>-0.814689</td>\n",
              "      <td>-0.877906</td>\n",
              "      <td>0.406431</td>\n",
              "      <td>-1.097872</td>\n",
              "      <td>-0.536244</td>\n",
              "      <td>-0.648951</td>\n",
              "      <td>-0.081538</td>\n",
              "      <td>0.585694</td>\n",
              "    </tr>\n",
              "    <tr>\n",
              "      <th>...</th>\n",
              "      <td>...</td>\n",
              "      <td>...</td>\n",
              "      <td>...</td>\n",
              "      <td>...</td>\n",
              "      <td>...</td>\n",
              "      <td>...</td>\n",
              "      <td>...</td>\n",
              "      <td>...</td>\n",
              "      <td>...</td>\n",
              "    </tr>\n",
              "    <tr>\n",
              "      <th>851</th>\n",
              "      <td>-1.172329</td>\n",
              "      <td>-0.814689</td>\n",
              "      <td>1.364563</td>\n",
              "      <td>0.455424</td>\n",
              "      <td>0.792686</td>\n",
              "      <td>-1.311672</td>\n",
              "      <td>1.236856</td>\n",
              "      <td>-0.081538</td>\n",
              "      <td>-1.559150</td>\n",
              "    </tr>\n",
              "    <tr>\n",
              "      <th>509</th>\n",
              "      <td>-0.524503</td>\n",
              "      <td>0.879959</td>\n",
              "      <td>-0.877906</td>\n",
              "      <td>0.097773</td>\n",
              "      <td>-1.097872</td>\n",
              "      <td>1.027754</td>\n",
              "      <td>-0.350045</td>\n",
              "      <td>-0.879357</td>\n",
              "      <td>-1.348562</td>\n",
              "    </tr>\n",
              "    <tr>\n",
              "      <th>0</th>\n",
              "      <td>2.618142</td>\n",
              "      <td>-0.814689</td>\n",
              "      <td>-0.877906</td>\n",
              "      <td>-1.063366</td>\n",
              "      <td>-0.572717</td>\n",
              "      <td>0.830612</td>\n",
              "      <td>-1.226239</td>\n",
              "      <td>-0.081538</td>\n",
              "      <td>2.852197</td>\n",
              "    </tr>\n",
              "    <tr>\n",
              "      <th>165</th>\n",
              "      <td>-1.044831</td>\n",
              "      <td>-0.330240</td>\n",
              "      <td>1.691211</td>\n",
              "      <td>-3.035343</td>\n",
              "      <td>0.103682</td>\n",
              "      <td>1.076383</td>\n",
              "      <td>0.109348</td>\n",
              "      <td>-1.278267</td>\n",
              "      <td>-1.683840</td>\n",
              "    </tr>\n",
              "    <tr>\n",
              "      <th>632</th>\n",
              "      <td>-1.556298</td>\n",
              "      <td>1.176983</td>\n",
              "      <td>-0.877906</td>\n",
              "      <td>0.406431</td>\n",
              "      <td>-1.097872</td>\n",
              "      <td>-0.880586</td>\n",
              "      <td>1.543460</td>\n",
              "      <td>-0.081538</td>\n",
              "      <td>-0.767151</td>\n",
              "    </tr>\n",
              "  </tbody>\n",
              "</table>\n",
              "<p>954 rows × 9 columns</p>\n",
              "</div>"
            ],
            "text/plain": [
              "     Cimento (X1)  Escoria de alto-forno (X2)  Cinzas (X3)  Agua (X4)  Superplastificante (X5)  Agregado grosso (X6)  Agregado fino (X7)  Idade (X8)  Forca de compressao do Concreto (Y1)\n",
              "587     -1.491319                    1.302470    -0.877906   0.969853                -1.097872             -0.244473            0.365793    0.716281                             -0.086204\n",
              "119      0.440344                    1.631729    -0.877906  -1.372023                 1.906014             -1.638928            1.395931    1.115191                              2.105788\n",
              "878     -1.191035                    0.854631     0.894115  -0.254978                 0.582624             -1.440471            0.672397   -0.081538                             -0.523182\n",
              "286     -0.594011                   -0.814689     1.862298  -1.416607                 1.036357              1.008040            0.061113   -0.480448                             -0.052477\n",
              "678      2.027419                   -0.814689    -0.877906   0.406431                -1.097872             -0.536244           -0.648951   -0.081538                              0.585694\n",
              "..            ...                         ...          ...        ...                      ...                   ...                 ...         ...                                   ...\n",
              "851     -1.172329                   -0.814689     1.364563   0.455424                 0.792686             -1.311672            1.236856   -0.081538                             -1.559150\n",
              "509     -0.524503                    0.879959    -0.877906   0.097773                -1.097872              1.027754           -0.350045   -0.879357                             -1.348562\n",
              "0        2.618142                   -0.814689    -0.877906  -1.063366                -0.572717              0.830612           -1.226239   -0.081538                              2.852197\n",
              "165     -1.044831                   -0.330240     1.691211  -3.035343                 0.103682              1.076383            0.109348   -1.278267                             -1.683840\n",
              "632     -1.556298                    1.176983    -0.877906   0.406431                -1.097872             -0.880586            1.543460   -0.081538                             -0.767151\n",
              "\n",
              "[954 rows x 9 columns]"
            ]
          },
          "metadata": {},
          "execution_count": 11
        }
      ]
    },
    {
      "cell_type": "markdown",
      "metadata": {
        "id": "Usgtm-QnyCtz"
      },
      "source": [
        "## 6) Divisão do conjunto de dados em treinamento e teste"
      ]
    },
    {
      "cell_type": "code",
      "metadata": {
        "colab": {
          "base_uri": "https://localhost:8080/"
        },
        "id": "wBXCPaF7yCtz",
        "outputId": "fe83b6b3-b535-43f5-ca2a-72f81c9911a2"
      },
      "source": [
        "# Determinação do percentual do conjunto de treinamento\n",
        "frac = 0.80 # Fração reservada para a extração do conjunto treinamento\n",
        "dataset_treinamento = dataset.sample(frac=frac)\n",
        "dataset_teste = dataset.drop(dataset_treinamento.index)\n",
        "dataset = dataset_treinamento\n",
        "print(f'O conjunto de teste tem {dataset_teste.shape}. \\nO conjunto de treinamento tem {dataset_treinamento.shape}')"
      ],
      "execution_count": null,
      "outputs": [
        {
          "output_type": "stream",
          "name": "stdout",
          "text": [
            "O conjunto de teste tem (191, 9). \n",
            "O conjunto de treinamento tem (763, 9)\n"
          ]
        }
      ]
    },
    {
      "cell_type": "markdown",
      "metadata": {
        "id": "O1_n5xBap1nz"
      },
      "source": [
        "## 7) Gravando dados"
      ]
    },
    {
      "cell_type": "code",
      "metadata": {
        "id": "VEWNHVp8p1nz"
      },
      "source": [
        "train_inputs = dataset[var_entrada]\n",
        "train_targets = dataset[var_saida]\n",
        "test_inputs = dataset_teste[var_entrada]\n",
        "test_targets = dataset_teste[var_saida]"
      ],
      "execution_count": null,
      "outputs": []
    },
    {
      "cell_type": "code",
      "metadata": {
        "id": "FGxkZas0p1nz"
      },
      "source": [
        "import pickle\n",
        "# Gravando os dados para o modelo\n",
        "pickle.dump((train_inputs, train_targets), open(drive_dados + 'dados_treinamento.sav', 'wb'))\n",
        "pickle.dump((test_inputs, test_targets), open(drive_dados + 'dados_teste.sav', 'wb'))"
      ],
      "execution_count": null,
      "outputs": []
    },
    {
      "cell_type": "code",
      "metadata": {
        "colab": {
          "base_uri": "https://localhost:8080/",
          "height": 419
        },
        "id": "nkNknywSp1n0",
        "outputId": "a3dd3416-7be1-4368-c5f1-a4f28ac76a90"
      },
      "source": [
        "train_inputs"
      ],
      "execution_count": null,
      "outputs": [
        {
          "output_type": "execute_result",
          "data": {
            "text/html": [
              "<div>\n",
              "<style scoped>\n",
              "    .dataframe tbody tr th:only-of-type {\n",
              "        vertical-align: middle;\n",
              "    }\n",
              "\n",
              "    .dataframe tbody tr th {\n",
              "        vertical-align: top;\n",
              "    }\n",
              "\n",
              "    .dataframe thead th {\n",
              "        text-align: right;\n",
              "    }\n",
              "</style>\n",
              "<table border=\"1\" class=\"dataframe\">\n",
              "  <thead>\n",
              "    <tr style=\"text-align: right;\">\n",
              "      <th></th>\n",
              "      <th>Cimento (X1)</th>\n",
              "      <th>Escoria de alto-forno (X2)</th>\n",
              "      <th>Cinzas (X3)</th>\n",
              "      <th>Agua (X4)</th>\n",
              "      <th>Superplastificante (X5)</th>\n",
              "      <th>Agregado grosso (X6)</th>\n",
              "      <th>Agregado fino (X7)</th>\n",
              "      <th>Idade (X8)</th>\n",
              "    </tr>\n",
              "  </thead>\n",
              "  <tbody>\n",
              "    <tr>\n",
              "      <th>584</th>\n",
              "      <td>-1.152638</td>\n",
              "      <td>1.902274</td>\n",
              "      <td>-0.877906</td>\n",
              "      <td>0.406431</td>\n",
              "      <td>-1.097872</td>\n",
              "      <td>-0.544130</td>\n",
              "      <td>0.123332</td>\n",
              "      <td>0.716281</td>\n",
              "    </tr>\n",
              "    <tr>\n",
              "      <th>918</th>\n",
              "      <td>0.986763</td>\n",
              "      <td>-0.814689</td>\n",
              "      <td>-0.877906</td>\n",
              "      <td>0.318243</td>\n",
              "      <td>0.309543</td>\n",
              "      <td>0.478384</td>\n",
              "      <td>-0.528362</td>\n",
              "      <td>-0.081538</td>\n",
              "    </tr>\n",
              "    <tr>\n",
              "      <th>147</th>\n",
              "      <td>-0.610453</td>\n",
              "      <td>-0.814689</td>\n",
              "      <td>1.029291</td>\n",
              "      <td>-0.166300</td>\n",
              "      <td>0.097380</td>\n",
              "      <td>1.061926</td>\n",
              "      <td>0.099214</td>\n",
              "      <td>-0.081538</td>\n",
              "    </tr>\n",
              "    <tr>\n",
              "      <th>169</th>\n",
              "      <td>-1.044831</td>\n",
              "      <td>-0.330240</td>\n",
              "      <td>1.691211</td>\n",
              "      <td>-3.035343</td>\n",
              "      <td>0.103682</td>\n",
              "      <td>1.076383</td>\n",
              "      <td>0.109348</td>\n",
              "      <td>1.514100</td>\n",
              "    </tr>\n",
              "    <tr>\n",
              "      <th>349</th>\n",
              "      <td>-1.054184</td>\n",
              "      <td>0.053358</td>\n",
              "      <td>1.740922</td>\n",
              "      <td>-0.963910</td>\n",
              "      <td>0.563718</td>\n",
              "      <td>0.400841</td>\n",
              "      <td>-0.019066</td>\n",
              "      <td>-1.278267</td>\n",
              "    </tr>\n",
              "    <tr>\n",
              "      <th>...</th>\n",
              "      <td>...</td>\n",
              "      <td>...</td>\n",
              "      <td>...</td>\n",
              "      <td>...</td>\n",
              "      <td>...</td>\n",
              "      <td>...</td>\n",
              "      <td>...</td>\n",
              "      <td>...</td>\n",
              "    </tr>\n",
              "    <tr>\n",
              "      <th>636</th>\n",
              "      <td>-0.694828</td>\n",
              "      <td>2.700093</td>\n",
              "      <td>-0.877906</td>\n",
              "      <td>0.969853</td>\n",
              "      <td>-1.097872</td>\n",
              "      <td>-0.176130</td>\n",
              "      <td>-1.816356</td>\n",
              "      <td>-1.278267</td>\n",
              "    </tr>\n",
              "    <tr>\n",
              "      <th>838</th>\n",
              "      <td>0.383241</td>\n",
              "      <td>0.854631</td>\n",
              "      <td>-0.877906</td>\n",
              "      <td>-2.778128</td>\n",
              "      <td>0.582624</td>\n",
              "      <td>0.304898</td>\n",
              "      <td>0.646739</td>\n",
              "      <td>-0.081538</td>\n",
              "    </tr>\n",
              "    <tr>\n",
              "      <th>860</th>\n",
              "      <td>-1.132947</td>\n",
              "      <td>1.591435</td>\n",
              "      <td>1.646832</td>\n",
              "      <td>0.847369</td>\n",
              "      <td>0.372562</td>\n",
              "      <td>-1.692814</td>\n",
              "      <td>-1.316040</td>\n",
              "      <td>-0.081538</td>\n",
              "    </tr>\n",
              "    <tr>\n",
              "      <th>208</th>\n",
              "      <td>-0.611142</td>\n",
              "      <td>-0.814689</td>\n",
              "      <td>1.078845</td>\n",
              "      <td>-1.210346</td>\n",
              "      <td>0.549014</td>\n",
              "      <td>1.427297</td>\n",
              "      <td>0.358609</td>\n",
              "      <td>0.317371</td>\n",
              "    </tr>\n",
              "    <tr>\n",
              "      <th>699</th>\n",
              "      <td>0.747520</td>\n",
              "      <td>-0.814689</td>\n",
              "      <td>-0.877906</td>\n",
              "      <td>0.945356</td>\n",
              "      <td>-1.097872</td>\n",
              "      <td>-0.036816</td>\n",
              "      <td>0.043794</td>\n",
              "      <td>2.311919</td>\n",
              "    </tr>\n",
              "  </tbody>\n",
              "</table>\n",
              "<p>763 rows × 8 columns</p>\n",
              "</div>"
            ],
            "text/plain": [
              "     Cimento (X1)  Escoria de alto-forno (X2)  Cinzas (X3)  Agua (X4)  Superplastificante (X5)  Agregado grosso (X6)  Agregado fino (X7)  Idade (X8)\n",
              "584     -1.152638                    1.902274    -0.877906   0.406431                -1.097872             -0.544130            0.123332    0.716281\n",
              "918      0.986763                   -0.814689    -0.877906   0.318243                 0.309543              0.478384           -0.528362   -0.081538\n",
              "147     -0.610453                   -0.814689     1.029291  -0.166300                 0.097380              1.061926            0.099214   -0.081538\n",
              "169     -1.044831                   -0.330240     1.691211  -3.035343                 0.103682              1.076383            0.109348    1.514100\n",
              "349     -1.054184                    0.053358     1.740922  -0.963910                 0.563718              0.400841           -0.019066   -1.278267\n",
              "..            ...                         ...          ...        ...                      ...                   ...                 ...         ...\n",
              "636     -0.694828                    2.700093    -0.877906   0.969853                -1.097872             -0.176130           -1.816356   -1.278267\n",
              "838      0.383241                    0.854631    -0.877906  -2.778128                 0.582624              0.304898            0.646739   -0.081538\n",
              "860     -1.132947                    1.591435     1.646832   0.847369                 0.372562             -1.692814           -1.316040   -0.081538\n",
              "208     -0.611142                   -0.814689     1.078845  -1.210346                 0.549014              1.427297            0.358609    0.317371\n",
              "699      0.747520                   -0.814689    -0.877906   0.945356                -1.097872             -0.036816            0.043794    2.311919\n",
              "\n",
              "[763 rows x 8 columns]"
            ]
          },
          "metadata": {},
          "execution_count": 15
        }
      ]
    },
    {
      "cell_type": "code",
      "metadata": {
        "colab": {
          "base_uri": "https://localhost:8080/",
          "height": 419
        },
        "id": "v6HYVflihFIe",
        "outputId": "b07b7783-4d5d-4d2f-94d1-1529ebb4145f"
      },
      "source": [
        "train_targets"
      ],
      "execution_count": null,
      "outputs": [
        {
          "output_type": "execute_result",
          "data": {
            "text/html": [
              "<div>\n",
              "<style scoped>\n",
              "    .dataframe tbody tr th:only-of-type {\n",
              "        vertical-align: middle;\n",
              "    }\n",
              "\n",
              "    .dataframe tbody tr th {\n",
              "        vertical-align: top;\n",
              "    }\n",
              "\n",
              "    .dataframe thead th {\n",
              "        text-align: right;\n",
              "    }\n",
              "</style>\n",
              "<table border=\"1\" class=\"dataframe\">\n",
              "  <thead>\n",
              "    <tr style=\"text-align: right;\">\n",
              "      <th></th>\n",
              "      <th>Forca de compressao do Concreto (Y1)</th>\n",
              "    </tr>\n",
              "  </thead>\n",
              "  <tbody>\n",
              "    <tr>\n",
              "      <th>584</th>\n",
              "      <td>0.553352</td>\n",
              "    </tr>\n",
              "    <tr>\n",
              "      <th>918</th>\n",
              "      <td>0.282022</td>\n",
              "    </tr>\n",
              "    <tr>\n",
              "      <th>147</th>\n",
              "      <td>-0.606655</td>\n",
              "    </tr>\n",
              "    <tr>\n",
              "      <th>169</th>\n",
              "      <td>0.293019</td>\n",
              "    </tr>\n",
              "    <tr>\n",
              "      <th>349</th>\n",
              "      <td>-1.195903</td>\n",
              "    </tr>\n",
              "    <tr>\n",
              "      <th>...</th>\n",
              "      <td>...</td>\n",
              "    </tr>\n",
              "    <tr>\n",
              "      <th>636</th>\n",
              "      <td>-1.570060</td>\n",
              "    </tr>\n",
              "    <tr>\n",
              "      <th>838</th>\n",
              "      <td>0.625093</td>\n",
              "    </tr>\n",
              "    <tr>\n",
              "      <th>860</th>\n",
              "      <td>-0.231286</td>\n",
              "    </tr>\n",
              "    <tr>\n",
              "      <th>208</th>\n",
              "      <td>0.660595</td>\n",
              "    </tr>\n",
              "    <tr>\n",
              "      <th>699</th>\n",
              "      <td>-0.115688</td>\n",
              "    </tr>\n",
              "  </tbody>\n",
              "</table>\n",
              "<p>763 rows × 1 columns</p>\n",
              "</div>"
            ],
            "text/plain": [
              "     Forca de compressao do Concreto (Y1)\n",
              "584                              0.553352\n",
              "918                              0.282022\n",
              "147                             -0.606655\n",
              "169                              0.293019\n",
              "349                             -1.195903\n",
              "..                                    ...\n",
              "636                             -1.570060\n",
              "838                              0.625093\n",
              "860                             -0.231286\n",
              "208                              0.660595\n",
              "699                             -0.115688\n",
              "\n",
              "[763 rows x 1 columns]"
            ]
          },
          "metadata": {},
          "execution_count": 16
        }
      ]
    },
    {
      "cell_type": "code",
      "metadata": {
        "id": "ClmPAEzlhGIT"
      },
      "source": [],
      "execution_count": null,
      "outputs": []
    }
  ]
}