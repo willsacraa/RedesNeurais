{
  "nbformat": 4,
  "nbformat_minor": 0,
  "metadata": {
    "kernelspec": {
      "display_name": "Python 3",
      "language": "python",
      "name": "python3"
    },
    "language_info": {
      "codemirror_mode": {
        "name": "ipython",
        "version": 3
      },
      "file_extension": ".py",
      "mimetype": "text/x-python",
      "name": "python",
      "nbconvert_exporter": "python",
      "pygments_lexer": "ipython3",
      "version": "3.8.3"
    },
    "latex_envs": {
      "LaTeX_envs_menu_present": true,
      "autoclose": false,
      "autocomplete": true,
      "bibliofile": "biblio.bib",
      "cite_by": "apalike",
      "current_citInitial": 1,
      "eqLabelWithNumbers": true,
      "eqNumInitial": 1,
      "hotkeys": {
        "equation": "Ctrl-E",
        "itemize": "Ctrl-I"
      },
      "labels_anchors": false,
      "latex_user_defs": false,
      "report_style_numbering": false,
      "user_envs_cfg": false
    },
    "colab": {
      "provenance": [],
      "collapsed_sections": []
    }
  },
  "cells": [
    {
      "cell_type": "markdown",
      "metadata": {
        "id": "W_WLTfjBL1uQ"
      },
      "source": [
        "# <font color='blue'>Pré-processamento dos dados para regressão</font>"
      ]
    },
    {
      "cell_type": "markdown",
      "metadata": {
        "id": "OvLzzE-_Ys-L"
      },
      "source": [
        "## Montando DRIVE"
      ]
    },
    {
      "cell_type": "markdown",
      "metadata": {
        "id": "JhLVCpFjaKW8"
      },
      "source": [
        "Corrigir, pelo professor, a próxima célula para o destino correto do Drive"
      ]
    },
    {
      "cell_type": "code",
      "metadata": {
        "colab": {
          "base_uri": "https://localhost:8080/"
        },
        "id": "p_VNc4ezYxlN",
        "outputId": "0ea5e1a0-9716-4fe9-cac8-6ba2a2b040c6"
      },
      "source": [
        "from google.colab import drive\n",
        "drive.mount('/content/drive')\n",
        "\n",
        "drive_dados = '/content/drive/MyDrive/UFSB/Componentes_curriculares/RNA/_02_Regressao/' # Colocar uma barra no final do endereço"
      ],
      "execution_count": null,
      "outputs": [
        {
          "output_type": "stream",
          "name": "stdout",
          "text": [
            "Drive already mounted at /content/drive; to attempt to forcibly remount, call drive.mount(\"/content/drive\", force_remount=True).\n"
          ]
        }
      ]
    },
    {
      "cell_type": "markdown",
      "metadata": {
        "id": "0yVIJurSL1uT"
      },
      "source": [
        "## 1) Importando bibliotecas e definindo colunas do dataset\n",
        "\n",
        "Importar as bibliotecas e o arquivo que serão utilizadas durante as análises. "
      ]
    },
    {
      "cell_type": "code",
      "metadata": {
        "id": "s9vgiCN1L1uV"
      },
      "source": [
        "# Imports bilbliotecas básica\n",
        "# ===========================\n",
        "import numpy as np\n",
        "import matplotlib.pyplot as plt\n",
        "%matplotlib inline \n",
        "import pandas as pd\n",
        "pd.set_option('display.max_columns', None)  \n",
        "pd.set_option('display.expand_frame_repr', False)\n",
        "pd.set_option('max_colwidth', None)\n",
        "\n",
        "# Imports bilbliotecas com funções importantes\n",
        "# ============================================\n",
        "import seaborn as sns\n",
        "from sklearn.preprocessing import LabelEncoder"
      ],
      "execution_count": null,
      "outputs": []
    },
    {
      "cell_type": "markdown",
      "metadata": {
        "id": "HKYh3UUyZTmI"
      },
      "source": [
        "## Colunas do dataset\n",
        "negrito\n",
        "Fonte dos dados\n",
        "\n",
        "https://archive.ics.uci.edu/ml/datasets/Concrete+Compressive+Strength\n",
        "\n",
        "####  Attribute Information:\n",
        "\n",
        "The dataset contains eight attributes (or features, denoted by X1...X8) and one response (or outcome, denoted by y1). The aim is to use the eight features to predict the response.\n",
        "\n",
        "Specifically:</p>\n",
        "=============</p>\n",
        "X1 Cement</p>\n",
        "X2 Blast Furnace Slag</p>\n",
        "X3 Fly Ash</p>\n",
        "X4 Water</p>\n",
        "X5 Superplasticizer</p>\n",
        "X6 Coarse Aggregate</p>\n",
        "X7 Fine Aggregate</p>\n",
        "X8 Age</p>\n",
        "y1 Concrete compressive strength</p>\n",
        "    "
      ]
    },
    {
      "cell_type": "code",
      "metadata": {
        "id": "Xt_aoDcWL1uX"
      },
      "source": [
        "# Definindo das colunas do dataset\n",
        "names_columns = [\"Cimento (X1)\",\n",
        "                 \"Escoria de alto-forno (X2)\",\n",
        "                 \"Cinzas (X3)\",\n",
        "                 \"Agua (X4)\", \n",
        "                 \"Superplastificante (X5)\", \n",
        "                 \"Agregado grosso (X6)\", \n",
        "                 \"Agregado fino (X7)\",\n",
        "                 \"Idade (X8)\",\n",
        "                 \"Forca de compressao do Concreto (Y1)\",\n",
        "                 ] "
      ],
      "execution_count": null,
      "outputs": []
    },
    {
      "cell_type": "markdown",
      "metadata": {
        "id": "JOyVPp_YYiZL"
      },
      "source": [
        "## 2) Exemplo de extração dos dados de um ou mais \n",
        "## <font color='blue'>arquivos excel"
      ]
    },
    {
      "cell_type": "markdown",
      "metadata": {
        "tags": [],
        "id": "1jPvI3WwYiZL"
      },
      "source": [
        "### 2.1) Lendo um arquivo excel"
      ]
    },
    {
      "cell_type": "code",
      "metadata": {
        "id": "_iJ6F87xYiZL",
        "colab": {
          "base_uri": "https://localhost:8080/",
          "height": 436
        },
        "outputId": "ae2e971d-af26-4a0b-8eed-960dce38d4b0"
      },
      "source": [
        "arquivo = drive_dados + \"Concrete_Data.xls\"\n",
        "# link para o arquivo de dados:\n",
        "# https://docs.google.com/spreadsheets/d/1B9uv8eYEkG5rOEicGV0tKq1VZ8I2Ab0i/edit?usp=sharing&ouid=102913998158971928461&rtpof=true&sd=true\n",
        "\n",
        "# Carregando o dataset\n",
        "dataset = pd.read_excel(arquivo, names = names_columns, dtype = str)\n",
        "# Verificando as primeiras linhas do dataset\n",
        "dataset"
      ],
      "execution_count": null,
      "outputs": [
        {
          "output_type": "execute_result",
          "data": {
            "text/html": [
              "<div>\n",
              "<style scoped>\n",
              "    .dataframe tbody tr th:only-of-type {\n",
              "        vertical-align: middle;\n",
              "    }\n",
              "\n",
              "    .dataframe tbody tr th {\n",
              "        vertical-align: top;\n",
              "    }\n",
              "\n",
              "    .dataframe thead th {\n",
              "        text-align: right;\n",
              "    }\n",
              "</style>\n",
              "<table border=\"1\" class=\"dataframe\">\n",
              "  <thead>\n",
              "    <tr style=\"text-align: right;\">\n",
              "      <th></th>\n",
              "      <th>Cimento (X1)</th>\n",
              "      <th>Escoria de alto-forno (X2)</th>\n",
              "      <th>Cinzas (X3)</th>\n",
              "      <th>Agua (X4)</th>\n",
              "      <th>Superplastificante (X5)</th>\n",
              "      <th>Agregado grosso (X6)</th>\n",
              "      <th>Agregado fino (X7)</th>\n",
              "      <th>Idade (X8)</th>\n",
              "      <th>Forca de compressao do Concreto (Y1)</th>\n",
              "    </tr>\n",
              "  </thead>\n",
              "  <tbody>\n",
              "    <tr>\n",
              "      <th>0</th>\n",
              "      <td>540</td>\n",
              "      <td>0</td>\n",
              "      <td>0</td>\n",
              "      <td>162</td>\n",
              "      <td>2.5</td>\n",
              "      <td>1040</td>\n",
              "      <td>676</td>\n",
              "      <td>28</td>\n",
              "      <td>79.98611076</td>\n",
              "    </tr>\n",
              "    <tr>\n",
              "      <th>1</th>\n",
              "      <td>540</td>\n",
              "      <td>0</td>\n",
              "      <td>0</td>\n",
              "      <td>162</td>\n",
              "      <td>2.5</td>\n",
              "      <td>1055</td>\n",
              "      <td>676</td>\n",
              "      <td>28</td>\n",
              "      <td>61.887365759999994</td>\n",
              "    </tr>\n",
              "    <tr>\n",
              "      <th>2</th>\n",
              "      <td>332.5</td>\n",
              "      <td>142.5</td>\n",
              "      <td>0</td>\n",
              "      <td>228</td>\n",
              "      <td>0</td>\n",
              "      <td>932</td>\n",
              "      <td>594</td>\n",
              "      <td>270</td>\n",
              "      <td>40.269535256000005</td>\n",
              "    </tr>\n",
              "    <tr>\n",
              "      <th>3</th>\n",
              "      <td>332.5</td>\n",
              "      <td>142.5</td>\n",
              "      <td>0</td>\n",
              "      <td>228</td>\n",
              "      <td>0</td>\n",
              "      <td>932</td>\n",
              "      <td>594</td>\n",
              "      <td>365</td>\n",
              "      <td>41.052779992</td>\n",
              "    </tr>\n",
              "    <tr>\n",
              "      <th>4</th>\n",
              "      <td>198.6</td>\n",
              "      <td>132.4</td>\n",
              "      <td>0</td>\n",
              "      <td>192</td>\n",
              "      <td>0</td>\n",
              "      <td>978.4</td>\n",
              "      <td>825.5</td>\n",
              "      <td>360</td>\n",
              "      <td>44.296075096</td>\n",
              "    </tr>\n",
              "    <tr>\n",
              "      <th>...</th>\n",
              "      <td>...</td>\n",
              "      <td>...</td>\n",
              "      <td>...</td>\n",
              "      <td>...</td>\n",
              "      <td>...</td>\n",
              "      <td>...</td>\n",
              "      <td>...</td>\n",
              "      <td>...</td>\n",
              "      <td>...</td>\n",
              "    </tr>\n",
              "    <tr>\n",
              "      <th>1025</th>\n",
              "      <td>276.4</td>\n",
              "      <td>116</td>\n",
              "      <td>90.3</td>\n",
              "      <td>179.6</td>\n",
              "      <td>8.9</td>\n",
              "      <td>870.1</td>\n",
              "      <td>768.3</td>\n",
              "      <td>28</td>\n",
              "      <td>44.284354003999994</td>\n",
              "    </tr>\n",
              "    <tr>\n",
              "      <th>1026</th>\n",
              "      <td>322.2</td>\n",
              "      <td>0</td>\n",
              "      <td>115.6</td>\n",
              "      <td>196</td>\n",
              "      <td>10.4</td>\n",
              "      <td>817.9</td>\n",
              "      <td>813.4</td>\n",
              "      <td>28</td>\n",
              "      <td>31.178794196000002</td>\n",
              "    </tr>\n",
              "    <tr>\n",
              "      <th>1027</th>\n",
              "      <td>148.5</td>\n",
              "      <td>139.4</td>\n",
              "      <td>108.6</td>\n",
              "      <td>192.7</td>\n",
              "      <td>6.1</td>\n",
              "      <td>892.4</td>\n",
              "      <td>780</td>\n",
              "      <td>28</td>\n",
              "      <td>23.696600644</td>\n",
              "    </tr>\n",
              "    <tr>\n",
              "      <th>1028</th>\n",
              "      <td>159.1</td>\n",
              "      <td>186.7</td>\n",
              "      <td>0</td>\n",
              "      <td>175.6</td>\n",
              "      <td>11.3</td>\n",
              "      <td>989.6</td>\n",
              "      <td>788.9</td>\n",
              "      <td>28</td>\n",
              "      <td>32.768036376000005</td>\n",
              "    </tr>\n",
              "    <tr>\n",
              "      <th>1029</th>\n",
              "      <td>260.9</td>\n",
              "      <td>100.5</td>\n",
              "      <td>78.3</td>\n",
              "      <td>200.6</td>\n",
              "      <td>8.6</td>\n",
              "      <td>864.5</td>\n",
              "      <td>761.5</td>\n",
              "      <td>28</td>\n",
              "      <td>32.401235144</td>\n",
              "    </tr>\n",
              "  </tbody>\n",
              "</table>\n",
              "<p>1030 rows × 9 columns</p>\n",
              "</div>"
            ],
            "text/plain": [
              "     Cimento (X1) Escoria de alto-forno (X2) Cinzas (X3) Agua (X4) Superplastificante (X5) Agregado grosso (X6) Agregado fino (X7) Idade (X8) Forca de compressao do Concreto (Y1)\n",
              "0             540                          0           0       162                     2.5                 1040                676         28                          79.98611076\n",
              "1             540                          0           0       162                     2.5                 1055                676         28                   61.887365759999994\n",
              "2           332.5                      142.5           0       228                       0                  932                594        270                   40.269535256000005\n",
              "3           332.5                      142.5           0       228                       0                  932                594        365                         41.052779992\n",
              "4           198.6                      132.4           0       192                       0                978.4              825.5        360                         44.296075096\n",
              "...           ...                        ...         ...       ...                     ...                  ...                ...        ...                                  ...\n",
              "1025        276.4                        116        90.3     179.6                     8.9                870.1              768.3         28                   44.284354003999994\n",
              "1026        322.2                          0       115.6       196                    10.4                817.9              813.4         28                   31.178794196000002\n",
              "1027        148.5                      139.4       108.6     192.7                     6.1                892.4                780         28                         23.696600644\n",
              "1028        159.1                      186.7           0     175.6                    11.3                989.6              788.9         28                   32.768036376000005\n",
              "1029        260.9                      100.5        78.3     200.6                     8.6                864.5              761.5         28                         32.401235144\n",
              "\n",
              "[1030 rows x 9 columns]"
            ]
          },
          "metadata": {},
          "execution_count": 19
        }
      ]
    },
    {
      "cell_type": "markdown",
      "metadata": {
        "id": "zOKF_RORL1ua"
      },
      "source": [
        "## 3) Como preparar um dataset: \n",
        "### Passo a passo\n",
        "\n",
        "Ciência de dados na prática: entendendo processos essenciais para limpar e preparar um banco de dados.\n",
        "A ideia é que consigamos montar um checklist do que é necessário fazer para preparar um dataset antes de começar a analisá-lo de fato"
      ]
    },
    {
      "cell_type": "code",
      "metadata": {
        "colab": {
          "base_uri": "https://localhost:8080/"
        },
        "id": "69w-NtT0L1ud",
        "outputId": "fa8de946-24cd-4c25-b65e-0a9ab1d05121"
      },
      "source": [
        "# Verificando a quantidade de linhas e colunas\n",
        "print(dataset.shape)"
      ],
      "execution_count": null,
      "outputs": [
        {
          "output_type": "stream",
          "name": "stdout",
          "text": [
            "(1030, 9)\n"
          ]
        }
      ]
    },
    {
      "cell_type": "markdown",
      "metadata": {
        "id": "KP8ulsd-L1ue"
      },
      "source": [
        "### 3.1) Verificando o tipo de dados"
      ]
    },
    {
      "cell_type": "code",
      "metadata": {
        "colab": {
          "base_uri": "https://localhost:8080/"
        },
        "id": "0JoCs_CLL1uf",
        "outputId": "8a0cdfe7-0378-42db-f3d1-e03ce119fb59"
      },
      "source": [
        "# Tipos de Dados\n",
        "dataset.dtypes"
      ],
      "execution_count": null,
      "outputs": [
        {
          "output_type": "execute_result",
          "data": {
            "text/plain": [
              "Cimento (X1)                            object\n",
              "Escória de alto-forno (X2)              object\n",
              "Cinzas (X3)                             object\n",
              "Água (X4)                               object\n",
              "Superplastificante (X5)                 object\n",
              "Agregado grosso (X6)                    object\n",
              "Agregado fino (X7)                      object\n",
              "Idade (X8)                              object\n",
              "Força de compressão do Concreto (Y1)    object\n",
              "dtype: object"
            ]
          },
          "metadata": {},
          "execution_count": 6
        }
      ]
    },
    {
      "cell_type": "markdown",
      "metadata": {
        "id": "PyolSHy5UEXv"
      },
      "source": [
        "#### 3.1.1) Mudando o tipo de um atributo"
      ]
    },
    {
      "cell_type": "code",
      "metadata": {
        "id": "18mdxfbrL1uf"
      },
      "source": [
        "# Mudando o tipo de um atributo\n",
        "dataset[:] = dataset[:].astype(np.float64)"
      ],
      "execution_count": null,
      "outputs": []
    },
    {
      "cell_type": "markdown",
      "metadata": {
        "id": "a_Le6VkOL1ui"
      },
      "source": [
        "### 3.2) Verificando duplicatas de dados\n",
        "\n",
        "Valores duplicados são encontrados com frequência e dependendo da análise que será feita, esses valores podem alterar o resultado final.\n",
        "É importante realizar esse procedimento para garantir que os dados sejam únicos nas análises.\n",
        "\n",
        "O método duplicated() devolve uma Series booleana informando se possui algum valor duplicado.\n",
        "Referente a isso, entramos com o drop_duplicates(), que remove todos os valores repetidos."
      ]
    },
    {
      "cell_type": "code",
      "metadata": {
        "colab": {
          "base_uri": "https://localhost:8080/",
          "height": 238
        },
        "id": "ZSlbQHBwL1uj",
        "outputId": "b20dab7c-47fe-4f08-b280-2d9bba133c2a"
      },
      "source": [
        "# Verificando duplicatas das linhas\n",
        "duplicatas = dataset[dataset.duplicated()]\n",
        "print(duplicatas.shape)\n",
        "duplicatas.head()"
      ],
      "execution_count": null,
      "outputs": [
        {
          "output_type": "stream",
          "name": "stdout",
          "text": [
            "(25, 9)\n"
          ]
        },
        {
          "output_type": "execute_result",
          "data": {
            "text/html": [
              "<div>\n",
              "<style scoped>\n",
              "    .dataframe tbody tr th:only-of-type {\n",
              "        vertical-align: middle;\n",
              "    }\n",
              "\n",
              "    .dataframe tbody tr th {\n",
              "        vertical-align: top;\n",
              "    }\n",
              "\n",
              "    .dataframe thead th {\n",
              "        text-align: right;\n",
              "    }\n",
              "</style>\n",
              "<table border=\"1\" class=\"dataframe\">\n",
              "  <thead>\n",
              "    <tr style=\"text-align: right;\">\n",
              "      <th></th>\n",
              "      <th>Cimento (X1)</th>\n",
              "      <th>Escória de alto-forno (X2)</th>\n",
              "      <th>Cinzas (X3)</th>\n",
              "      <th>Água (X4)</th>\n",
              "      <th>Superplastificante (X5)</th>\n",
              "      <th>Agregado grosso (X6)</th>\n",
              "      <th>Agregado fino (X7)</th>\n",
              "      <th>Idade (X8)</th>\n",
              "      <th>Força de compressão do Concreto (Y1)</th>\n",
              "    </tr>\n",
              "  </thead>\n",
              "  <tbody>\n",
              "    <tr>\n",
              "      <th>77</th>\n",
              "      <td>425.0</td>\n",
              "      <td>106.3</td>\n",
              "      <td>0.0</td>\n",
              "      <td>153.5</td>\n",
              "      <td>16.5</td>\n",
              "      <td>852.1</td>\n",
              "      <td>887.1</td>\n",
              "      <td>3.0</td>\n",
              "      <td>33.398217</td>\n",
              "    </tr>\n",
              "    <tr>\n",
              "      <th>80</th>\n",
              "      <td>425.0</td>\n",
              "      <td>106.3</td>\n",
              "      <td>0.0</td>\n",
              "      <td>153.5</td>\n",
              "      <td>16.5</td>\n",
              "      <td>852.1</td>\n",
              "      <td>887.1</td>\n",
              "      <td>3.0</td>\n",
              "      <td>33.398217</td>\n",
              "    </tr>\n",
              "    <tr>\n",
              "      <th>86</th>\n",
              "      <td>362.6</td>\n",
              "      <td>189.0</td>\n",
              "      <td>0.0</td>\n",
              "      <td>164.9</td>\n",
              "      <td>11.6</td>\n",
              "      <td>944.7</td>\n",
              "      <td>755.8</td>\n",
              "      <td>3.0</td>\n",
              "      <td>35.301171</td>\n",
              "    </tr>\n",
              "    <tr>\n",
              "      <th>88</th>\n",
              "      <td>362.6</td>\n",
              "      <td>189.0</td>\n",
              "      <td>0.0</td>\n",
              "      <td>164.9</td>\n",
              "      <td>11.6</td>\n",
              "      <td>944.7</td>\n",
              "      <td>755.8</td>\n",
              "      <td>3.0</td>\n",
              "      <td>35.301171</td>\n",
              "    </tr>\n",
              "    <tr>\n",
              "      <th>91</th>\n",
              "      <td>362.6</td>\n",
              "      <td>189.0</td>\n",
              "      <td>0.0</td>\n",
              "      <td>164.9</td>\n",
              "      <td>11.6</td>\n",
              "      <td>944.7</td>\n",
              "      <td>755.8</td>\n",
              "      <td>3.0</td>\n",
              "      <td>35.301171</td>\n",
              "    </tr>\n",
              "  </tbody>\n",
              "</table>\n",
              "</div>"
            ],
            "text/plain": [
              "    Cimento (X1)  Escória de alto-forno (X2)  Cinzas (X3)  Água (X4)  Superplastificante (X5)  Agregado grosso (X6)  Agregado fino (X7)  Idade (X8)  Força de compressão do Concreto (Y1)\n",
              "77         425.0                       106.3          0.0      153.5                     16.5                 852.1               887.1         3.0                             33.398217\n",
              "80         425.0                       106.3          0.0      153.5                     16.5                 852.1               887.1         3.0                             33.398217\n",
              "86         362.6                       189.0          0.0      164.9                     11.6                 944.7               755.8         3.0                             35.301171\n",
              "88         362.6                       189.0          0.0      164.9                     11.6                 944.7               755.8         3.0                             35.301171\n",
              "91         362.6                       189.0          0.0      164.9                     11.6                 944.7               755.8         3.0                             35.301171"
            ]
          },
          "metadata": {},
          "execution_count": 9
        }
      ]
    },
    {
      "cell_type": "code",
      "metadata": {
        "id": "dvVk_1UXL1uk",
        "colab": {
          "base_uri": "https://localhost:8080/"
        },
        "outputId": "caf7e603-f502-4694-8a8f-22ebe997b38e"
      },
      "source": [
        "# Removendo as duplicatas e verificando a quantidade de linhas e colunas\n",
        "# A modificação não será gravada no dataset a menos que façamos a atribuição com inplace=True\n",
        "dataset.drop_duplicates(inplace=True)\n",
        "dataset.shape"
      ],
      "execution_count": null,
      "outputs": [
        {
          "output_type": "execute_result",
          "data": {
            "text/plain": [
              "(1005, 9)"
            ]
          },
          "metadata": {},
          "execution_count": 21
        }
      ]
    },
    {
      "cell_type": "markdown",
      "metadata": {
        "id": "Uz6g5tdgL1uk"
      },
      "source": [
        "### 3.3) Verificando valores nulos (missing)\n",
        "\n",
        "Verificamos se existem valores nulos. \n",
        "Se a base apresenta muitos valores nulos, será necessário tratá-las.\n",
        "\n",
        "Todavia, antes de sair substituindo os valores, é preciso entender o que cada coluna representa, bem como criar colunas novas para marcar aqueles valores que foram incluídos manualmente na base.\n",
        "\n",
        "São algumas das ações que podemos tomar:\n",
        "<ol>\n",
        "<li>Dropar a coluna que contenha dados nulos;</li>\n",
        "<li>Dropar apenas as linhas com dados nulos;</li>\n",
        "<li>Substituir pela média da coluna;</li>\n",
        "<li>Substituir por um valor fixo.</li>\n",
        "</ol>\n",
        "\n",
        "\n"
      ]
    },
    {
      "cell_type": "code",
      "metadata": {
        "colab": {
          "base_uri": "https://localhost:8080/"
        },
        "id": "qx03Co6kL1ul",
        "outputId": "a545d897-53c1-4a10-eac4-7484c156e256"
      },
      "source": [
        "# Verificando se existem valores nulos\n",
        "dataset.isnull().values.any()"
      ],
      "execution_count": null,
      "outputs": [
        {
          "output_type": "execute_result",
          "data": {
            "text/plain": [
              "False"
            ]
          },
          "metadata": {},
          "execution_count": 11
        }
      ]
    },
    {
      "cell_type": "code",
      "metadata": {
        "id": "rOzC3hmrL1ul",
        "colab": {
          "base_uri": "https://localhost:8080/"
        },
        "outputId": "0f862eed-3161-47d6-9370-62e28b9cb2e7"
      },
      "source": [
        "# Verificação da quantidade de valores nulos dentro do DataFrame\n",
        "print(dataset.isna().sum())\n",
        "print(f'\\nTotal de valores missing: {dataset.isna().sum().sum()}')"
      ],
      "execution_count": null,
      "outputs": [
        {
          "output_type": "stream",
          "name": "stdout",
          "text": [
            "Cimento (X1)                            0\n",
            "Escória de alto-forno (X2)              0\n",
            "Cinzas (X3)                             0\n",
            "Água (X4)                               0\n",
            "Superplastificante (X5)                 0\n",
            "Agregado grosso (X6)                    0\n",
            "Agregado fino (X7)                      0\n",
            "Idade (X8)                              0\n",
            "Força de compressão do Concreto (Y1)    0\n",
            "dtype: int64\n",
            "\n",
            "Total de valores missing: 0\n"
          ]
        }
      ]
    },
    {
      "cell_type": "markdown",
      "metadata": {
        "id": "_6GrwbO9L1wh"
      },
      "source": [
        "### 4) Salvando o banco de dados após pre-processamento"
      ]
    },
    {
      "cell_type": "code",
      "metadata": {
        "colab": {
          "base_uri": "https://localhost:8080/",
          "height": 436
        },
        "id": "ivW_knJQL1wh",
        "outputId": "ff2a99ea-61fc-486c-e0bf-115d33c75218"
      },
      "source": [
        "dataset.to_csv(drive_dados + 'Dados_pre_processados.csv', index = True)\n",
        "dataset"
      ],
      "execution_count": null,
      "outputs": [
        {
          "output_type": "execute_result",
          "data": {
            "text/html": [
              "<div>\n",
              "<style scoped>\n",
              "    .dataframe tbody tr th:only-of-type {\n",
              "        vertical-align: middle;\n",
              "    }\n",
              "\n",
              "    .dataframe tbody tr th {\n",
              "        vertical-align: top;\n",
              "    }\n",
              "\n",
              "    .dataframe thead th {\n",
              "        text-align: right;\n",
              "    }\n",
              "</style>\n",
              "<table border=\"1\" class=\"dataframe\">\n",
              "  <thead>\n",
              "    <tr style=\"text-align: right;\">\n",
              "      <th></th>\n",
              "      <th>Cimento (X1)</th>\n",
              "      <th>Escoria de alto-forno (X2)</th>\n",
              "      <th>Cinzas (X3)</th>\n",
              "      <th>Agua (X4)</th>\n",
              "      <th>Superplastificante (X5)</th>\n",
              "      <th>Agregado grosso (X6)</th>\n",
              "      <th>Agregado fino (X7)</th>\n",
              "      <th>Idade (X8)</th>\n",
              "      <th>Forca de compressao do Concreto (Y1)</th>\n",
              "    </tr>\n",
              "  </thead>\n",
              "  <tbody>\n",
              "    <tr>\n",
              "      <th>0</th>\n",
              "      <td>540.0</td>\n",
              "      <td>0.0</td>\n",
              "      <td>0.0</td>\n",
              "      <td>162.0</td>\n",
              "      <td>2.5</td>\n",
              "      <td>1040.0</td>\n",
              "      <td>676.0</td>\n",
              "      <td>28.0</td>\n",
              "      <td>79.986111</td>\n",
              "    </tr>\n",
              "    <tr>\n",
              "      <th>1</th>\n",
              "      <td>540.0</td>\n",
              "      <td>0.0</td>\n",
              "      <td>0.0</td>\n",
              "      <td>162.0</td>\n",
              "      <td>2.5</td>\n",
              "      <td>1055.0</td>\n",
              "      <td>676.0</td>\n",
              "      <td>28.0</td>\n",
              "      <td>61.887366</td>\n",
              "    </tr>\n",
              "    <tr>\n",
              "      <th>2</th>\n",
              "      <td>332.5</td>\n",
              "      <td>142.5</td>\n",
              "      <td>0.0</td>\n",
              "      <td>228.0</td>\n",
              "      <td>0.0</td>\n",
              "      <td>932.0</td>\n",
              "      <td>594.0</td>\n",
              "      <td>270.0</td>\n",
              "      <td>40.269535</td>\n",
              "    </tr>\n",
              "    <tr>\n",
              "      <th>3</th>\n",
              "      <td>332.5</td>\n",
              "      <td>142.5</td>\n",
              "      <td>0.0</td>\n",
              "      <td>228.0</td>\n",
              "      <td>0.0</td>\n",
              "      <td>932.0</td>\n",
              "      <td>594.0</td>\n",
              "      <td>365.0</td>\n",
              "      <td>41.052780</td>\n",
              "    </tr>\n",
              "    <tr>\n",
              "      <th>4</th>\n",
              "      <td>198.6</td>\n",
              "      <td>132.4</td>\n",
              "      <td>0.0</td>\n",
              "      <td>192.0</td>\n",
              "      <td>0.0</td>\n",
              "      <td>978.4</td>\n",
              "      <td>825.5</td>\n",
              "      <td>360.0</td>\n",
              "      <td>44.296075</td>\n",
              "    </tr>\n",
              "    <tr>\n",
              "      <th>...</th>\n",
              "      <td>...</td>\n",
              "      <td>...</td>\n",
              "      <td>...</td>\n",
              "      <td>...</td>\n",
              "      <td>...</td>\n",
              "      <td>...</td>\n",
              "      <td>...</td>\n",
              "      <td>...</td>\n",
              "      <td>...</td>\n",
              "    </tr>\n",
              "    <tr>\n",
              "      <th>1025</th>\n",
              "      <td>276.4</td>\n",
              "      <td>116.0</td>\n",
              "      <td>90.3</td>\n",
              "      <td>179.6</td>\n",
              "      <td>8.9</td>\n",
              "      <td>870.1</td>\n",
              "      <td>768.3</td>\n",
              "      <td>28.0</td>\n",
              "      <td>44.284354</td>\n",
              "    </tr>\n",
              "    <tr>\n",
              "      <th>1026</th>\n",
              "      <td>322.2</td>\n",
              "      <td>0.0</td>\n",
              "      <td>115.6</td>\n",
              "      <td>196.0</td>\n",
              "      <td>10.4</td>\n",
              "      <td>817.9</td>\n",
              "      <td>813.4</td>\n",
              "      <td>28.0</td>\n",
              "      <td>31.178794</td>\n",
              "    </tr>\n",
              "    <tr>\n",
              "      <th>1027</th>\n",
              "      <td>148.5</td>\n",
              "      <td>139.4</td>\n",
              "      <td>108.6</td>\n",
              "      <td>192.7</td>\n",
              "      <td>6.1</td>\n",
              "      <td>892.4</td>\n",
              "      <td>780.0</td>\n",
              "      <td>28.0</td>\n",
              "      <td>23.696601</td>\n",
              "    </tr>\n",
              "    <tr>\n",
              "      <th>1028</th>\n",
              "      <td>159.1</td>\n",
              "      <td>186.7</td>\n",
              "      <td>0.0</td>\n",
              "      <td>175.6</td>\n",
              "      <td>11.3</td>\n",
              "      <td>989.6</td>\n",
              "      <td>788.9</td>\n",
              "      <td>28.0</td>\n",
              "      <td>32.768036</td>\n",
              "    </tr>\n",
              "    <tr>\n",
              "      <th>1029</th>\n",
              "      <td>260.9</td>\n",
              "      <td>100.5</td>\n",
              "      <td>78.3</td>\n",
              "      <td>200.6</td>\n",
              "      <td>8.6</td>\n",
              "      <td>864.5</td>\n",
              "      <td>761.5</td>\n",
              "      <td>28.0</td>\n",
              "      <td>32.401235</td>\n",
              "    </tr>\n",
              "  </tbody>\n",
              "</table>\n",
              "<p>1005 rows × 9 columns</p>\n",
              "</div>"
            ],
            "text/plain": [
              "      Cimento (X1)  Escoria de alto-forno (X2)  Cinzas (X3)  Agua (X4)  Superplastificante (X5)  Agregado grosso (X6)  Agregado fino (X7)  Idade (X8)  Forca de compressao do Concreto (Y1)\n",
              "0            540.0                         0.0          0.0      162.0                      2.5                1040.0               676.0        28.0                             79.986111\n",
              "1            540.0                         0.0          0.0      162.0                      2.5                1055.0               676.0        28.0                             61.887366\n",
              "2            332.5                       142.5          0.0      228.0                      0.0                 932.0               594.0       270.0                             40.269535\n",
              "3            332.5                       142.5          0.0      228.0                      0.0                 932.0               594.0       365.0                             41.052780\n",
              "4            198.6                       132.4          0.0      192.0                      0.0                 978.4               825.5       360.0                             44.296075\n",
              "...            ...                         ...          ...        ...                      ...                   ...                 ...         ...                                   ...\n",
              "1025         276.4                       116.0         90.3      179.6                      8.9                 870.1               768.3        28.0                             44.284354\n",
              "1026         322.2                         0.0        115.6      196.0                     10.4                 817.9               813.4        28.0                             31.178794\n",
              "1027         148.5                       139.4        108.6      192.7                      6.1                 892.4               780.0        28.0                             23.696601\n",
              "1028         159.1                       186.7          0.0      175.6                     11.3                 989.6               788.9        28.0                             32.768036\n",
              "1029         260.9                       100.5         78.3      200.6                      8.6                 864.5               761.5        28.0                             32.401235\n",
              "\n",
              "[1005 rows x 9 columns]"
            ]
          },
          "metadata": {},
          "execution_count": 22
        }
      ]
    }
  ]
}