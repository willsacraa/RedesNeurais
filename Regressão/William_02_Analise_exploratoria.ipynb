{
  "nbformat": 4,
  "nbformat_minor": 0,
  "metadata": {
    "kernelspec": {
      "display_name": "Python 3",
      "language": "python",
      "name": "python3"
    },
    "language_info": {
      "codemirror_mode": {
        "name": "ipython",
        "version": 3
      },
      "file_extension": ".py",
      "mimetype": "text/x-python",
      "name": "python",
      "nbconvert_exporter": "python",
      "pygments_lexer": "ipython3",
      "version": "3.8.3"
    },
    "latex_envs": {
      "LaTeX_envs_menu_present": true,
      "autoclose": false,
      "autocomplete": true,
      "bibliofile": "biblio.bib",
      "cite_by": "apalike",
      "current_citInitial": 1,
      "eqLabelWithNumbers": true,
      "eqNumInitial": 1,
      "hotkeys": {
        "equation": "Ctrl-E",
        "itemize": "Ctrl-I"
      },
      "labels_anchors": false,
      "latex_user_defs": false,
      "report_style_numbering": false,
      "user_envs_cfg": false
    },
    "colab": {
      "provenance": [],
      "collapsed_sections": []
    }
  },
  "cells": [
    {
      "cell_type": "markdown",
      "metadata": {
        "id": "XPl0SVtHZlao"
      },
      "source": [
        "# <font color='blue'>Análise exploratória dos dados</font>"
      ]
    },
    {
      "cell_type": "markdown",
      "metadata": {
        "id": "OvLzzE-_Ys-L"
      },
      "source": [
        "## Montando DRIVE"
      ]
    },
    {
      "cell_type": "markdown",
      "metadata": {
        "id": "JhLVCpFjaKW8"
      },
      "source": [
        "Corrigir, pelo professor, a próxima célula para o destino correto do Drive"
      ]
    },
    {
      "cell_type": "code",
      "metadata": {
        "id": "p_VNc4ezYxlN",
        "colab": {
          "base_uri": "https://localhost:8080/"
        },
        "outputId": "65cbcb0e-e43f-4a8e-9de0-031caa0ef0da"
      },
      "source": [
        "from google.colab import drive\n",
        "drive.mount('/content/drive')\n",
        "\n",
        "drive_dados = '/content/drive/MyDrive/UFSB/Componentes_curriculares/RNA/_02_Regressao/' # Colocar uma barra no final do endereço"
      ],
      "execution_count": null,
      "outputs": [
        {
          "output_type": "stream",
          "name": "stdout",
          "text": [
            "Drive already mounted at /content/drive; to attempt to forcibly remount, call drive.mount(\"/content/drive\", force_remount=True).\n"
          ]
        }
      ]
    },
    {
      "cell_type": "markdown",
      "metadata": {
        "id": "A1-8WtqkZlaq"
      },
      "source": [
        "## 1) Importando bibliotecas\n",
        "\n",
        "Importar as bibliotecas e o arquivo que serão utilizadas durante as análises. "
      ]
    },
    {
      "cell_type": "code",
      "metadata": {
        "colab": {
          "base_uri": "https://localhost:8080/"
        },
        "id": "EyGQmit5Zlar",
        "outputId": "e560f82b-3fdd-48cb-9e10-ebf74cd9f1b5"
      },
      "source": [
        "# Imports bilbliotecas básica\n",
        "# ===========================\n",
        "import numpy as np\n",
        "import matplotlib.pyplot as plt\n",
        "%matplotlib inline \n",
        "import pandas as pd\n",
        "pd.set_option('display.max_columns', None)  \n",
        "pd.set_option('display.expand_frame_repr', False)\n",
        "pd.set_option('max_colwidth', None)\n",
        "\n",
        "# Imports bilbliotecas com funções importantes\n",
        "# ============================================\n",
        "import seaborn as sns\n",
        "from sklearn.preprocessing import LabelEncoder\n",
        "import statsmodels.api as sm"
      ],
      "execution_count": null,
      "outputs": [
        {
          "output_type": "stream",
          "name": "stderr",
          "text": [
            "/usr/local/lib/python3.7/dist-packages/statsmodels/tools/_testing.py:19: FutureWarning: pandas.util.testing is deprecated. Use the functions in the public API at pandas.testing instead.\n",
            "  import pandas.util.testing as tm\n"
          ]
        }
      ]
    },
    {
      "cell_type": "markdown",
      "metadata": {
        "id": "v1DnZdSKZlas"
      },
      "source": [
        "## 2) Extrai os dados do csv ou txt\n",
        "Um dos grandes problemas que encontramos é mal uso de separador e de encoding, então é importante se atentar a esses argumentos.\n",
        "\n",
        "É muito importante ressaltar que colocar os argumentos de separador e de encoding quando está lendo um arquivo evita problemas como os dados que não tenham sido separados corretamente.\n",
        "\n",
        "Fonte dos dados: Dados pre-processados."
      ]
    },
    {
      "cell_type": "code",
      "metadata": {
        "colab": {
          "base_uri": "https://localhost:8080/",
          "height": 238
        },
        "id": "b7vDjkAkZlas",
        "outputId": "c6f3e359-56f4-4c65-c103-b397a1c1e3f7"
      },
      "source": [
        "# Carregando o dataset\n",
        "dataset = pd.read_csv(drive_dados + \"Dados_pre_processados.csv\", encoding = 'latin-1', sep = ',')\n",
        "dataset.drop(columns = [\"Unnamed: 0\"], inplace=True)\n",
        "# Verificando as primeiras linhas do dataset\n",
        "print(dataset.shape)\n",
        "dataset.head(5)"
      ],
      "execution_count": null,
      "outputs": [
        {
          "output_type": "stream",
          "name": "stdout",
          "text": [
            "(1005, 9)\n"
          ]
        },
        {
          "output_type": "execute_result",
          "data": {
            "text/html": [
              "<div>\n",
              "<style scoped>\n",
              "    .dataframe tbody tr th:only-of-type {\n",
              "        vertical-align: middle;\n",
              "    }\n",
              "\n",
              "    .dataframe tbody tr th {\n",
              "        vertical-align: top;\n",
              "    }\n",
              "\n",
              "    .dataframe thead th {\n",
              "        text-align: right;\n",
              "    }\n",
              "</style>\n",
              "<table border=\"1\" class=\"dataframe\">\n",
              "  <thead>\n",
              "    <tr style=\"text-align: right;\">\n",
              "      <th></th>\n",
              "      <th>Cimento (X1)</th>\n",
              "      <th>Escoria de alto-forno (X2)</th>\n",
              "      <th>Cinzas (X3)</th>\n",
              "      <th>Agua (X4)</th>\n",
              "      <th>Superplastificante (X5)</th>\n",
              "      <th>Agregado grosso (X6)</th>\n",
              "      <th>Agregado fino (X7)</th>\n",
              "      <th>Idade (X8)</th>\n",
              "      <th>Forca de compressao do Concreto (Y1)</th>\n",
              "    </tr>\n",
              "  </thead>\n",
              "  <tbody>\n",
              "    <tr>\n",
              "      <th>0</th>\n",
              "      <td>540.0</td>\n",
              "      <td>0.0</td>\n",
              "      <td>0.0</td>\n",
              "      <td>162.0</td>\n",
              "      <td>2.5</td>\n",
              "      <td>1040.0</td>\n",
              "      <td>676.0</td>\n",
              "      <td>28.0</td>\n",
              "      <td>79.986111</td>\n",
              "    </tr>\n",
              "    <tr>\n",
              "      <th>1</th>\n",
              "      <td>540.0</td>\n",
              "      <td>0.0</td>\n",
              "      <td>0.0</td>\n",
              "      <td>162.0</td>\n",
              "      <td>2.5</td>\n",
              "      <td>1055.0</td>\n",
              "      <td>676.0</td>\n",
              "      <td>28.0</td>\n",
              "      <td>61.887366</td>\n",
              "    </tr>\n",
              "    <tr>\n",
              "      <th>2</th>\n",
              "      <td>332.5</td>\n",
              "      <td>142.5</td>\n",
              "      <td>0.0</td>\n",
              "      <td>228.0</td>\n",
              "      <td>0.0</td>\n",
              "      <td>932.0</td>\n",
              "      <td>594.0</td>\n",
              "      <td>270.0</td>\n",
              "      <td>40.269535</td>\n",
              "    </tr>\n",
              "    <tr>\n",
              "      <th>3</th>\n",
              "      <td>332.5</td>\n",
              "      <td>142.5</td>\n",
              "      <td>0.0</td>\n",
              "      <td>228.0</td>\n",
              "      <td>0.0</td>\n",
              "      <td>932.0</td>\n",
              "      <td>594.0</td>\n",
              "      <td>365.0</td>\n",
              "      <td>41.052780</td>\n",
              "    </tr>\n",
              "    <tr>\n",
              "      <th>4</th>\n",
              "      <td>198.6</td>\n",
              "      <td>132.4</td>\n",
              "      <td>0.0</td>\n",
              "      <td>192.0</td>\n",
              "      <td>0.0</td>\n",
              "      <td>978.4</td>\n",
              "      <td>825.5</td>\n",
              "      <td>360.0</td>\n",
              "      <td>44.296075</td>\n",
              "    </tr>\n",
              "  </tbody>\n",
              "</table>\n",
              "</div>"
            ],
            "text/plain": [
              "   Cimento (X1)  Escoria de alto-forno (X2)  Cinzas (X3)  Agua (X4)  Superplastificante (X5)  Agregado grosso (X6)  Agregado fino (X7)  Idade (X8)  Forca de compressao do Concreto (Y1)\n",
              "0         540.0                         0.0          0.0      162.0                      2.5                1040.0               676.0        28.0                             79.986111\n",
              "1         540.0                         0.0          0.0      162.0                      2.5                1055.0               676.0        28.0                             61.887366\n",
              "2         332.5                       142.5          0.0      228.0                      0.0                 932.0               594.0       270.0                             40.269535\n",
              "3         332.5                       142.5          0.0      228.0                      0.0                 932.0               594.0       365.0                             41.052780\n",
              "4         198.6                       132.4          0.0      192.0                      0.0                 978.4               825.5       360.0                             44.296075"
            ]
          },
          "metadata": {},
          "execution_count": 6
        }
      ]
    },
    {
      "cell_type": "markdown",
      "metadata": {
        "id": "VcIqxU3NZlas"
      },
      "source": [
        "Note que não utilizamos o encoding utf-8, pois com o seu uso podemos ter apenas de 0-127 valores, portanto utilzamos o latin-1, que também é conhecido como ISO-8859–1, e que cobre de 0–255 valores."
      ]
    },
    {
      "cell_type": "markdown",
      "metadata": {
        "id": "qTMcwvyGZlat"
      },
      "source": [
        "## 3) Definindo variáveis contínuas e categóricas (Exceto a saída)\n",
        "Para fins de visualização, dividiremos os dados em variáveis contínuas e categóricas. \n",
        "\n",
        "Trataremos todas as variáveis com menos de 10 entradas únicas como categóricas."
      ]
    },
    {
      "cell_type": "code",
      "metadata": {
        "colab": {
          "base_uri": "https://localhost:8080/"
        },
        "id": "d5Z6g-pGZlat",
        "outputId": "275031c6-a895-407f-a4d1-353cc022d07f"
      },
      "source": [
        "# Verificando Valores Únicos\n",
        "dataset.nunique()"
      ],
      "execution_count": null,
      "outputs": [
        {
          "output_type": "execute_result",
          "data": {
            "text/plain": [
              "Cimento (X1)                            280\n",
              "Escoria de alto-forno (X2)              187\n",
              "Cinzas (X3)                             163\n",
              "Agua (X4)                               205\n",
              "Superplastificante (X5)                 155\n",
              "Agregado grosso (X6)                    284\n",
              "Agregado fino (X7)                      304\n",
              "Idade (X8)                               14\n",
              "Forca de compressao do Concreto (Y1)    938\n",
              "dtype: int64"
            ]
          },
          "metadata": {},
          "execution_count": 7
        }
      ]
    },
    {
      "cell_type": "markdown",
      "metadata": {
        "id": "iT_CxXjuZlat"
      },
      "source": [
        "### 3.1) Dividindo o dataset entre variáveis continuas e categoricas e separando as colunas vinculadas a variável target"
      ]
    },
    {
      "cell_type": "code",
      "metadata": {
        "id": "4zq0jEdOZlat"
      },
      "source": [
        "# Preparando os dados para a separação entre variáveis contínuas e categóricas\n",
        "n_entradas = 5\n",
        "\n",
        "# Listas vazias para os resultados\n",
        "continuous = []\n",
        "categorical = []\n",
        "\n",
        "# Loop pelas colunas menos as colunas relacionadas ao target\n",
        "targets = ['Forca de compressao do Concreto (Y1)']\n",
        "columns = [elemento for elemento in dataset.columns if elemento not in targets]\n",
        "for c in columns:\n",
        "    if dataset.nunique()[c] >= n_entradas:\n",
        "        continuous.append(c)\n",
        "    else:\n",
        "        categorical.append(c)"
      ],
      "execution_count": null,
      "outputs": []
    },
    {
      "cell_type": "markdown",
      "metadata": {
        "id": "5sG_vAcfZlat"
      },
      "source": [
        "#### 3.1.1) Variáveis contínuas"
      ]
    },
    {
      "cell_type": "code",
      "metadata": {
        "colab": {
          "base_uri": "https://localhost:8080/",
          "height": 221
        },
        "id": "O5E6qjhMZlat",
        "outputId": "1bfbba3c-2d6a-48c6-a694-74ab7a9889a9"
      },
      "source": [
        "print(f'{len(continuous)} de {dataset.shape[1]-len(targets)} variáveis de preditoras foram classificadas como continuas no dataset.')\n",
        "dataset[continuous].head()"
      ],
      "execution_count": null,
      "outputs": [
        {
          "output_type": "stream",
          "name": "stdout",
          "text": [
            "8 de 8 variáveis de preditoras foram classificadas como continuas no dataset.\n"
          ]
        },
        {
          "output_type": "execute_result",
          "data": {
            "text/html": [
              "<div>\n",
              "<style scoped>\n",
              "    .dataframe tbody tr th:only-of-type {\n",
              "        vertical-align: middle;\n",
              "    }\n",
              "\n",
              "    .dataframe tbody tr th {\n",
              "        vertical-align: top;\n",
              "    }\n",
              "\n",
              "    .dataframe thead th {\n",
              "        text-align: right;\n",
              "    }\n",
              "</style>\n",
              "<table border=\"1\" class=\"dataframe\">\n",
              "  <thead>\n",
              "    <tr style=\"text-align: right;\">\n",
              "      <th></th>\n",
              "      <th>Cimento (X1)</th>\n",
              "      <th>Escoria de alto-forno (X2)</th>\n",
              "      <th>Cinzas (X3)</th>\n",
              "      <th>Agua (X4)</th>\n",
              "      <th>Superplastificante (X5)</th>\n",
              "      <th>Agregado grosso (X6)</th>\n",
              "      <th>Agregado fino (X7)</th>\n",
              "      <th>Idade (X8)</th>\n",
              "    </tr>\n",
              "  </thead>\n",
              "  <tbody>\n",
              "    <tr>\n",
              "      <th>0</th>\n",
              "      <td>540.0</td>\n",
              "      <td>0.0</td>\n",
              "      <td>0.0</td>\n",
              "      <td>162.0</td>\n",
              "      <td>2.5</td>\n",
              "      <td>1040.0</td>\n",
              "      <td>676.0</td>\n",
              "      <td>28.0</td>\n",
              "    </tr>\n",
              "    <tr>\n",
              "      <th>1</th>\n",
              "      <td>540.0</td>\n",
              "      <td>0.0</td>\n",
              "      <td>0.0</td>\n",
              "      <td>162.0</td>\n",
              "      <td>2.5</td>\n",
              "      <td>1055.0</td>\n",
              "      <td>676.0</td>\n",
              "      <td>28.0</td>\n",
              "    </tr>\n",
              "    <tr>\n",
              "      <th>2</th>\n",
              "      <td>332.5</td>\n",
              "      <td>142.5</td>\n",
              "      <td>0.0</td>\n",
              "      <td>228.0</td>\n",
              "      <td>0.0</td>\n",
              "      <td>932.0</td>\n",
              "      <td>594.0</td>\n",
              "      <td>270.0</td>\n",
              "    </tr>\n",
              "    <tr>\n",
              "      <th>3</th>\n",
              "      <td>332.5</td>\n",
              "      <td>142.5</td>\n",
              "      <td>0.0</td>\n",
              "      <td>228.0</td>\n",
              "      <td>0.0</td>\n",
              "      <td>932.0</td>\n",
              "      <td>594.0</td>\n",
              "      <td>365.0</td>\n",
              "    </tr>\n",
              "    <tr>\n",
              "      <th>4</th>\n",
              "      <td>198.6</td>\n",
              "      <td>132.4</td>\n",
              "      <td>0.0</td>\n",
              "      <td>192.0</td>\n",
              "      <td>0.0</td>\n",
              "      <td>978.4</td>\n",
              "      <td>825.5</td>\n",
              "      <td>360.0</td>\n",
              "    </tr>\n",
              "  </tbody>\n",
              "</table>\n",
              "</div>"
            ],
            "text/plain": [
              "   Cimento (X1)  Escoria de alto-forno (X2)  Cinzas (X3)  Agua (X4)  Superplastificante (X5)  Agregado grosso (X6)  Agregado fino (X7)  Idade (X8)\n",
              "0         540.0                         0.0          0.0      162.0                      2.5                1040.0               676.0        28.0\n",
              "1         540.0                         0.0          0.0      162.0                      2.5                1055.0               676.0        28.0\n",
              "2         332.5                       142.5          0.0      228.0                      0.0                 932.0               594.0       270.0\n",
              "3         332.5                       142.5          0.0      228.0                      0.0                 932.0               594.0       365.0\n",
              "4         198.6                       132.4          0.0      192.0                      0.0                 978.4               825.5       360.0"
            ]
          },
          "metadata": {},
          "execution_count": 9
        }
      ]
    },
    {
      "cell_type": "markdown",
      "metadata": {
        "id": "MqBk4rdSZlau"
      },
      "source": [
        "#### 3.1.2) Variáveis categóricas"
      ]
    },
    {
      "cell_type": "code",
      "metadata": {
        "colab": {
          "base_uri": "https://localhost:8080/",
          "height": 204
        },
        "id": "Jd3DbD7yZlau",
        "outputId": "4a1830c3-a914-435d-acb3-1b909becd5f5"
      },
      "source": [
        "\n",
        "print(f'{len(categorical)} de {dataset.shape[1]-len(targets)} variáveis preditoras foram classificadas como categóricas no dataset.')\n",
        "dataset[categorical].head()"
      ],
      "execution_count": null,
      "outputs": [
        {
          "output_type": "stream",
          "name": "stdout",
          "text": [
            "0 de 8 variáveis preditoras foram classificadas como categóricas no dataset.\n"
          ]
        },
        {
          "output_type": "execute_result",
          "data": {
            "text/html": [
              "<div>\n",
              "<style scoped>\n",
              "    .dataframe tbody tr th:only-of-type {\n",
              "        vertical-align: middle;\n",
              "    }\n",
              "\n",
              "    .dataframe tbody tr th {\n",
              "        vertical-align: top;\n",
              "    }\n",
              "\n",
              "    .dataframe thead th {\n",
              "        text-align: right;\n",
              "    }\n",
              "</style>\n",
              "<table border=\"1\" class=\"dataframe\">\n",
              "  <thead>\n",
              "    <tr style=\"text-align: right;\">\n",
              "      <th></th>\n",
              "    </tr>\n",
              "  </thead>\n",
              "  <tbody>\n",
              "    <tr>\n",
              "      <th>0</th>\n",
              "    </tr>\n",
              "    <tr>\n",
              "      <th>1</th>\n",
              "    </tr>\n",
              "    <tr>\n",
              "      <th>2</th>\n",
              "    </tr>\n",
              "    <tr>\n",
              "      <th>3</th>\n",
              "    </tr>\n",
              "    <tr>\n",
              "      <th>4</th>\n",
              "    </tr>\n",
              "  </tbody>\n",
              "</table>\n",
              "</div>"
            ],
            "text/plain": [
              "Empty DataFrame\n",
              "Columns: []\n",
              "Index: [0, 1, 2, 3, 4]"
            ]
          },
          "metadata": {},
          "execution_count": 10
        }
      ]
    },
    {
      "cell_type": "markdown",
      "metadata": {
        "id": "gN5l90faZlau"
      },
      "source": [
        "### 3.2) Mudando variáveis de classes (contínua/categórica)"
      ]
    },
    {
      "cell_type": "code",
      "metadata": {
        "colab": {
          "base_uri": "https://localhost:8080/",
          "height": 204
        },
        "id": "zyJC-sLaZlau",
        "outputId": "14cb4bfd-ebbf-4a97-e57d-51313d2b9c6a"
      },
      "source": [
        "# Remove variáveis da classe continua\n",
        "val_remove = [\"Idade (X8)\"]\n",
        "for classe in val_remove:\n",
        "    if(classe in continuous):\n",
        "        continuous.remove(classe)\n",
        "        categorical.append(classe)\n",
        "    \n",
        "# Variáveis continuas\n",
        "dataset[continuous].head()"
      ],
      "execution_count": null,
      "outputs": [
        {
          "output_type": "execute_result",
          "data": {
            "text/html": [
              "<div>\n",
              "<style scoped>\n",
              "    .dataframe tbody tr th:only-of-type {\n",
              "        vertical-align: middle;\n",
              "    }\n",
              "\n",
              "    .dataframe tbody tr th {\n",
              "        vertical-align: top;\n",
              "    }\n",
              "\n",
              "    .dataframe thead th {\n",
              "        text-align: right;\n",
              "    }\n",
              "</style>\n",
              "<table border=\"1\" class=\"dataframe\">\n",
              "  <thead>\n",
              "    <tr style=\"text-align: right;\">\n",
              "      <th></th>\n",
              "      <th>Cimento (X1)</th>\n",
              "      <th>Escoria de alto-forno (X2)</th>\n",
              "      <th>Cinzas (X3)</th>\n",
              "      <th>Agua (X4)</th>\n",
              "      <th>Superplastificante (X5)</th>\n",
              "      <th>Agregado grosso (X6)</th>\n",
              "      <th>Agregado fino (X7)</th>\n",
              "    </tr>\n",
              "  </thead>\n",
              "  <tbody>\n",
              "    <tr>\n",
              "      <th>0</th>\n",
              "      <td>540.0</td>\n",
              "      <td>0.0</td>\n",
              "      <td>0.0</td>\n",
              "      <td>162.0</td>\n",
              "      <td>2.5</td>\n",
              "      <td>1040.0</td>\n",
              "      <td>676.0</td>\n",
              "    </tr>\n",
              "    <tr>\n",
              "      <th>1</th>\n",
              "      <td>540.0</td>\n",
              "      <td>0.0</td>\n",
              "      <td>0.0</td>\n",
              "      <td>162.0</td>\n",
              "      <td>2.5</td>\n",
              "      <td>1055.0</td>\n",
              "      <td>676.0</td>\n",
              "    </tr>\n",
              "    <tr>\n",
              "      <th>2</th>\n",
              "      <td>332.5</td>\n",
              "      <td>142.5</td>\n",
              "      <td>0.0</td>\n",
              "      <td>228.0</td>\n",
              "      <td>0.0</td>\n",
              "      <td>932.0</td>\n",
              "      <td>594.0</td>\n",
              "    </tr>\n",
              "    <tr>\n",
              "      <th>3</th>\n",
              "      <td>332.5</td>\n",
              "      <td>142.5</td>\n",
              "      <td>0.0</td>\n",
              "      <td>228.0</td>\n",
              "      <td>0.0</td>\n",
              "      <td>932.0</td>\n",
              "      <td>594.0</td>\n",
              "    </tr>\n",
              "    <tr>\n",
              "      <th>4</th>\n",
              "      <td>198.6</td>\n",
              "      <td>132.4</td>\n",
              "      <td>0.0</td>\n",
              "      <td>192.0</td>\n",
              "      <td>0.0</td>\n",
              "      <td>978.4</td>\n",
              "      <td>825.5</td>\n",
              "    </tr>\n",
              "  </tbody>\n",
              "</table>\n",
              "</div>"
            ],
            "text/plain": [
              "   Cimento (X1)  Escoria de alto-forno (X2)  Cinzas (X3)  Agua (X4)  Superplastificante (X5)  Agregado grosso (X6)  Agregado fino (X7)\n",
              "0         540.0                         0.0          0.0      162.0                      2.5                1040.0               676.0\n",
              "1         540.0                         0.0          0.0      162.0                      2.5                1055.0               676.0\n",
              "2         332.5                       142.5          0.0      228.0                      0.0                 932.0               594.0\n",
              "3         332.5                       142.5          0.0      228.0                      0.0                 932.0               594.0\n",
              "4         198.6                       132.4          0.0      192.0                      0.0                 978.4               825.5"
            ]
          },
          "metadata": {},
          "execution_count": 11
        }
      ]
    },
    {
      "cell_type": "markdown",
      "metadata": {
        "id": "KJUx130yZlav"
      },
      "source": [
        "## 4) Análise das variáveis contínuas"
      ]
    },
    {
      "cell_type": "markdown",
      "metadata": {
        "id": "FGilUiYCdjt0"
      },
      "source": [
        "### 4.1) Análise BoxPlot"
      ]
    },
    {
      "cell_type": "code",
      "metadata": {
        "colab": {
          "base_uri": "https://localhost:8080/",
          "height": 1000
        },
        "id": "8JGyYucdZlav",
        "outputId": "4ae5999b-76ed-41b1-df3a-471f54bb6214"
      },
      "source": [
        "# Definido faixa de variáveis que serão analisadas\n",
        "inicio = 0\n",
        "total_variáveis = len(continuous)\n",
        "\n",
        "# Tamanho da área de plotagem\n",
        "fig = plt.figure(figsize = (10,total_variáveis*2))\n",
        "\n",
        "\n",
        "# Loop pelas variáveis contínuas\n",
        "for i, col in enumerate(continuous[inicio:inicio+total_variáveis]):\n",
        "    plt.subplot(int(total_variáveis/2)+1, 2, i + 1);\n",
        "    dataset.boxplot(col);\n",
        "    plt.tight_layout()\n",
        "    \n",
        "plt.savefig('boxplot1.png')"
      ],
      "execution_count": null,
      "outputs": [
        {
          "output_type": "display_data",
          "data": {
            "image/png": "[encoded data removed]",
            "text/plain": [
              "<Figure size 720x1008 with 7 Axes>"
            ]
          },
          "metadata": {
            "needs_background": "light"
          }
        }
      ]
    },
    {
      "cell_type": "markdown",
      "metadata": {
        "id": "uZC7t3IoZlav"
      },
      "source": [
        "#### 4.1.1) Removendo outliers"
      ]
    },
    {
      "cell_type": "code",
      "metadata": {
        "id": "CZjEfeEidtZo",
        "colab": {
          "base_uri": "https://localhost:8080/"
        },
        "outputId": "8c117eaa-7cd2-4344-b79a-a3565b21120b"
      },
      "source": [
        "# Mostra colunas do dataset\n",
        "dataset.columns"
      ],
      "execution_count": null,
      "outputs": [
        {
          "output_type": "execute_result",
          "data": {
            "text/plain": [
              "Index(['Cimento (X1)', 'Escoria de alto-forno (X2)', 'Cinzas (X3)',\n",
              "       'Agua (X4)', 'Superplastificante (X5)', 'Agregado grosso (X6)',\n",
              "       'Agregado fino (X7)', 'Idade (X8)',\n",
              "       'Forca de compressao do Concreto (Y1)'],\n",
              "      dtype='object')"
            ]
          },
          "metadata": {},
          "execution_count": 13
        }
      ]
    },
    {
      "cell_type": "code",
      "metadata": {
        "id": "aK20qQWQZlav",
        "colab": {
          "base_uri": "https://localhost:8080/"
        },
        "outputId": "f8aa0a1f-af39-4225-9481-9ec68b08aea3"
      },
      "source": [
        "# identificando outiliers de uma coluna\n",
        "column = 'Superplastificante (X5)'\n",
        "y=dataset[column]\n",
        "removed_outliers = ~y.between(y.quantile(.05), y.quantile(.95))\n",
        "index_names = dataset[removed_outliers].index # INVERT removed_outliers!!\n",
        "print(f'Devem ser removidos {len(index_names)} outliers que estão nos seguintes indices:')\n",
        "print(index_names) # The resulting dates to drop.\n",
        "print(removed_outliers.value_counts())"
      ],
      "execution_count": null,
      "outputs": [
        {
          "output_type": "stream",
          "name": "stdout",
          "text": [
            "Devem ser removidos 51 outliers que estão nos seguintes indices:\n",
            "Int64Index([ 72,  73,  74,  76,  78,  83,  86,  90,  91,  92,  94,  96, 101,\n",
            "            104, 109, 110, 111, 113, 115, 120, 123, 127, 128, 129, 131, 133,\n",
            "            138, 141, 145, 146, 147, 149, 151, 155, 158, 364, 367, 368, 369,\n",
            "            805, 808, 809, 810, 861, 866, 924, 929, 962, 965, 966, 967],\n",
            "           dtype='int64')\n",
            "False    954\n",
            "True      51\n",
            "Name: Superplastificante (X5), dtype: int64\n"
          ]
        }
      ]
    },
    {
      "cell_type": "code",
      "metadata": {
        "id": "_7mfiZWdZlaw"
      },
      "source": [
        "# Removendo linhas com outliers\n",
        "# O comando só terá efeito com inplace=True\n",
        "dataset.drop(index_names, inplace=True)"
      ],
      "execution_count": null,
      "outputs": []
    },
    {
      "cell_type": "markdown",
      "metadata": {
        "id": "sLJYuZ6lZlaw"
      },
      "source": [
        " #### 4.1.2) Caso variáveis contínuas pareçam extremamente distorcidas. \n",
        " \n",
        " Aplica-se transformação de log para melhor visualização."
      ]
    },
    {
      "cell_type": "code",
      "metadata": {
        "id": "rQdkTk78Zlaw"
      },
      "source": [
        "# Transformação de log nas variáveis contínuas\n",
        "dataset_log = np.log1p(1 + dataset[continuous])"
      ],
      "execution_count": null,
      "outputs": []
    },
    {
      "cell_type": "code",
      "metadata": {
        "id": "i_72yZPYZlaw",
        "colab": {
          "base_uri": "https://localhost:8080/",
          "height": 1000
        },
        "outputId": "393e09a1-697b-466c-ac71-49d49e7d0a78"
      },
      "source": [
        "# Definido faixa de variáveis que serão analisadas\n",
        "inicio = 0\n",
        "total_variáveis = len(continuous)\n",
        "\n",
        "# Tamanho da área de plotagem\n",
        "fig = plt.figure(figsize = (10,total_variáveis*2))\n",
        "\n",
        "\n",
        "# Loop pelas variáveis contínuas\n",
        "for i, col in enumerate(continuous[inicio:inicio+total_variáveis]):\n",
        "    plt.subplot(int(total_variáveis/2)+1, 2, i + 1);\n",
        "    dataset_log.boxplot(col);\n",
        "    plt.tight_layout()\n",
        "    \n",
        "plt.savefig('boxplot2.png')"
      ],
      "execution_count": null,
      "outputs": [
        {
          "output_type": "display_data",
          "data": {
            "image/png": "[encoded data removed]",
            "text/plain": [
              "<Figure size 720x1008 with 7 Axes>"
            ]
          },
          "metadata": {
            "needs_background": "light"
          }
        }
      ]
    },
    {
      "cell_type": "markdown",
      "metadata": {
        "id": "QERH_ZyyZlax"
      },
      "source": [
        "### 4.2) Matriz de Correlação Entre Variáveis Contínuas."
      ]
    },
    {
      "cell_type": "code",
      "metadata": {
        "id": "3l-MEk0GZlax",
        "colab": {
          "base_uri": "https://localhost:8080/",
          "height": 682
        },
        "outputId": "746129e3-cae5-4987-ed2c-0a441223036d"
      },
      "source": [
        "# Área de plotagem\n",
        "plt.figure(figsize = (10,10))\n",
        "\n",
        "# Matriz de Correlação \n",
        "sns.heatmap(dataset[continuous].corr(), vmax = 1., square = True)"
      ],
      "execution_count": null,
      "outputs": [
        {
          "output_type": "execute_result",
          "data": {
            "text/plain": [
              "<matplotlib.axes._subplots.AxesSubplot at 0x7fed82c94b90>"
            ]
          },
          "metadata": {},
          "execution_count": 18
        },
        {
          "output_type": "display_data",
          "data": {
            "image/png": "[encoded data removed]",
            "text/plain": [
              "<Figure size 720x720 with 2 Axes>"
            ]
          },
          "metadata": {
            "needs_background": "light"
          }
        }
      ]
    },
    {
      "cell_type": "markdown",
      "metadata": {
        "id": "eCvI-bzueUJD"
      },
      "source": [
        "## 5) Análise das variáveis categóricas"
      ]
    },
    {
      "cell_type": "markdown",
      "metadata": {
        "id": "_JFWnJPgZlax"
      },
      "source": [
        "### 5.1) Visualização da distribuição em uma categoria especifica"
      ]
    },
    {
      "cell_type": "code",
      "metadata": {
        "colab": {
          "base_uri": "https://localhost:8080/",
          "height": 204
        },
        "id": "YcJhQCOLZlax",
        "outputId": "459927a8-3007-4deb-fb94-50e8725b1c34"
      },
      "source": [
        "# Variáveis categóricas\n",
        "dataset[categorical].head()"
      ],
      "execution_count": null,
      "outputs": [
        {
          "output_type": "execute_result",
          "data": {
            "text/html": [
              "<div>\n",
              "<style scoped>\n",
              "    .dataframe tbody tr th:only-of-type {\n",
              "        vertical-align: middle;\n",
              "    }\n",
              "\n",
              "    .dataframe tbody tr th {\n",
              "        vertical-align: top;\n",
              "    }\n",
              "\n",
              "    .dataframe thead th {\n",
              "        text-align: right;\n",
              "    }\n",
              "</style>\n",
              "<table border=\"1\" class=\"dataframe\">\n",
              "  <thead>\n",
              "    <tr style=\"text-align: right;\">\n",
              "      <th></th>\n",
              "      <th>Idade (X8)</th>\n",
              "    </tr>\n",
              "  </thead>\n",
              "  <tbody>\n",
              "    <tr>\n",
              "      <th>0</th>\n",
              "      <td>28.0</td>\n",
              "    </tr>\n",
              "    <tr>\n",
              "      <th>1</th>\n",
              "      <td>28.0</td>\n",
              "    </tr>\n",
              "    <tr>\n",
              "      <th>2</th>\n",
              "      <td>270.0</td>\n",
              "    </tr>\n",
              "    <tr>\n",
              "      <th>3</th>\n",
              "      <td>365.0</td>\n",
              "    </tr>\n",
              "    <tr>\n",
              "      <th>4</th>\n",
              "      <td>360.0</td>\n",
              "    </tr>\n",
              "  </tbody>\n",
              "</table>\n",
              "</div>"
            ],
            "text/plain": [
              "   Idade (X8)\n",
              "0        28.0\n",
              "1        28.0\n",
              "2       270.0\n",
              "3       365.0\n",
              "4       360.0"
            ]
          },
          "metadata": {},
          "execution_count": 19
        }
      ]
    },
    {
      "cell_type": "code",
      "metadata": {
        "colab": {
          "base_uri": "https://localhost:8080/",
          "height": 364
        },
        "id": "Dg7mE7OiZlax",
        "outputId": "e1ffc181-e219-4637-fd7a-27ccc8fba95f"
      },
      "source": [
        "# Countplot variavel categoria especifica\n",
        "var_considerada = 'Idade (X8)'\n",
        "sns.countplot(dataset[var_considerada])\n",
        "plt.xlabel('Classes de saídas', fontsize = 11)\n",
        "plt.ylabel('Total de observações', fontsize = 11)\n",
        "plt.title(f'Contagem de Classes para {var_considerada}\\n')\n",
        "plt.show()"
      ],
      "execution_count": null,
      "outputs": [
        {
          "output_type": "stream",
          "name": "stderr",
          "text": [
            "/usr/local/lib/python3.7/dist-packages/seaborn/_decorators.py:43: FutureWarning: Pass the following variable as a keyword arg: x. From version 0.12, the only valid positional argument will be `data`, and passing other arguments without an explicit keyword will result in an error or misinterpretation.\n",
            "  FutureWarning\n"
          ]
        },
        {
          "output_type": "display_data",
          "data": {
            "image/png": "[encoded data removed]",
            "text/plain": [
              "<Figure size 432x288 with 1 Axes>"
            ]
          },
          "metadata": {
            "needs_background": "light"
          }
        }
      ]
    },
    {
      "cell_type": "markdown",
      "metadata": {
        "id": "7JTDRqK3e__2"
      },
      "source": [
        "### 5.2) Analisando a distribuição de uma variável especifica em uma classe"
      ]
    },
    {
      "cell_type": "code",
      "metadata": {
        "colab": {
          "base_uri": "https://localhost:8080/",
          "height": 648
        },
        "id": "K5fb-U0yZlay",
        "outputId": "3be1ec8b-6e4b-4b2c-ac53-53d245226b89"
      },
      "source": [
        "# Stacked Bar Tipo de Variável x sub conjunto\n",
        "var_comparada = 'Agua (X4)'\n",
        "pd.crosstab(dataset[var_comparada], dataset[var_considerada]).plot(kind = 'bar', \n",
        "                                                   stacked = True, \n",
        "                                                   figsize = (17, 10), \n",
        "                                                   )"
      ],
      "execution_count": null,
      "outputs": [
        {
          "output_type": "execute_result",
          "data": {
            "text/plain": [
              "<matplotlib.axes._subplots.AxesSubplot at 0x7fed79d26f10>"
            ]
          },
          "metadata": {},
          "execution_count": 25
        },
        {
          "output_type": "display_data",
          "data": {
            "image/png": "[encoded data removed]",
            "text/plain": [
              "<Figure size 1224x720 with 1 Axes>"
            ]
          },
          "metadata": {
            "needs_background": "light"
          }
        }
      ]
    },
    {
      "cell_type": "markdown",
      "metadata": {
        "id": "UVQiuQEkZlay"
      },
      "source": [
        "## 6) Aplica encoder em todas as variáveis categoricas"
      ]
    },
    {
      "cell_type": "code",
      "metadata": {
        "colab": {
          "base_uri": "https://localhost:8080/"
        },
        "id": "SW2YPQlQZlay",
        "outputId": "ef39abcc-1757-49eb-95d1-2c00f06bb088"
      },
      "source": [
        "# Cria o encoder para as variáveis categóricas\n",
        "lb = LabelEncoder()\n",
        "\n",
        "# Aplica o encoder nas variáveis que estão com string\n",
        "for var in categorical:\n",
        "    dataset.loc[:,var] = lb.fit_transform(dataset[var])\n",
        "\n",
        "# Verificando valores missing\n",
        "print(dataset.isna().sum())"
      ],
      "execution_count": null,
      "outputs": [
        {
          "output_type": "stream",
          "name": "stdout",
          "text": [
            "Cimento (X1)                            0\n",
            "Escoria de alto-forno (X2)              0\n",
            "Cinzas (X3)                             0\n",
            "Agua (X4)                               0\n",
            "Superplastificante (X5)                 0\n",
            "Agregado grosso (X6)                    0\n",
            "Agregado fino (X7)                      0\n",
            "Idade (X8)                              0\n",
            "Forca de compressao do Concreto (Y1)    0\n",
            "dtype: int64\n"
          ]
        }
      ]
    },
    {
      "cell_type": "code",
      "metadata": {
        "colab": {
          "base_uri": "https://localhost:8080/",
          "height": 436
        },
        "id": "5yB4OHAuZlay",
        "outputId": "8c3f0eaf-db6a-4530-fdd8-bbd270150091"
      },
      "source": [
        "# Remove valores missing eventualmente gerados\n",
        "# O comando só terá efeito com inplace=True\n",
        "dataset.dropna(inplace = False)"
      ],
      "execution_count": null,
      "outputs": [
        {
          "output_type": "execute_result",
          "data": {
            "text/html": [
              "<div>\n",
              "<style scoped>\n",
              "    .dataframe tbody tr th:only-of-type {\n",
              "        vertical-align: middle;\n",
              "    }\n",
              "\n",
              "    .dataframe tbody tr th {\n",
              "        vertical-align: top;\n",
              "    }\n",
              "\n",
              "    .dataframe thead th {\n",
              "        text-align: right;\n",
              "    }\n",
              "</style>\n",
              "<table border=\"1\" class=\"dataframe\">\n",
              "  <thead>\n",
              "    <tr style=\"text-align: right;\">\n",
              "      <th></th>\n",
              "      <th>Cimento (X1)</th>\n",
              "      <th>Escoria de alto-forno (X2)</th>\n",
              "      <th>Cinzas (X3)</th>\n",
              "      <th>Agua (X4)</th>\n",
              "      <th>Superplastificante (X5)</th>\n",
              "      <th>Agregado grosso (X6)</th>\n",
              "      <th>Agregado fino (X7)</th>\n",
              "      <th>Idade (X8)</th>\n",
              "      <th>Forca de compressao do Concreto (Y1)</th>\n",
              "    </tr>\n",
              "  </thead>\n",
              "  <tbody>\n",
              "    <tr>\n",
              "      <th>0</th>\n",
              "      <td>540.0</td>\n",
              "      <td>0.0</td>\n",
              "      <td>0.0</td>\n",
              "      <td>162.0</td>\n",
              "      <td>2.5</td>\n",
              "      <td>1040.0</td>\n",
              "      <td>676.0</td>\n",
              "      <td>4</td>\n",
              "      <td>79.986111</td>\n",
              "    </tr>\n",
              "    <tr>\n",
              "      <th>1</th>\n",
              "      <td>540.0</td>\n",
              "      <td>0.0</td>\n",
              "      <td>0.0</td>\n",
              "      <td>162.0</td>\n",
              "      <td>2.5</td>\n",
              "      <td>1055.0</td>\n",
              "      <td>676.0</td>\n",
              "      <td>4</td>\n",
              "      <td>61.887366</td>\n",
              "    </tr>\n",
              "    <tr>\n",
              "      <th>2</th>\n",
              "      <td>332.5</td>\n",
              "      <td>142.5</td>\n",
              "      <td>0.0</td>\n",
              "      <td>228.0</td>\n",
              "      <td>0.0</td>\n",
              "      <td>932.0</td>\n",
              "      <td>594.0</td>\n",
              "      <td>11</td>\n",
              "      <td>40.269535</td>\n",
              "    </tr>\n",
              "    <tr>\n",
              "      <th>3</th>\n",
              "      <td>332.5</td>\n",
              "      <td>142.5</td>\n",
              "      <td>0.0</td>\n",
              "      <td>228.0</td>\n",
              "      <td>0.0</td>\n",
              "      <td>932.0</td>\n",
              "      <td>594.0</td>\n",
              "      <td>13</td>\n",
              "      <td>41.052780</td>\n",
              "    </tr>\n",
              "    <tr>\n",
              "      <th>4</th>\n",
              "      <td>198.6</td>\n",
              "      <td>132.4</td>\n",
              "      <td>0.0</td>\n",
              "      <td>192.0</td>\n",
              "      <td>0.0</td>\n",
              "      <td>978.4</td>\n",
              "      <td>825.5</td>\n",
              "      <td>12</td>\n",
              "      <td>44.296075</td>\n",
              "    </tr>\n",
              "    <tr>\n",
              "      <th>...</th>\n",
              "      <td>...</td>\n",
              "      <td>...</td>\n",
              "      <td>...</td>\n",
              "      <td>...</td>\n",
              "      <td>...</td>\n",
              "      <td>...</td>\n",
              "      <td>...</td>\n",
              "      <td>...</td>\n",
              "      <td>...</td>\n",
              "    </tr>\n",
              "    <tr>\n",
              "      <th>1000</th>\n",
              "      <td>276.4</td>\n",
              "      <td>116.0</td>\n",
              "      <td>90.3</td>\n",
              "      <td>179.6</td>\n",
              "      <td>8.9</td>\n",
              "      <td>870.1</td>\n",
              "      <td>768.3</td>\n",
              "      <td>4</td>\n",
              "      <td>44.284354</td>\n",
              "    </tr>\n",
              "    <tr>\n",
              "      <th>1001</th>\n",
              "      <td>322.2</td>\n",
              "      <td>0.0</td>\n",
              "      <td>115.6</td>\n",
              "      <td>196.0</td>\n",
              "      <td>10.4</td>\n",
              "      <td>817.9</td>\n",
              "      <td>813.4</td>\n",
              "      <td>4</td>\n",
              "      <td>31.178794</td>\n",
              "    </tr>\n",
              "    <tr>\n",
              "      <th>1002</th>\n",
              "      <td>148.5</td>\n",
              "      <td>139.4</td>\n",
              "      <td>108.6</td>\n",
              "      <td>192.7</td>\n",
              "      <td>6.1</td>\n",
              "      <td>892.4</td>\n",
              "      <td>780.0</td>\n",
              "      <td>4</td>\n",
              "      <td>23.696601</td>\n",
              "    </tr>\n",
              "    <tr>\n",
              "      <th>1003</th>\n",
              "      <td>159.1</td>\n",
              "      <td>186.7</td>\n",
              "      <td>0.0</td>\n",
              "      <td>175.6</td>\n",
              "      <td>11.3</td>\n",
              "      <td>989.6</td>\n",
              "      <td>788.9</td>\n",
              "      <td>4</td>\n",
              "      <td>32.768036</td>\n",
              "    </tr>\n",
              "    <tr>\n",
              "      <th>1004</th>\n",
              "      <td>260.9</td>\n",
              "      <td>100.5</td>\n",
              "      <td>78.3</td>\n",
              "      <td>200.6</td>\n",
              "      <td>8.6</td>\n",
              "      <td>864.5</td>\n",
              "      <td>761.5</td>\n",
              "      <td>4</td>\n",
              "      <td>32.401235</td>\n",
              "    </tr>\n",
              "  </tbody>\n",
              "</table>\n",
              "<p>954 rows × 9 columns</p>\n",
              "</div>"
            ],
            "text/plain": [
              "      Cimento (X1)  Escoria de alto-forno (X2)  Cinzas (X3)  Agua (X4)  Superplastificante (X5)  Agregado grosso (X6)  Agregado fino (X7)  Idade (X8)  Forca de compressao do Concreto (Y1)\n",
              "0            540.0                         0.0          0.0      162.0                      2.5                1040.0               676.0           4                             79.986111\n",
              "1            540.0                         0.0          0.0      162.0                      2.5                1055.0               676.0           4                             61.887366\n",
              "2            332.5                       142.5          0.0      228.0                      0.0                 932.0               594.0          11                             40.269535\n",
              "3            332.5                       142.5          0.0      228.0                      0.0                 932.0               594.0          13                             41.052780\n",
              "4            198.6                       132.4          0.0      192.0                      0.0                 978.4               825.5          12                             44.296075\n",
              "...            ...                         ...          ...        ...                      ...                   ...                 ...         ...                                   ...\n",
              "1000         276.4                       116.0         90.3      179.6                      8.9                 870.1               768.3           4                             44.284354\n",
              "1001         322.2                         0.0        115.6      196.0                     10.4                 817.9               813.4           4                             31.178794\n",
              "1002         148.5                       139.4        108.6      192.7                      6.1                 892.4               780.0           4                             23.696601\n",
              "1003         159.1                       186.7          0.0      175.6                     11.3                 989.6               788.9           4                             32.768036\n",
              "1004         260.9                       100.5         78.3      200.6                      8.6                 864.5               761.5           4                             32.401235\n",
              "\n",
              "[954 rows x 9 columns]"
            ]
          },
          "metadata": {},
          "execution_count": 27
        }
      ]
    },
    {
      "cell_type": "code",
      "metadata": {
        "colab": {
          "base_uri": "https://localhost:8080/"
        },
        "id": "fnob4Gh3Zlay",
        "outputId": "acfac643-8f13-4ca6-9a0d-aee768283ce4"
      },
      "source": [
        "# Verificando Valores Únicos\n",
        "dataset.nunique()"
      ],
      "execution_count": null,
      "outputs": [
        {
          "output_type": "execute_result",
          "data": {
            "text/plain": [
              "Cimento (X1)                            270\n",
              "Escoria de alto-forno (X2)              178\n",
              "Cinzas (X3)                             149\n",
              "Agua (X4)                               191\n",
              "Superplastificante (X5)                 136\n",
              "Agregado grosso (X6)                    274\n",
              "Agregado fino (X7)                      288\n",
              "Idade (X8)                               14\n",
              "Forca de compressao do Concreto (Y1)    894\n",
              "dtype: int64"
            ]
          },
          "metadata": {},
          "execution_count": 28
        }
      ]
    },
    {
      "cell_type": "code",
      "metadata": {
        "colab": {
          "base_uri": "https://localhost:8080/",
          "height": 419
        },
        "id": "Y37biO1rZlay",
        "outputId": "28c6bad3-a3cf-497f-90e1-8ee0f20360bd"
      },
      "source": [
        "# Variáveis categóricas após encoder\n",
        "dataset[categorical]"
      ],
      "execution_count": null,
      "outputs": [
        {
          "output_type": "execute_result",
          "data": {
            "text/html": [
              "<div>\n",
              "<style scoped>\n",
              "    .dataframe tbody tr th:only-of-type {\n",
              "        vertical-align: middle;\n",
              "    }\n",
              "\n",
              "    .dataframe tbody tr th {\n",
              "        vertical-align: top;\n",
              "    }\n",
              "\n",
              "    .dataframe thead th {\n",
              "        text-align: right;\n",
              "    }\n",
              "</style>\n",
              "<table border=\"1\" class=\"dataframe\">\n",
              "  <thead>\n",
              "    <tr style=\"text-align: right;\">\n",
              "      <th></th>\n",
              "      <th>Idade (X8)</th>\n",
              "    </tr>\n",
              "  </thead>\n",
              "  <tbody>\n",
              "    <tr>\n",
              "      <th>0</th>\n",
              "      <td>4</td>\n",
              "    </tr>\n",
              "    <tr>\n",
              "      <th>1</th>\n",
              "      <td>4</td>\n",
              "    </tr>\n",
              "    <tr>\n",
              "      <th>2</th>\n",
              "      <td>11</td>\n",
              "    </tr>\n",
              "    <tr>\n",
              "      <th>3</th>\n",
              "      <td>13</td>\n",
              "    </tr>\n",
              "    <tr>\n",
              "      <th>4</th>\n",
              "      <td>12</td>\n",
              "    </tr>\n",
              "    <tr>\n",
              "      <th>...</th>\n",
              "      <td>...</td>\n",
              "    </tr>\n",
              "    <tr>\n",
              "      <th>1000</th>\n",
              "      <td>4</td>\n",
              "    </tr>\n",
              "    <tr>\n",
              "      <th>1001</th>\n",
              "      <td>4</td>\n",
              "    </tr>\n",
              "    <tr>\n",
              "      <th>1002</th>\n",
              "      <td>4</td>\n",
              "    </tr>\n",
              "    <tr>\n",
              "      <th>1003</th>\n",
              "      <td>4</td>\n",
              "    </tr>\n",
              "    <tr>\n",
              "      <th>1004</th>\n",
              "      <td>4</td>\n",
              "    </tr>\n",
              "  </tbody>\n",
              "</table>\n",
              "<p>954 rows × 1 columns</p>\n",
              "</div>"
            ],
            "text/plain": [
              "      Idade (X8)\n",
              "0              4\n",
              "1              4\n",
              "2             11\n",
              "3             13\n",
              "4             12\n",
              "...          ...\n",
              "1000           4\n",
              "1001           4\n",
              "1002           4\n",
              "1003           4\n",
              "1004           4\n",
              "\n",
              "[954 rows x 1 columns]"
            ]
          },
          "metadata": {},
          "execution_count": 29
        }
      ]
    },
    {
      "cell_type": "markdown",
      "metadata": {
        "id": "ZivHVp2yZlay"
      },
      "source": [
        "## 7) Recomposição da base de dados"
      ]
    },
    {
      "cell_type": "code",
      "metadata": {
        "scrolled": true,
        "colab": {
          "base_uri": "https://localhost:8080/"
        },
        "id": "QpAN6n8UZlay",
        "outputId": "3cb3ceac-2240-4071-bacc-44d330660417"
      },
      "source": [
        "dataset.columns"
      ],
      "execution_count": null,
      "outputs": [
        {
          "output_type": "execute_result",
          "data": {
            "text/plain": [
              "Index(['Cimento (X1)', 'Escoria de alto-forno (X2)', 'Cinzas (X3)',\n",
              "       'Agua (X4)', 'Superplastificante (X5)', 'Agregado grosso (X6)',\n",
              "       'Agregado fino (X7)', 'Idade (X8)',\n",
              "       'Forca de compressao do Concreto (Y1)'],\n",
              "      dtype='object')"
            ]
          },
          "metadata": {},
          "execution_count": 30
        }
      ]
    },
    {
      "cell_type": "code",
      "metadata": {
        "id": "_GG8TwEyZlaz"
      },
      "source": [
        "# Define variáveis de entrada\n",
        "column_label_end = ['Forca de compressao do Concreto (Y1)']\n",
        "columns_input = [elemento for elemento in dataset.columns if elemento not in column_label_end]\n",
        "\n",
        "X = dataset[columns_input]\n",
        "y = dataset[column_label_end]\n",
        "\n",
        "X_res = X\n",
        "y_res = y"
      ],
      "execution_count": null,
      "outputs": []
    },
    {
      "cell_type": "code",
      "metadata": {
        "id": "G5b4Lk-RZlaz"
      },
      "source": [
        "columns = [elemento for elemento in dataset.columns if not elemento in column_label_end]\n",
        "dados_input = pd.DataFrame(X_res, columns = columns)"
      ],
      "execution_count": null,
      "outputs": []
    },
    {
      "cell_type": "code",
      "metadata": {
        "id": "Rj-JgVJkZlaz"
      },
      "source": [
        "columns = column_label_end\n",
        "dados_target = pd.DataFrame(y_res)"
      ],
      "execution_count": null,
      "outputs": []
    },
    {
      "cell_type": "code",
      "metadata": {
        "colab": {
          "base_uri": "https://localhost:8080/",
          "height": 436
        },
        "id": "fSmZP70BZlaz",
        "outputId": "112bbf41-6d5e-44bc-e633-0de02ad4063b"
      },
      "source": [
        "dataset = pd.concat([dados_input, dados_target], axis=1) # Reconstroi pands (dados)\n",
        "dataset"
      ],
      "execution_count": null,
      "outputs": [
        {
          "output_type": "execute_result",
          "data": {
            "text/html": [
              "<div>\n",
              "<style scoped>\n",
              "    .dataframe tbody tr th:only-of-type {\n",
              "        vertical-align: middle;\n",
              "    }\n",
              "\n",
              "    .dataframe tbody tr th {\n",
              "        vertical-align: top;\n",
              "    }\n",
              "\n",
              "    .dataframe thead th {\n",
              "        text-align: right;\n",
              "    }\n",
              "</style>\n",
              "<table border=\"1\" class=\"dataframe\">\n",
              "  <thead>\n",
              "    <tr style=\"text-align: right;\">\n",
              "      <th></th>\n",
              "      <th>Cimento (X1)</th>\n",
              "      <th>Escoria de alto-forno (X2)</th>\n",
              "      <th>Cinzas (X3)</th>\n",
              "      <th>Agua (X4)</th>\n",
              "      <th>Superplastificante (X5)</th>\n",
              "      <th>Agregado grosso (X6)</th>\n",
              "      <th>Agregado fino (X7)</th>\n",
              "      <th>Idade (X8)</th>\n",
              "      <th>Forca de compressao do Concreto (Y1)</th>\n",
              "    </tr>\n",
              "  </thead>\n",
              "  <tbody>\n",
              "    <tr>\n",
              "      <th>0</th>\n",
              "      <td>540.0</td>\n",
              "      <td>0.0</td>\n",
              "      <td>0.0</td>\n",
              "      <td>162.0</td>\n",
              "      <td>2.5</td>\n",
              "      <td>1040.0</td>\n",
              "      <td>676.0</td>\n",
              "      <td>4</td>\n",
              "      <td>79.986111</td>\n",
              "    </tr>\n",
              "    <tr>\n",
              "      <th>1</th>\n",
              "      <td>540.0</td>\n",
              "      <td>0.0</td>\n",
              "      <td>0.0</td>\n",
              "      <td>162.0</td>\n",
              "      <td>2.5</td>\n",
              "      <td>1055.0</td>\n",
              "      <td>676.0</td>\n",
              "      <td>4</td>\n",
              "      <td>61.887366</td>\n",
              "    </tr>\n",
              "    <tr>\n",
              "      <th>2</th>\n",
              "      <td>332.5</td>\n",
              "      <td>142.5</td>\n",
              "      <td>0.0</td>\n",
              "      <td>228.0</td>\n",
              "      <td>0.0</td>\n",
              "      <td>932.0</td>\n",
              "      <td>594.0</td>\n",
              "      <td>11</td>\n",
              "      <td>40.269535</td>\n",
              "    </tr>\n",
              "    <tr>\n",
              "      <th>3</th>\n",
              "      <td>332.5</td>\n",
              "      <td>142.5</td>\n",
              "      <td>0.0</td>\n",
              "      <td>228.0</td>\n",
              "      <td>0.0</td>\n",
              "      <td>932.0</td>\n",
              "      <td>594.0</td>\n",
              "      <td>13</td>\n",
              "      <td>41.052780</td>\n",
              "    </tr>\n",
              "    <tr>\n",
              "      <th>4</th>\n",
              "      <td>198.6</td>\n",
              "      <td>132.4</td>\n",
              "      <td>0.0</td>\n",
              "      <td>192.0</td>\n",
              "      <td>0.0</td>\n",
              "      <td>978.4</td>\n",
              "      <td>825.5</td>\n",
              "      <td>12</td>\n",
              "      <td>44.296075</td>\n",
              "    </tr>\n",
              "    <tr>\n",
              "      <th>...</th>\n",
              "      <td>...</td>\n",
              "      <td>...</td>\n",
              "      <td>...</td>\n",
              "      <td>...</td>\n",
              "      <td>...</td>\n",
              "      <td>...</td>\n",
              "      <td>...</td>\n",
              "      <td>...</td>\n",
              "      <td>...</td>\n",
              "    </tr>\n",
              "    <tr>\n",
              "      <th>1000</th>\n",
              "      <td>276.4</td>\n",
              "      <td>116.0</td>\n",
              "      <td>90.3</td>\n",
              "      <td>179.6</td>\n",
              "      <td>8.9</td>\n",
              "      <td>870.1</td>\n",
              "      <td>768.3</td>\n",
              "      <td>4</td>\n",
              "      <td>44.284354</td>\n",
              "    </tr>\n",
              "    <tr>\n",
              "      <th>1001</th>\n",
              "      <td>322.2</td>\n",
              "      <td>0.0</td>\n",
              "      <td>115.6</td>\n",
              "      <td>196.0</td>\n",
              "      <td>10.4</td>\n",
              "      <td>817.9</td>\n",
              "      <td>813.4</td>\n",
              "      <td>4</td>\n",
              "      <td>31.178794</td>\n",
              "    </tr>\n",
              "    <tr>\n",
              "      <th>1002</th>\n",
              "      <td>148.5</td>\n",
              "      <td>139.4</td>\n",
              "      <td>108.6</td>\n",
              "      <td>192.7</td>\n",
              "      <td>6.1</td>\n",
              "      <td>892.4</td>\n",
              "      <td>780.0</td>\n",
              "      <td>4</td>\n",
              "      <td>23.696601</td>\n",
              "    </tr>\n",
              "    <tr>\n",
              "      <th>1003</th>\n",
              "      <td>159.1</td>\n",
              "      <td>186.7</td>\n",
              "      <td>0.0</td>\n",
              "      <td>175.6</td>\n",
              "      <td>11.3</td>\n",
              "      <td>989.6</td>\n",
              "      <td>788.9</td>\n",
              "      <td>4</td>\n",
              "      <td>32.768036</td>\n",
              "    </tr>\n",
              "    <tr>\n",
              "      <th>1004</th>\n",
              "      <td>260.9</td>\n",
              "      <td>100.5</td>\n",
              "      <td>78.3</td>\n",
              "      <td>200.6</td>\n",
              "      <td>8.6</td>\n",
              "      <td>864.5</td>\n",
              "      <td>761.5</td>\n",
              "      <td>4</td>\n",
              "      <td>32.401235</td>\n",
              "    </tr>\n",
              "  </tbody>\n",
              "</table>\n",
              "<p>954 rows × 9 columns</p>\n",
              "</div>"
            ],
            "text/plain": [
              "      Cimento (X1)  Escoria de alto-forno (X2)  Cinzas (X3)  Agua (X4)  Superplastificante (X5)  Agregado grosso (X6)  Agregado fino (X7)  Idade (X8)  Forca de compressao do Concreto (Y1)\n",
              "0            540.0                         0.0          0.0      162.0                      2.5                1040.0               676.0           4                             79.986111\n",
              "1            540.0                         0.0          0.0      162.0                      2.5                1055.0               676.0           4                             61.887366\n",
              "2            332.5                       142.5          0.0      228.0                      0.0                 932.0               594.0          11                             40.269535\n",
              "3            332.5                       142.5          0.0      228.0                      0.0                 932.0               594.0          13                             41.052780\n",
              "4            198.6                       132.4          0.0      192.0                      0.0                 978.4               825.5          12                             44.296075\n",
              "...            ...                         ...          ...        ...                      ...                   ...                 ...         ...                                   ...\n",
              "1000         276.4                       116.0         90.3      179.6                      8.9                 870.1               768.3           4                             44.284354\n",
              "1001         322.2                         0.0        115.6      196.0                     10.4                 817.9               813.4           4                             31.178794\n",
              "1002         148.5                       139.4        108.6      192.7                      6.1                 892.4               780.0           4                             23.696601\n",
              "1003         159.1                       186.7          0.0      175.6                     11.3                 989.6               788.9           4                             32.768036\n",
              "1004         260.9                       100.5         78.3      200.6                      8.6                 864.5               761.5           4                             32.401235\n",
              "\n",
              "[954 rows x 9 columns]"
            ]
          },
          "metadata": {},
          "execution_count": 34
        }
      ]
    },
    {
      "cell_type": "markdown",
      "metadata": {
        "id": "y7t0sQKnZlaz"
      },
      "source": [
        "## 8)  Estatistica"
      ]
    },
    {
      "cell_type": "code",
      "metadata": {
        "id": "1764GPc2Zla0",
        "colab": {
          "base_uri": "https://localhost:8080/",
          "height": 314
        },
        "outputId": "4f8f5946-b416-462b-8448-5b664de42d78"
      },
      "source": [
        "dataset.describe() "
      ],
      "execution_count": null,
      "outputs": [
        {
          "output_type": "execute_result",
          "data": {
            "text/html": [
              "<div>\n",
              "<style scoped>\n",
              "    .dataframe tbody tr th:only-of-type {\n",
              "        vertical-align: middle;\n",
              "    }\n",
              "\n",
              "    .dataframe tbody tr th {\n",
              "        vertical-align: top;\n",
              "    }\n",
              "\n",
              "    .dataframe thead th {\n",
              "        text-align: right;\n",
              "    }\n",
              "</style>\n",
              "<table border=\"1\" class=\"dataframe\">\n",
              "  <thead>\n",
              "    <tr style=\"text-align: right;\">\n",
              "      <th></th>\n",
              "      <th>Cimento (X1)</th>\n",
              "      <th>Escoria de alto-forno (X2)</th>\n",
              "      <th>Cinzas (X3)</th>\n",
              "      <th>Agua (X4)</th>\n",
              "      <th>Superplastificante (X5)</th>\n",
              "      <th>Agregado grosso (X6)</th>\n",
              "      <th>Agregado fino (X7)</th>\n",
              "      <th>Idade (X8)</th>\n",
              "      <th>Forca de compressao do Concreto (Y1)</th>\n",
              "    </tr>\n",
              "  </thead>\n",
              "  <tbody>\n",
              "    <tr>\n",
              "      <th>count</th>\n",
              "      <td>954.000000</td>\n",
              "      <td>954.000000</td>\n",
              "      <td>954.000000</td>\n",
              "      <td>954.000000</td>\n",
              "      <td>954.000000</td>\n",
              "      <td>954.000000</td>\n",
              "      <td>954.000000</td>\n",
              "      <td>954.000000</td>\n",
              "      <td>954.000000</td>\n",
              "    </tr>\n",
              "    <tr>\n",
              "      <th>mean</th>\n",
              "      <td>274.074004</td>\n",
              "      <td>70.765252</td>\n",
              "      <td>55.983176</td>\n",
              "      <td>183.704350</td>\n",
              "      <td>5.226420</td>\n",
              "      <td>976.801205</td>\n",
              "      <td>771.586216</td>\n",
              "      <td>4.204403</td>\n",
              "      <td>34.564864</td>\n",
              "    </tr>\n",
              "    <tr>\n",
              "      <th>std</th>\n",
              "      <td>101.623784</td>\n",
              "      <td>86.907278</td>\n",
              "      <td>63.802431</td>\n",
              "      <td>20.421696</td>\n",
              "      <td>4.762997</td>\n",
              "      <td>76.126947</td>\n",
              "      <td>77.991580</td>\n",
              "      <td>2.508149</td>\n",
              "      <td>15.933357</td>\n",
              "    </tr>\n",
              "    <tr>\n",
              "      <th>min</th>\n",
              "      <td>102.000000</td>\n",
              "      <td>0.000000</td>\n",
              "      <td>0.000000</td>\n",
              "      <td>121.750000</td>\n",
              "      <td>0.000000</td>\n",
              "      <td>801.000000</td>\n",
              "      <td>594.000000</td>\n",
              "      <td>0.000000</td>\n",
              "      <td>2.331808</td>\n",
              "    </tr>\n",
              "    <tr>\n",
              "      <th>25%</th>\n",
              "      <td>190.425000</td>\n",
              "      <td>0.000000</td>\n",
              "      <td>0.000000</td>\n",
              "      <td>170.100000</td>\n",
              "      <td>0.000000</td>\n",
              "      <td>932.000000</td>\n",
              "      <td>727.700000</td>\n",
              "      <td>2.250000</td>\n",
              "      <td>23.159499</td>\n",
              "    </tr>\n",
              "    <tr>\n",
              "      <th>50%</th>\n",
              "      <td>254.500000</td>\n",
              "      <td>19.000000</td>\n",
              "      <td>0.000000</td>\n",
              "      <td>185.700000</td>\n",
              "      <td>5.750000</td>\n",
              "      <td>970.200000</td>\n",
              "      <td>779.320000</td>\n",
              "      <td>4.000000</td>\n",
              "      <td>33.419246</td>\n",
              "    </tr>\n",
              "    <tr>\n",
              "      <th>75%</th>\n",
              "      <td>333.000000</td>\n",
              "      <td>141.300000</td>\n",
              "      <td>118.270000</td>\n",
              "      <td>193.000000</td>\n",
              "      <td>9.520000</td>\n",
              "      <td>1040.000000</td>\n",
              "      <td>821.000000</td>\n",
              "      <td>5.000000</td>\n",
              "      <td>44.190930</td>\n",
              "    </tr>\n",
              "    <tr>\n",
              "      <th>max</th>\n",
              "      <td>540.000000</td>\n",
              "      <td>359.400000</td>\n",
              "      <td>200.100000</td>\n",
              "      <td>247.000000</td>\n",
              "      <td>15.000000</td>\n",
              "      <td>1145.000000</td>\n",
              "      <td>945.000000</td>\n",
              "      <td>13.000000</td>\n",
              "      <td>81.751169</td>\n",
              "    </tr>\n",
              "  </tbody>\n",
              "</table>\n",
              "</div>"
            ],
            "text/plain": [
              "       Cimento (X1)  Escoria de alto-forno (X2)  Cinzas (X3)   Agua (X4)  Superplastificante (X5)  Agregado grosso (X6)  Agregado fino (X7)  Idade (X8)  Forca de compressao do Concreto (Y1)\n",
              "count    954.000000                  954.000000   954.000000  954.000000               954.000000            954.000000          954.000000  954.000000                            954.000000\n",
              "mean     274.074004                   70.765252    55.983176  183.704350                 5.226420            976.801205          771.586216    4.204403                             34.564864\n",
              "std      101.623784                   86.907278    63.802431   20.421696                 4.762997             76.126947           77.991580    2.508149                             15.933357\n",
              "min      102.000000                    0.000000     0.000000  121.750000                 0.000000            801.000000          594.000000    0.000000                              2.331808\n",
              "25%      190.425000                    0.000000     0.000000  170.100000                 0.000000            932.000000          727.700000    2.250000                             23.159499\n",
              "50%      254.500000                   19.000000     0.000000  185.700000                 5.750000            970.200000          779.320000    4.000000                             33.419246\n",
              "75%      333.000000                  141.300000   118.270000  193.000000                 9.520000           1040.000000          821.000000    5.000000                             44.190930\n",
              "max      540.000000                  359.400000   200.100000  247.000000                15.000000           1145.000000          945.000000   13.000000                             81.751169"
            ]
          },
          "metadata": {},
          "execution_count": 35
        }
      ]
    },
    {
      "cell_type": "code",
      "metadata": {
        "id": "H6DXr987Zla0",
        "colab": {
          "base_uri": "https://localhost:8080/"
        },
        "outputId": "5b730a73-614e-4d69-d57f-ae0e01795494"
      },
      "source": [
        "# Calculando a média da variável de resposta\n",
        "valor_medio_esperado_na_previsao = np.ravel(dataset[column_label_end].mean())\n",
        "valor_medio_esperado_na_previsao"
      ],
      "execution_count": null,
      "outputs": [
        {
          "output_type": "execute_result",
          "data": {
            "text/plain": [
              "array([34.56486369])"
            ]
          },
          "metadata": {},
          "execution_count": 36
        }
      ]
    },
    {
      "cell_type": "code",
      "metadata": {
        "id": "K4iSEJV5Zla0",
        "colab": {
          "base_uri": "https://localhost:8080/"
        },
        "outputId": "005e2774-9094-4a41-8246-ff0d884fdc9e"
      },
      "source": [
        "# Calculando (simulando) o SSE\n",
        "# O SSE é a diferença ao quadrado entre o valor previsto e o valor observado.\n",
        "# Considerando que o valor previsto seja igual a média, podemos considerar que \n",
        "# y = média da variável target (valores observados).\n",
        "\n",
        "# Estamos apenas simulando o SSE, uma vez que a regressão ainda não foi criada e os valores previstos \n",
        "# ainda não foram calculados.\n",
        "var_output = len(column_label_end)\n",
        "squared_errors = []\n",
        "for i in range(var_output):\n",
        "    squared_errors.append(pd.Series(valor_medio_esperado_na_previsao[i] - dataset[column_label_end[i]])**2)\n",
        "    SSE = np.sum(squared_errors)\n",
        "    print ('Soma dos Quadrados dos Erros (SSE) da variável %s: %01.f' % (column_label_end[i],SSE))"
      ],
      "execution_count": null,
      "outputs": [
        {
          "output_type": "stream",
          "name": "stdout",
          "text": [
            "Soma dos Quadrados dos Erros (SSE) da variável Forca de compressao do Concreto (Y1): 241940\n"
          ]
        }
      ]
    },
    {
      "cell_type": "code",
      "metadata": {
        "id": "XtH9yv0EZla0",
        "colab": {
          "base_uri": "https://localhost:8080/",
          "height": 319
        },
        "outputId": "6372256f-a7eb-4dc0-d6d7-785dda02c2b1"
      },
      "source": [
        "# Histograma dos erros das variáveis targets.\n",
        "# Tamanho da área de plotagem\n",
        "fig = plt.figure(figsize = (10,8))\n",
        "\n",
        "for i in range(var_output):\n",
        "    plt.subplot(var_output+1, 1, i + 1);\n",
        "    hist_plot = squared_errors[i].plot(kind='hist')\n",
        "    plt.title(column_label_end[i])\n",
        "    plt.tight_layout()"
      ],
      "execution_count": null,
      "outputs": [
        {
          "output_type": "display_data",
          "data": {
            "image/png": "[encoded data removed]",
            "text/plain": [
              "<Figure size 720x576 with 1 Axes>"
            ]
          },
          "metadata": {
            "needs_background": "light"
          }
        }
      ]
    },
    {
      "cell_type": "markdown",
      "metadata": {
        "id": "dSla9ibKZla1"
      },
      "source": [
        "## 9)  Correlação entre as variáveis"
      ]
    },
    {
      "cell_type": "code",
      "metadata": {
        "id": "U4Vs6U8bZla1",
        "colab": {
          "base_uri": "https://localhost:8080/",
          "height": 362
        },
        "outputId": "4fcb42d9-2e71-402c-dc0f-78a65fbc60e7"
      },
      "source": [
        "# Visualizando a correlação em tabela\n",
        "# Coeficiente de correlação: \n",
        "# +1  = forte correlação positiva\n",
        "# 0   = não há correlação\n",
        "# -1  = forte correlação negativa\n",
        "dataset.corr()"
      ],
      "execution_count": null,
      "outputs": [
        {
          "output_type": "execute_result",
          "data": {
            "text/html": [
              "<div>\n",
              "<style scoped>\n",
              "    .dataframe tbody tr th:only-of-type {\n",
              "        vertical-align: middle;\n",
              "    }\n",
              "\n",
              "    .dataframe tbody tr th {\n",
              "        vertical-align: top;\n",
              "    }\n",
              "\n",
              "    .dataframe thead th {\n",
              "        text-align: right;\n",
              "    }\n",
              "</style>\n",
              "<table border=\"1\" class=\"dataframe\">\n",
              "  <thead>\n",
              "    <tr style=\"text-align: right;\">\n",
              "      <th></th>\n",
              "      <th>Cimento (X1)</th>\n",
              "      <th>Escoria de alto-forno (X2)</th>\n",
              "      <th>Cinzas (X3)</th>\n",
              "      <th>Agua (X4)</th>\n",
              "      <th>Superplastificante (X5)</th>\n",
              "      <th>Agregado grosso (X6)</th>\n",
              "      <th>Agregado fino (X7)</th>\n",
              "      <th>Idade (X8)</th>\n",
              "      <th>Forca de compressao do Concreto (Y1)</th>\n",
              "    </tr>\n",
              "  </thead>\n",
              "  <tbody>\n",
              "    <tr>\n",
              "      <th>Cimento (X1)</th>\n",
              "      <td>1.000000</td>\n",
              "      <td>-0.338341</td>\n",
              "      <td>-0.357396</td>\n",
              "      <td>0.031716</td>\n",
              "      <td>-0.105114</td>\n",
              "      <td>-0.042147</td>\n",
              "      <td>-0.315618</td>\n",
              "      <td>0.046120</td>\n",
              "      <td>0.455328</td>\n",
              "    </tr>\n",
              "    <tr>\n",
              "      <th>Escoria de alto-forno (X2)</th>\n",
              "      <td>-0.338341</td>\n",
              "      <td>1.000000</td>\n",
              "      <td>-0.310233</td>\n",
              "      <td>0.165676</td>\n",
              "      <td>-0.020612</td>\n",
              "      <td>-0.289499</td>\n",
              "      <td>-0.299585</td>\n",
              "      <td>-0.044468</td>\n",
              "      <td>0.082211</td>\n",
              "    </tr>\n",
              "    <tr>\n",
              "      <th>Cinzas (X3)</th>\n",
              "      <td>-0.357396</td>\n",
              "      <td>-0.310233</td>\n",
              "      <td>1.000000</td>\n",
              "      <td>-0.355349</td>\n",
              "      <td>0.594299</td>\n",
              "      <td>-0.048542</td>\n",
              "      <td>0.135554</td>\n",
              "      <td>-0.073066</td>\n",
              "      <td>-0.038930</td>\n",
              "    </tr>\n",
              "    <tr>\n",
              "      <th>Agua (X4)</th>\n",
              "      <td>0.031716</td>\n",
              "      <td>0.165676</td>\n",
              "      <td>-0.355349</td>\n",
              "      <td>1.000000</td>\n",
              "      <td>-0.594544</td>\n",
              "      <td>-0.304292</td>\n",
              "      <td>-0.444677</td>\n",
              "      <td>0.220365</td>\n",
              "      <td>-0.218460</td>\n",
              "    </tr>\n",
              "    <tr>\n",
              "      <th>Superplastificante (X5)</th>\n",
              "      <td>-0.105114</td>\n",
              "      <td>-0.020612</td>\n",
              "      <td>0.594299</td>\n",
              "      <td>-0.594544</td>\n",
              "      <td>1.000000</td>\n",
              "      <td>-0.176306</td>\n",
              "      <td>0.195236</td>\n",
              "      <td>-0.112819</td>\n",
              "      <td>0.293300</td>\n",
              "    </tr>\n",
              "    <tr>\n",
              "      <th>Agregado grosso (X6)</th>\n",
              "      <td>-0.042147</td>\n",
              "      <td>-0.289499</td>\n",
              "      <td>-0.048542</td>\n",
              "      <td>-0.304292</td>\n",
              "      <td>-0.176306</td>\n",
              "      <td>1.000000</td>\n",
              "      <td>-0.099444</td>\n",
              "      <td>-0.015356</td>\n",
              "      <td>-0.113365</td>\n",
              "    </tr>\n",
              "    <tr>\n",
              "      <th>Agregado fino (X7)</th>\n",
              "      <td>-0.315618</td>\n",
              "      <td>-0.299585</td>\n",
              "      <td>0.135554</td>\n",
              "      <td>-0.444677</td>\n",
              "      <td>0.195236</td>\n",
              "      <td>-0.099444</td>\n",
              "      <td>1.000000</td>\n",
              "      <td>-0.137635</td>\n",
              "      <td>-0.233027</td>\n",
              "    </tr>\n",
              "    <tr>\n",
              "      <th>Idade (X8)</th>\n",
              "      <td>0.046120</td>\n",
              "      <td>-0.044468</td>\n",
              "      <td>-0.073066</td>\n",
              "      <td>0.220365</td>\n",
              "      <td>-0.112819</td>\n",
              "      <td>-0.015356</td>\n",
              "      <td>-0.137635</td>\n",
              "      <td>1.000000</td>\n",
              "      <td>0.501870</td>\n",
              "    </tr>\n",
              "    <tr>\n",
              "      <th>Forca de compressao do Concreto (Y1)</th>\n",
              "      <td>0.455328</td>\n",
              "      <td>0.082211</td>\n",
              "      <td>-0.038930</td>\n",
              "      <td>-0.218460</td>\n",
              "      <td>0.293300</td>\n",
              "      <td>-0.113365</td>\n",
              "      <td>-0.233027</td>\n",
              "      <td>0.501870</td>\n",
              "      <td>1.000000</td>\n",
              "    </tr>\n",
              "  </tbody>\n",
              "</table>\n",
              "</div>"
            ],
            "text/plain": [
              "                                      Cimento (X1)  Escoria de alto-forno (X2)  Cinzas (X3)  Agua (X4)  Superplastificante (X5)  Agregado grosso (X6)  Agregado fino (X7)  Idade (X8)  Forca de compressao do Concreto (Y1)\n",
              "Cimento (X1)                              1.000000                   -0.338341    -0.357396   0.031716                -0.105114             -0.042147           -0.315618    0.046120                              0.455328\n",
              "Escoria de alto-forno (X2)               -0.338341                    1.000000    -0.310233   0.165676                -0.020612             -0.289499           -0.299585   -0.044468                              0.082211\n",
              "Cinzas (X3)                              -0.357396                   -0.310233     1.000000  -0.355349                 0.594299             -0.048542            0.135554   -0.073066                             -0.038930\n",
              "Agua (X4)                                 0.031716                    0.165676    -0.355349   1.000000                -0.594544             -0.304292           -0.444677    0.220365                             -0.218460\n",
              "Superplastificante (X5)                  -0.105114                   -0.020612     0.594299  -0.594544                 1.000000             -0.176306            0.195236   -0.112819                              0.293300\n",
              "Agregado grosso (X6)                     -0.042147                   -0.289499    -0.048542  -0.304292                -0.176306              1.000000           -0.099444   -0.015356                             -0.113365\n",
              "Agregado fino (X7)                       -0.315618                   -0.299585     0.135554  -0.444677                 0.195236             -0.099444            1.000000   -0.137635                             -0.233027\n",
              "Idade (X8)                                0.046120                   -0.044468    -0.073066   0.220365                -0.112819             -0.015356           -0.137635    1.000000                              0.501870\n",
              "Forca de compressao do Concreto (Y1)      0.455328                    0.082211    -0.038930  -0.218460                 0.293300             -0.113365           -0.233027    0.501870                              1.000000"
            ]
          },
          "metadata": {},
          "execution_count": 39
        }
      ]
    },
    {
      "cell_type": "markdown",
      "metadata": {
        "id": "V3Wfs-0sxIqa"
      },
      "source": [
        "## 9.1) Avalia considerando uma das (ou a única)  variável de saida"
      ]
    },
    {
      "cell_type": "code",
      "metadata": {
        "id": "qaRe4hwNZla1"
      },
      "source": [
        "# Considerada apenas uma saída\n",
        "# Confirmar necessidade de adicionar uma constante unitária na entrada e \n",
        "var_saida = 'Forca de compressao do Concreto (Y1)'\n",
        "Xc = sm.add_constant(X)\n",
        "modelo = sm.OLS(y[var_saida], Xc) #  modelo = sm.OLS(y[var_saida], X) #  \n",
        "modelo_v1 = modelo.fit()"
      ],
      "execution_count": null,
      "outputs": []
    },
    {
      "cell_type": "code",
      "metadata": {
        "id": "D-i5w86bZla2",
        "colab": {
          "base_uri": "https://localhost:8080/",
          "height": 625
        },
        "outputId": "5bddf321-0728-42b0-bf40-208ff956e837"
      },
      "source": [
        "modelo_v1.summary()\n",
        "# https://stats.idre.ucla.edu/stata/output/regression-analysis/"
      ],
      "execution_count": null,
      "outputs": [
        {
          "output_type": "execute_result",
          "data": {
            "text/html": [
              "<table class=\"simpletable\">\n",
              "<caption>OLS Regression Results</caption>\n",
              "<tr>\n",
              "  <th>Dep. Variable:</th>    <td>Forca de compressao do Concreto (Y1)</td> <th>  R-squared:         </th> <td>   0.737</td> \n",
              "</tr>\n",
              "<tr>\n",
              "  <th>Model:</th>                             <td>OLS</td>                 <th>  Adj. R-squared:    </th> <td>   0.735</td> \n",
              "</tr>\n",
              "<tr>\n",
              "  <th>Method:</th>                       <td>Least Squares</td>            <th>  F-statistic:       </th> <td>   331.0</td> \n",
              "</tr>\n",
              "<tr>\n",
              "  <th>Date:</th>                       <td>Wed, 06 Oct 2021</td>           <th>  Prob (F-statistic):</th> <td>6.08e-268</td>\n",
              "</tr>\n",
              "<tr>\n",
              "  <th>Time:</th>                           <td>21:25:31</td>               <th>  Log-Likelihood:    </th> <td> -3357.2</td> \n",
              "</tr>\n",
              "<tr>\n",
              "  <th>No. Observations:</th>                <td>   954</td>                <th>  AIC:               </th> <td>   6732.</td> \n",
              "</tr>\n",
              "<tr>\n",
              "  <th>Df Residuals:</th>                    <td>   945</td>                <th>  BIC:               </th> <td>   6776.</td> \n",
              "</tr>\n",
              "<tr>\n",
              "  <th>Df Model:</th>                        <td>     8</td>                <th>                     </th>     <td> </td>    \n",
              "</tr>\n",
              "<tr>\n",
              "  <th>Covariance Type:</th>                <td>nonrobust</td>              <th>                     </th>     <td> </td>    \n",
              "</tr>\n",
              "</table>\n",
              "<table class=\"simpletable\">\n",
              "<tr>\n",
              "               <td></td>                 <th>coef</th>     <th>std err</th>      <th>t</th>      <th>P>|t|</th>  <th>[0.025</th>    <th>0.975]</th>  \n",
              "</tr>\n",
              "<tr>\n",
              "  <th>const</th>                      <td>  -23.0540</td> <td>   21.434</td> <td>   -1.076</td> <td> 0.282</td> <td>  -65.117</td> <td>   19.009</td>\n",
              "</tr>\n",
              "<tr>\n",
              "  <th>Cimento (X1)</th>               <td>    0.1172</td> <td>    0.007</td> <td>   16.755</td> <td> 0.000</td> <td>    0.103</td> <td>    0.131</td>\n",
              "</tr>\n",
              "<tr>\n",
              "  <th>Escoria de alto-forno (X2)</th> <td>    0.0955</td> <td>    0.008</td> <td>   11.452</td> <td> 0.000</td> <td>    0.079</td> <td>    0.112</td>\n",
              "</tr>\n",
              "<tr>\n",
              "  <th>Cinzas (X3)</th>                <td>    0.0618</td> <td>    0.011</td> <td>    5.875</td> <td> 0.000</td> <td>    0.041</td> <td>    0.082</td>\n",
              "</tr>\n",
              "<tr>\n",
              "  <th>Agua (X4)</th>                  <td>   -0.1639</td> <td>    0.032</td> <td>   -5.121</td> <td> 0.000</td> <td>   -0.227</td> <td>   -0.101</td>\n",
              "</tr>\n",
              "<tr>\n",
              "  <th>Superplastificante (X5)</th>    <td>    0.5735</td> <td>    0.094</td> <td>    6.121</td> <td> 0.000</td> <td>    0.390</td> <td>    0.757</td>\n",
              "</tr>\n",
              "<tr>\n",
              "  <th>Agregado grosso (X6)</th>       <td>    0.0135</td> <td>    0.008</td> <td>    1.802</td> <td> 0.072</td> <td>   -0.001</td> <td>    0.028</td>\n",
              "</tr>\n",
              "<tr>\n",
              "  <th>Agregado fino (X7)</th>         <td>    0.0175</td> <td>    0.009</td> <td>    1.982</td> <td> 0.048</td> <td>    0.000</td> <td>    0.035</td>\n",
              "</tr>\n",
              "<tr>\n",
              "  <th>Idade (X8)</th>                 <td>    3.7295</td> <td>    0.110</td> <td>   33.930</td> <td> 0.000</td> <td>    3.514</td> <td>    3.945</td>\n",
              "</tr>\n",
              "</table>\n",
              "<table class=\"simpletable\">\n",
              "<tr>\n",
              "  <th>Omnibus:</th>       <td>12.888</td> <th>  Durbin-Watson:     </th> <td>   1.327</td>\n",
              "</tr>\n",
              "<tr>\n",
              "  <th>Prob(Omnibus):</th> <td> 0.002</td> <th>  Jarque-Bera (JB):  </th> <td>  21.173</td>\n",
              "</tr>\n",
              "<tr>\n",
              "  <th>Skew:</th>          <td> 0.004</td> <th>  Prob(JB):          </th> <td>2.53e-05</td>\n",
              "</tr>\n",
              "<tr>\n",
              "  <th>Kurtosis:</th>      <td> 3.730</td> <th>  Cond. No.          </th> <td>1.04e+05</td>\n",
              "</tr>\n",
              "</table><br/><br/>Warnings:<br/>[1] Standard Errors assume that the covariance matrix of the errors is correctly specified.<br/>[2] The condition number is large, 1.04e+05. This might indicate that there are<br/>strong multicollinearity or other numerical problems."
            ],
            "text/plain": [
              "<class 'statsmodels.iolib.summary.Summary'>\n",
              "\"\"\"\n",
              "                                     OLS Regression Results                                     \n",
              "================================================================================================\n",
              "Dep. Variable:     Forca de compressao do Concreto (Y1)   R-squared:                       0.737\n",
              "Model:                                              OLS   Adj. R-squared:                  0.735\n",
              "Method:                                   Least Squares   F-statistic:                     331.0\n",
              "Date:                                  Wed, 06 Oct 2021   Prob (F-statistic):          6.08e-268\n",
              "Time:                                          21:25:31   Log-Likelihood:                -3357.2\n",
              "No. Observations:                                   954   AIC:                             6732.\n",
              "Df Residuals:                                       945   BIC:                             6776.\n",
              "Df Model:                                             8                                         \n",
              "Covariance Type:                              nonrobust                                         \n",
              "==============================================================================================\n",
              "                                 coef    std err          t      P>|t|      [0.025      0.975]\n",
              "----------------------------------------------------------------------------------------------\n",
              "const                        -23.0540     21.434     -1.076      0.282     -65.117      19.009\n",
              "Cimento (X1)                   0.1172      0.007     16.755      0.000       0.103       0.131\n",
              "Escoria de alto-forno (X2)     0.0955      0.008     11.452      0.000       0.079       0.112\n",
              "Cinzas (X3)                    0.0618      0.011      5.875      0.000       0.041       0.082\n",
              "Agua (X4)                     -0.1639      0.032     -5.121      0.000      -0.227      -0.101\n",
              "Superplastificante (X5)        0.5735      0.094      6.121      0.000       0.390       0.757\n",
              "Agregado grosso (X6)           0.0135      0.008      1.802      0.072      -0.001       0.028\n",
              "Agregado fino (X7)             0.0175      0.009      1.982      0.048       0.000       0.035\n",
              "Idade (X8)                     3.7295      0.110     33.930      0.000       3.514       3.945\n",
              "==============================================================================\n",
              "Omnibus:                       12.888   Durbin-Watson:                   1.327\n",
              "Prob(Omnibus):                  0.002   Jarque-Bera (JB):               21.173\n",
              "Skew:                           0.004   Prob(JB):                     2.53e-05\n",
              "Kurtosis:                       3.730   Cond. No.                     1.04e+05\n",
              "==============================================================================\n",
              "\n",
              "Warnings:\n",
              "[1] Standard Errors assume that the covariance matrix of the errors is correctly specified.\n",
              "[2] The condition number is large, 1.04e+05. This might indicate that there are\n",
              "strong multicollinearity or other numerical problems.\n",
              "\"\"\""
            ]
          },
          "metadata": {},
          "execution_count": 41
        }
      ]
    },
    {
      "cell_type": "markdown",
      "metadata": {
        "id": "Hlmjuw9at4nU"
      },
      "source": [
        "## 10) Recomposição da base de dados"
      ]
    },
    {
      "cell_type": "code",
      "metadata": {
        "colab": {
          "base_uri": "https://localhost:8080/"
        },
        "id": "89fSWadruEjH",
        "outputId": "fbfa63b3-e3f2-4c97-deab-608668de8d0b"
      },
      "source": [
        "dataset.columns"
      ],
      "execution_count": null,
      "outputs": [
        {
          "output_type": "execute_result",
          "data": {
            "text/plain": [
              "Index(['Cimento (X1)', 'Escoria de alto-forno (X2)', 'Cinzas (X3)',\n",
              "       'Agua (X4)', 'Superplastificante (X5)', 'Agregado grosso (X6)',\n",
              "       'Agregado fino (X7)', 'Idade (X8)',\n",
              "       'Forca de compressao do Concreto (Y1)'],\n",
              "      dtype='object')"
            ]
          },
          "metadata": {},
          "execution_count": 42
        }
      ]
    },
    {
      "cell_type": "code",
      "metadata": {
        "id": "25B2agD6ugDv"
      },
      "source": [
        "# Definir variáveis de entrada\n",
        "column_label_end = ['Forca de compressao do Concreto (Y1)']\n",
        "columns_input = [elemento for elemento in dataset.columns if elemento not in column_label_end]\n",
        "\n",
        "\n",
        "X = dataset[columns_input]\n",
        "y = dataset[column_label_end]\n",
        "\n",
        "X_res = X\n",
        "y_res = y"
      ],
      "execution_count": null,
      "outputs": []
    },
    {
      "cell_type": "code",
      "metadata": {
        "id": "es5w_E0QupTc"
      },
      "source": [
        "columns = [elemento for elemento in dataset.columns if not elemento in column_label_end]\n",
        "dados_input = pd.DataFrame(X_res, columns = columns)"
      ],
      "execution_count": null,
      "outputs": []
    },
    {
      "cell_type": "code",
      "metadata": {
        "id": "wIpf2yENux9V"
      },
      "source": [
        "columns = column_label_end\n",
        "dados_target = pd.DataFrame(y_res, columns = columns)"
      ],
      "execution_count": null,
      "outputs": []
    },
    {
      "cell_type": "code",
      "metadata": {
        "colab": {
          "base_uri": "https://localhost:8080/"
        },
        "id": "MmvGCzXEu395",
        "outputId": "47960313-7e05-443c-c0eb-67cacd3b1462"
      },
      "source": [
        "dataset = pd.concat([dados_input, dados_target], axis=1) # Reconstroi pands (dados)\n",
        "dataset.shape"
      ],
      "execution_count": null,
      "outputs": [
        {
          "output_type": "execute_result",
          "data": {
            "text/plain": [
              "(954, 9)"
            ]
          },
          "metadata": {},
          "execution_count": 46
        }
      ]
    },
    {
      "cell_type": "markdown",
      "metadata": {
        "id": "UtqzBeVTnkWU"
      },
      "source": [
        "## 11) Salvar dataset após resultado da análise exploratória"
      ]
    },
    {
      "cell_type": "code",
      "metadata": {
        "id": "qkEJIiKJnkWV",
        "colab": {
          "base_uri": "https://localhost:8080/",
          "height": 436
        },
        "outputId": "34675880-1207-4aee-e062-f5cfbb214f74"
      },
      "source": [
        "dataset.to_csv(drive_dados + 'Dados_analise_exploratoria.csv', index = True)\n",
        "dataset"
      ],
      "execution_count": null,
      "outputs": [
        {
          "output_type": "execute_result",
          "data": {
            "text/html": [
              "<div>\n",
              "<style scoped>\n",
              "    .dataframe tbody tr th:only-of-type {\n",
              "        vertical-align: middle;\n",
              "    }\n",
              "\n",
              "    .dataframe tbody tr th {\n",
              "        vertical-align: top;\n",
              "    }\n",
              "\n",
              "    .dataframe thead th {\n",
              "        text-align: right;\n",
              "    }\n",
              "</style>\n",
              "<table border=\"1\" class=\"dataframe\">\n",
              "  <thead>\n",
              "    <tr style=\"text-align: right;\">\n",
              "      <th></th>\n",
              "      <th>Cimento (X1)</th>\n",
              "      <th>Escoria de alto-forno (X2)</th>\n",
              "      <th>Cinzas (X3)</th>\n",
              "      <th>Agua (X4)</th>\n",
              "      <th>Superplastificante (X5)</th>\n",
              "      <th>Agregado grosso (X6)</th>\n",
              "      <th>Agregado fino (X7)</th>\n",
              "      <th>Idade (X8)</th>\n",
              "      <th>Forca de compressao do Concreto (Y1)</th>\n",
              "    </tr>\n",
              "  </thead>\n",
              "  <tbody>\n",
              "    <tr>\n",
              "      <th>0</th>\n",
              "      <td>540.0</td>\n",
              "      <td>0.0</td>\n",
              "      <td>0.0</td>\n",
              "      <td>162.0</td>\n",
              "      <td>2.5</td>\n",
              "      <td>1040.0</td>\n",
              "      <td>676.0</td>\n",
              "      <td>4</td>\n",
              "      <td>79.986111</td>\n",
              "    </tr>\n",
              "    <tr>\n",
              "      <th>1</th>\n",
              "      <td>540.0</td>\n",
              "      <td>0.0</td>\n",
              "      <td>0.0</td>\n",
              "      <td>162.0</td>\n",
              "      <td>2.5</td>\n",
              "      <td>1055.0</td>\n",
              "      <td>676.0</td>\n",
              "      <td>4</td>\n",
              "      <td>61.887366</td>\n",
              "    </tr>\n",
              "    <tr>\n",
              "      <th>2</th>\n",
              "      <td>332.5</td>\n",
              "      <td>142.5</td>\n",
              "      <td>0.0</td>\n",
              "      <td>228.0</td>\n",
              "      <td>0.0</td>\n",
              "      <td>932.0</td>\n",
              "      <td>594.0</td>\n",
              "      <td>11</td>\n",
              "      <td>40.269535</td>\n",
              "    </tr>\n",
              "    <tr>\n",
              "      <th>3</th>\n",
              "      <td>332.5</td>\n",
              "      <td>142.5</td>\n",
              "      <td>0.0</td>\n",
              "      <td>228.0</td>\n",
              "      <td>0.0</td>\n",
              "      <td>932.0</td>\n",
              "      <td>594.0</td>\n",
              "      <td>13</td>\n",
              "      <td>41.052780</td>\n",
              "    </tr>\n",
              "    <tr>\n",
              "      <th>4</th>\n",
              "      <td>198.6</td>\n",
              "      <td>132.4</td>\n",
              "      <td>0.0</td>\n",
              "      <td>192.0</td>\n",
              "      <td>0.0</td>\n",
              "      <td>978.4</td>\n",
              "      <td>825.5</td>\n",
              "      <td>12</td>\n",
              "      <td>44.296075</td>\n",
              "    </tr>\n",
              "    <tr>\n",
              "      <th>...</th>\n",
              "      <td>...</td>\n",
              "      <td>...</td>\n",
              "      <td>...</td>\n",
              "      <td>...</td>\n",
              "      <td>...</td>\n",
              "      <td>...</td>\n",
              "      <td>...</td>\n",
              "      <td>...</td>\n",
              "      <td>...</td>\n",
              "    </tr>\n",
              "    <tr>\n",
              "      <th>1000</th>\n",
              "      <td>276.4</td>\n",
              "      <td>116.0</td>\n",
              "      <td>90.3</td>\n",
              "      <td>179.6</td>\n",
              "      <td>8.9</td>\n",
              "      <td>870.1</td>\n",
              "      <td>768.3</td>\n",
              "      <td>4</td>\n",
              "      <td>44.284354</td>\n",
              "    </tr>\n",
              "    <tr>\n",
              "      <th>1001</th>\n",
              "      <td>322.2</td>\n",
              "      <td>0.0</td>\n",
              "      <td>115.6</td>\n",
              "      <td>196.0</td>\n",
              "      <td>10.4</td>\n",
              "      <td>817.9</td>\n",
              "      <td>813.4</td>\n",
              "      <td>4</td>\n",
              "      <td>31.178794</td>\n",
              "    </tr>\n",
              "    <tr>\n",
              "      <th>1002</th>\n",
              "      <td>148.5</td>\n",
              "      <td>139.4</td>\n",
              "      <td>108.6</td>\n",
              "      <td>192.7</td>\n",
              "      <td>6.1</td>\n",
              "      <td>892.4</td>\n",
              "      <td>780.0</td>\n",
              "      <td>4</td>\n",
              "      <td>23.696601</td>\n",
              "    </tr>\n",
              "    <tr>\n",
              "      <th>1003</th>\n",
              "      <td>159.1</td>\n",
              "      <td>186.7</td>\n",
              "      <td>0.0</td>\n",
              "      <td>175.6</td>\n",
              "      <td>11.3</td>\n",
              "      <td>989.6</td>\n",
              "      <td>788.9</td>\n",
              "      <td>4</td>\n",
              "      <td>32.768036</td>\n",
              "    </tr>\n",
              "    <tr>\n",
              "      <th>1004</th>\n",
              "      <td>260.9</td>\n",
              "      <td>100.5</td>\n",
              "      <td>78.3</td>\n",
              "      <td>200.6</td>\n",
              "      <td>8.6</td>\n",
              "      <td>864.5</td>\n",
              "      <td>761.5</td>\n",
              "      <td>4</td>\n",
              "      <td>32.401235</td>\n",
              "    </tr>\n",
              "  </tbody>\n",
              "</table>\n",
              "<p>954 rows × 9 columns</p>\n",
              "</div>"
            ],
            "text/plain": [
              "      Cimento (X1)  Escoria de alto-forno (X2)  Cinzas (X3)  Agua (X4)  Superplastificante (X5)  Agregado grosso (X6)  Agregado fino (X7)  Idade (X8)  Forca de compressao do Concreto (Y1)\n",
              "0            540.0                         0.0          0.0      162.0                      2.5                1040.0               676.0           4                             79.986111\n",
              "1            540.0                         0.0          0.0      162.0                      2.5                1055.0               676.0           4                             61.887366\n",
              "2            332.5                       142.5          0.0      228.0                      0.0                 932.0               594.0          11                             40.269535\n",
              "3            332.5                       142.5          0.0      228.0                      0.0                 932.0               594.0          13                             41.052780\n",
              "4            198.6                       132.4          0.0      192.0                      0.0                 978.4               825.5          12                             44.296075\n",
              "...            ...                         ...          ...        ...                      ...                   ...                 ...         ...                                   ...\n",
              "1000         276.4                       116.0         90.3      179.6                      8.9                 870.1               768.3           4                             44.284354\n",
              "1001         322.2                         0.0        115.6      196.0                     10.4                 817.9               813.4           4                             31.178794\n",
              "1002         148.5                       139.4        108.6      192.7                      6.1                 892.4               780.0           4                             23.696601\n",
              "1003         159.1                       186.7          0.0      175.6                     11.3                 989.6               788.9           4                             32.768036\n",
              "1004         260.9                       100.5         78.3      200.6                      8.6                 864.5               761.5           4                             32.401235\n",
              "\n",
              "[954 rows x 9 columns]"
            ]
          },
          "metadata": {},
          "execution_count": 47
        }
      ]
    }
  ]
}